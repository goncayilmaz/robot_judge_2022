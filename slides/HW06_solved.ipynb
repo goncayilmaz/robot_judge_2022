{
  "cells": [
    {
      "cell_type": "markdown",
      "metadata": {
        "id": "pU99TUbq5Rn4"
      },
      "source": [
        "# HW06: ML and Causal Inference (due November 9th)\n",
        "\n",
        "**As a first part of THIS WEEK'S homework (HW06) you will have to provide feedback to two of your classmates' essays on Eduflow.** On Eduflow, you will be automatically assigned to the two essays you have to provide feedback to on Friday, in case you want to start ahead.\n",
        "\n",
        "### For the coding part of the homework, you will have to solve only one of the three exercises."
      ]
    },
    {
      "cell_type": "markdown",
      "metadata": {
        "id": "gb2Qmxpn5Rn9"
      },
      "source": [
        "## Exercise 1: Double Machine learning with XGboost\n",
        "\n",
        "In this exercise you will investigate a research question similar to the one in HW02. Namely, what is the effect of being in a Union on wages? You will use the same data as in HW02 (description of the variables can be found [here](https://rdrr.io/rforge/sampleSelection/man/nlswork.html)). Although, here instead of just including controls, you will estimate the effect of union membership on wages using double machine learning and you will use XGboost as machine learning algorithm. The regression of reference is the following: \n",
        "\n",
        "<center> $ln\\_wage_i = \\beta_0 + \\beta_1 union_i +\\varepsilon_i$ </center>"
      ]
    },
    {
      "cell_type": "code",
      "execution_count": 1,
      "metadata": {
        "id": "tYOq5dCt5Rn-"
      },
      "outputs": [],
      "source": [
        "# Load Data (NLSY)\n",
        "import pandas as pd\n",
        "df = pd.read_stata('http://www.stata-press.com/data/r16/nlswork.dta')\n",
        "df = df.dropna()"
      ]
    },
    {
      "cell_type": "code",
      "execution_count": 2,
      "metadata": {
        "id": "yBwhgSvL5RoA",
        "outputId": "a053dcc5-5a9d-48fe-c15f-da9b48d49cff",
        "colab": {
          "base_uri": "https://localhost:8080/",
          "height": 299
        }
      },
      "outputs": [
        {
          "output_type": "execute_result",
          "data": {
            "text/plain": [
              "    idcode  year  birth_yr   age   race  msp  nev_mar  grade  collgrad  \\\n",
              "2        1    72        51  20.0  black  1.0      0.0   12.0         0   \n",
              "5        1    77        51  25.0  black  0.0      0.0   12.0         0   \n",
              "7        1    80        51  28.0  black  0.0      0.0   12.0         0   \n",
              "9        1    85        51  33.0  black  0.0      0.0   12.0         0   \n",
              "10       1    87        51  35.0  black  0.0      0.0   12.0         0   \n",
              "\n",
              "    not_smsa  ...  south  ind_code  occ_code  union  wks_ue   ttl_exp  \\\n",
              "2        0.0  ...    0.0       4.0       6.0    1.0     0.0  2.256410   \n",
              "5        0.0  ...    0.0      12.0       8.0    0.0     0.0  3.775641   \n",
              "7        0.0  ...    0.0       5.0       6.0    1.0     0.0  5.294872   \n",
              "9        0.0  ...    0.0       5.0       6.0    1.0     0.0  7.160256   \n",
              "10       0.0  ...    0.0       5.0       6.0    1.0     0.0  8.987180   \n",
              "\n",
              "      tenure  hours  wks_work   ln_wage  \n",
              "2   0.916667   40.0      51.0  1.589977  \n",
              "5   1.500000   32.0      52.0  1.778681  \n",
              "7   1.833333   45.0      75.0  2.551715  \n",
              "9   1.916667   42.0      97.0  2.614172  \n",
              "10  3.916667   45.0      95.0  2.536374  \n",
              "\n",
              "[5 rows x 21 columns]"
            ],
            "text/html": [
              "\n",
              "  <div id=\"df-d223ad11-af08-4d64-a3d2-48c056ba937e\">\n",
              "    <div class=\"colab-df-container\">\n",
              "      <div>\n",
              "<style scoped>\n",
              "    .dataframe tbody tr th:only-of-type {\n",
              "        vertical-align: middle;\n",
              "    }\n",
              "\n",
              "    .dataframe tbody tr th {\n",
              "        vertical-align: top;\n",
              "    }\n",
              "\n",
              "    .dataframe thead th {\n",
              "        text-align: right;\n",
              "    }\n",
              "</style>\n",
              "<table border=\"1\" class=\"dataframe\">\n",
              "  <thead>\n",
              "    <tr style=\"text-align: right;\">\n",
              "      <th></th>\n",
              "      <th>idcode</th>\n",
              "      <th>year</th>\n",
              "      <th>birth_yr</th>\n",
              "      <th>age</th>\n",
              "      <th>race</th>\n",
              "      <th>msp</th>\n",
              "      <th>nev_mar</th>\n",
              "      <th>grade</th>\n",
              "      <th>collgrad</th>\n",
              "      <th>not_smsa</th>\n",
              "      <th>...</th>\n",
              "      <th>south</th>\n",
              "      <th>ind_code</th>\n",
              "      <th>occ_code</th>\n",
              "      <th>union</th>\n",
              "      <th>wks_ue</th>\n",
              "      <th>ttl_exp</th>\n",
              "      <th>tenure</th>\n",
              "      <th>hours</th>\n",
              "      <th>wks_work</th>\n",
              "      <th>ln_wage</th>\n",
              "    </tr>\n",
              "  </thead>\n",
              "  <tbody>\n",
              "    <tr>\n",
              "      <th>2</th>\n",
              "      <td>1</td>\n",
              "      <td>72</td>\n",
              "      <td>51</td>\n",
              "      <td>20.0</td>\n",
              "      <td>black</td>\n",
              "      <td>1.0</td>\n",
              "      <td>0.0</td>\n",
              "      <td>12.0</td>\n",
              "      <td>0</td>\n",
              "      <td>0.0</td>\n",
              "      <td>...</td>\n",
              "      <td>0.0</td>\n",
              "      <td>4.0</td>\n",
              "      <td>6.0</td>\n",
              "      <td>1.0</td>\n",
              "      <td>0.0</td>\n",
              "      <td>2.256410</td>\n",
              "      <td>0.916667</td>\n",
              "      <td>40.0</td>\n",
              "      <td>51.0</td>\n",
              "      <td>1.589977</td>\n",
              "    </tr>\n",
              "    <tr>\n",
              "      <th>5</th>\n",
              "      <td>1</td>\n",
              "      <td>77</td>\n",
              "      <td>51</td>\n",
              "      <td>25.0</td>\n",
              "      <td>black</td>\n",
              "      <td>0.0</td>\n",
              "      <td>0.0</td>\n",
              "      <td>12.0</td>\n",
              "      <td>0</td>\n",
              "      <td>0.0</td>\n",
              "      <td>...</td>\n",
              "      <td>0.0</td>\n",
              "      <td>12.0</td>\n",
              "      <td>8.0</td>\n",
              "      <td>0.0</td>\n",
              "      <td>0.0</td>\n",
              "      <td>3.775641</td>\n",
              "      <td>1.500000</td>\n",
              "      <td>32.0</td>\n",
              "      <td>52.0</td>\n",
              "      <td>1.778681</td>\n",
              "    </tr>\n",
              "    <tr>\n",
              "      <th>7</th>\n",
              "      <td>1</td>\n",
              "      <td>80</td>\n",
              "      <td>51</td>\n",
              "      <td>28.0</td>\n",
              "      <td>black</td>\n",
              "      <td>0.0</td>\n",
              "      <td>0.0</td>\n",
              "      <td>12.0</td>\n",
              "      <td>0</td>\n",
              "      <td>0.0</td>\n",
              "      <td>...</td>\n",
              "      <td>0.0</td>\n",
              "      <td>5.0</td>\n",
              "      <td>6.0</td>\n",
              "      <td>1.0</td>\n",
              "      <td>0.0</td>\n",
              "      <td>5.294872</td>\n",
              "      <td>1.833333</td>\n",
              "      <td>45.0</td>\n",
              "      <td>75.0</td>\n",
              "      <td>2.551715</td>\n",
              "    </tr>\n",
              "    <tr>\n",
              "      <th>9</th>\n",
              "      <td>1</td>\n",
              "      <td>85</td>\n",
              "      <td>51</td>\n",
              "      <td>33.0</td>\n",
              "      <td>black</td>\n",
              "      <td>0.0</td>\n",
              "      <td>0.0</td>\n",
              "      <td>12.0</td>\n",
              "      <td>0</td>\n",
              "      <td>0.0</td>\n",
              "      <td>...</td>\n",
              "      <td>0.0</td>\n",
              "      <td>5.0</td>\n",
              "      <td>6.0</td>\n",
              "      <td>1.0</td>\n",
              "      <td>0.0</td>\n",
              "      <td>7.160256</td>\n",
              "      <td>1.916667</td>\n",
              "      <td>42.0</td>\n",
              "      <td>97.0</td>\n",
              "      <td>2.614172</td>\n",
              "    </tr>\n",
              "    <tr>\n",
              "      <th>10</th>\n",
              "      <td>1</td>\n",
              "      <td>87</td>\n",
              "      <td>51</td>\n",
              "      <td>35.0</td>\n",
              "      <td>black</td>\n",
              "      <td>0.0</td>\n",
              "      <td>0.0</td>\n",
              "      <td>12.0</td>\n",
              "      <td>0</td>\n",
              "      <td>0.0</td>\n",
              "      <td>...</td>\n",
              "      <td>0.0</td>\n",
              "      <td>5.0</td>\n",
              "      <td>6.0</td>\n",
              "      <td>1.0</td>\n",
              "      <td>0.0</td>\n",
              "      <td>8.987180</td>\n",
              "      <td>3.916667</td>\n",
              "      <td>45.0</td>\n",
              "      <td>95.0</td>\n",
              "      <td>2.536374</td>\n",
              "    </tr>\n",
              "  </tbody>\n",
              "</table>\n",
              "<p>5 rows × 21 columns</p>\n",
              "</div>\n",
              "      <button class=\"colab-df-convert\" onclick=\"convertToInteractive('df-d223ad11-af08-4d64-a3d2-48c056ba937e')\"\n",
              "              title=\"Convert this dataframe to an interactive table.\"\n",
              "              style=\"display:none;\">\n",
              "        \n",
              "  <svg xmlns=\"http://www.w3.org/2000/svg\" height=\"24px\"viewBox=\"0 0 24 24\"\n",
              "       width=\"24px\">\n",
              "    <path d=\"M0 0h24v24H0V0z\" fill=\"none\"/>\n",
              "    <path d=\"M18.56 5.44l.94 2.06.94-2.06 2.06-.94-2.06-.94-.94-2.06-.94 2.06-2.06.94zm-11 1L8.5 8.5l.94-2.06 2.06-.94-2.06-.94L8.5 2.5l-.94 2.06-2.06.94zm10 10l.94 2.06.94-2.06 2.06-.94-2.06-.94-.94-2.06-.94 2.06-2.06.94z\"/><path d=\"M17.41 7.96l-1.37-1.37c-.4-.4-.92-.59-1.43-.59-.52 0-1.04.2-1.43.59L10.3 9.45l-7.72 7.72c-.78.78-.78 2.05 0 2.83L4 21.41c.39.39.9.59 1.41.59.51 0 1.02-.2 1.41-.59l7.78-7.78 2.81-2.81c.8-.78.8-2.07 0-2.86zM5.41 20L4 18.59l7.72-7.72 1.47 1.35L5.41 20z\"/>\n",
              "  </svg>\n",
              "      </button>\n",
              "      \n",
              "  <style>\n",
              "    .colab-df-container {\n",
              "      display:flex;\n",
              "      flex-wrap:wrap;\n",
              "      gap: 12px;\n",
              "    }\n",
              "\n",
              "    .colab-df-convert {\n",
              "      background-color: #E8F0FE;\n",
              "      border: none;\n",
              "      border-radius: 50%;\n",
              "      cursor: pointer;\n",
              "      display: none;\n",
              "      fill: #1967D2;\n",
              "      height: 32px;\n",
              "      padding: 0 0 0 0;\n",
              "      width: 32px;\n",
              "    }\n",
              "\n",
              "    .colab-df-convert:hover {\n",
              "      background-color: #E2EBFA;\n",
              "      box-shadow: 0px 1px 2px rgba(60, 64, 67, 0.3), 0px 1px 3px 1px rgba(60, 64, 67, 0.15);\n",
              "      fill: #174EA6;\n",
              "    }\n",
              "\n",
              "    [theme=dark] .colab-df-convert {\n",
              "      background-color: #3B4455;\n",
              "      fill: #D2E3FC;\n",
              "    }\n",
              "\n",
              "    [theme=dark] .colab-df-convert:hover {\n",
              "      background-color: #434B5C;\n",
              "      box-shadow: 0px 1px 3px 1px rgba(0, 0, 0, 0.15);\n",
              "      filter: drop-shadow(0px 1px 2px rgba(0, 0, 0, 0.3));\n",
              "      fill: #FFFFFF;\n",
              "    }\n",
              "  </style>\n",
              "\n",
              "      <script>\n",
              "        const buttonEl =\n",
              "          document.querySelector('#df-d223ad11-af08-4d64-a3d2-48c056ba937e button.colab-df-convert');\n",
              "        buttonEl.style.display =\n",
              "          google.colab.kernel.accessAllowed ? 'block' : 'none';\n",
              "\n",
              "        async function convertToInteractive(key) {\n",
              "          const element = document.querySelector('#df-d223ad11-af08-4d64-a3d2-48c056ba937e');\n",
              "          const dataTable =\n",
              "            await google.colab.kernel.invokeFunction('convertToInteractive',\n",
              "                                                     [key], {});\n",
              "          if (!dataTable) return;\n",
              "\n",
              "          const docLinkHtml = 'Like what you see? Visit the ' +\n",
              "            '<a target=\"_blank\" href=https://colab.research.google.com/notebooks/data_table.ipynb>data table notebook</a>'\n",
              "            + ' to learn more about interactive tables.';\n",
              "          element.innerHTML = '';\n",
              "          dataTable['output_type'] = 'display_data';\n",
              "          await google.colab.output.renderOutput(dataTable, element);\n",
              "          const docLink = document.createElement('div');\n",
              "          docLink.innerHTML = docLinkHtml;\n",
              "          element.appendChild(docLink);\n",
              "        }\n",
              "      </script>\n",
              "    </div>\n",
              "  </div>\n",
              "  "
            ]
          },
          "metadata": {},
          "execution_count": 2
        }
      ],
      "source": [
        "df.head()"
      ]
    },
    {
      "cell_type": "code",
      "execution_count": 3,
      "metadata": {
        "id": "Z3FZjoW25RoB"
      },
      "outputs": [],
      "source": [
        "import numpy as np\n",
        "Y = df['ln_wage']\n",
        "D = df['union']"
      ]
    },
    {
      "cell_type": "code",
      "execution_count": 4,
      "metadata": {
        "id": "vsnXEPWL5RoB",
        "outputId": "3f652f52-35e3-429f-b82a-fd6d67e8167e",
        "colab": {
          "base_uri": "https://localhost:8080/"
        }
      },
      "outputs": [
        {
          "output_type": "stream",
          "name": "stdout",
          "text": [
            "\n",
            "=======================\n",
            "               ln_wage \n",
            "-----------------------\n",
            "Intercept      1.6564  \n",
            "               (0.0045)\n",
            "union          0.2502  \n",
            "               (0.0089)\n",
            "R-squared      0.0523  \n",
            "R-squared Adj. 0.0522  \n",
            "=======================\n",
            "Standard errors in\n",
            "parentheses.\n"
          ]
        }
      ],
      "source": [
        "import statsmodels.formula.api as smf\n",
        "from statsmodels.iolib.summary2 import summary_col\n",
        "\n",
        "## Run the regression written above\n",
        "olsf = smf.ols(\"ln_wage ~ union\", df).fit(cov_type='hc1')\n",
        "print(summary_col(olsf))"
      ]
    },
    {
      "cell_type": "markdown",
      "metadata": {
        "id": "fn9zHYmT5RoC"
      },
      "source": [
        "**What could be potential sources of bias (i.e. confounders)?**"
      ]
    },
    {
      "cell_type": "code",
      "execution_count": 26,
      "metadata": {
        "id": "m3PQ70125RoC"
      },
      "outputs": [],
      "source": [
        "# fill in X with all predictors that are not colliders\n",
        "X = df[['age', 'year', 'wks_work', 'ind_code', 'grade', 'collgrad' ]]"
      ]
    },
    {
      "cell_type": "code",
      "execution_count": 27,
      "metadata": {
        "id": "LjgMMdVF5RoD"
      },
      "outputs": [],
      "source": [
        "# from sklearn.ensemble import RandomForestClassifier \n",
        "# from sklearn.ensemble import RandomForestRegressor \n",
        "from sklearn.model_selection import train_test_split\n",
        "from sklearn.metrics import (f1_score, mean_squared_error)\n",
        "\n",
        "# rfc_a = RandomForestClassifier(n_estimators=100, max_depth =30, random_state=42)\n",
        "# rfc_b = RandomForestClassifier(n_estimators=100,  max_depth =30, random_state=42)\n",
        "\n",
        "# rfr_a = RandomForestRegressor(n_estimators=100, max_depth =30, random_state=42)\n",
        "# rfr_b = RandomForestRegressor(n_estimators=100,  max_depth =30, random_state=42)\n",
        "\n",
        "# split into sample A and sample B\n",
        "X_a, X_b, D_a, D_b, y_a, y_b= train_test_split(X, D, Y, test_size=0.5)\n",
        "\n",
        "\n",
        "# Within each sample, make a validation set for xgboost early stopping\n",
        "#TODO\n",
        "X_atr, X_ats, D_atr, D_ats, y_atr, y_ats, = train_test_split(X_a, D_a, y_a, test_size=0.2)\n",
        "X_btr, X_bts, D_btr, D_bts, y_btr, y_bts = train_test_split(X_b, D_b, y_b, test_size=0.2)"
      ]
    },
    {
      "cell_type": "code",
      "execution_count": 28,
      "metadata": {
        "id": "ulVFWzzs5RoE",
        "colab": {
          "base_uri": "https://localhost:8080/"
        },
        "outputId": "23aff05e-166a-489c-920e-c6c926a80afa"
      },
      "outputs": [
        {
          "output_type": "stream",
          "name": "stdout",
          "text": [
            "[13:35:37] WARNING: /workspace/src/objective/regression_obj.cu:152: reg:linear is now deprecated in favor of reg:squarederror.\n",
            "[13:35:37] WARNING: /workspace/src/objective/regression_obj.cu:152: reg:linear is now deprecated in favor of reg:squarederror.\n",
            "RMSE on Test Set\n",
            "Sample A: 0.382366\n",
            "Sample B: 0.393297\n"
          ]
        }
      ],
      "source": [
        "# Step 1. In both samples, train an xgboost regressor model to predict log wages (outcome Y)\n",
        "# use early stopping.\n",
        "from xgboost import XGBRegressor\n",
        "xgbr_a = XGBRegressor()\n",
        "xgbr_b = XGBRegressor()\n",
        "\n",
        "xgbr_a.fit(X_atr, y_atr)\n",
        "y_hat_a = xgbr_a.predict(X_ats)\n",
        "xgbr_b.fit(X_btr, y_btr)\n",
        "y_hat_b = xgbr_b.predict(X_bts)\n",
        "\n",
        "\n",
        "print('RMSE on Test Set')\n",
        "print('Sample A: %f' % np.sqrt(mean_squared_error(y_hat_a, y_ats)))\n",
        "print('Sample B: %f' % np.sqrt(mean_squared_error(y_hat_b, y_bts)))"
      ]
    },
    {
      "cell_type": "code",
      "execution_count": 29,
      "metadata": {
        "id": "dRvJe3VZ5RoF",
        "colab": {
          "base_uri": "https://localhost:8080/"
        },
        "outputId": "cdadc9b5-ac1a-44f7-fa82-ceea178fc003"
      },
      "outputs": [
        {
          "output_type": "stream",
          "name": "stdout",
          "text": [
            "F1 Score on Test Set\n",
            "Sample A: 0.086667\n",
            "Sample B: 0.062893\n"
          ]
        }
      ],
      "source": [
        "# Step 2. In both samples, train an xgboost classifier model to predict union status (treatment D)\n",
        "# use early stopping.\n",
        "from xgboost import XGBClassifier\n",
        "xgbc_a = XGBClassifier()\n",
        "xgbc_b = XGBClassifier()\n",
        "\n",
        "xgbc_a.fit(X_atr, D_atr)\n",
        "D_hat_a = xgbc_a.predict(X_ats)\n",
        "xgbc_b.fit(X_btr, D_btr)\n",
        "D_hat_b = xgbc_b.predict(X_bts)\n",
        "\n",
        "\n",
        "print('F1 Score on Test Set')\n",
        "print('Sample A: %f' % f1_score(D_hat_a, D_ats))\n",
        "print('Sample B: %f' % f1_score(D_hat_b, D_bts))"
      ]
    },
    {
      "cell_type": "code",
      "execution_count": 31,
      "metadata": {
        "id": "q4sBAKe45RoF"
      },
      "outputs": [],
      "source": [
        "# Step 3. Cross-fitting: Form predictions in other sample.\n",
        "\n",
        "# predict wages in sample A using model trained in sample B:\n",
        "#TODO\n",
        "y_hat_a = xgbr_b.predict(X_a)\n",
        "\n",
        "# vice versa:\n",
        "#TODO\n",
        "y_hat_b = xgbr_a.predict(X_b)\n",
        "    \n",
        "# predict union status in sample A using model trained in sample B:\n",
        "#TODO\n",
        "D_hat_a = xgbc_b.predict(X_a)\n",
        "    \n",
        "# vice versa:\n",
        "#TODO\n",
        "D_hat_b = xgbc_a.predict(X_b)"
      ]
    },
    {
      "cell_type": "markdown",
      "metadata": {
        "id": "q7efuHYn5RoG"
      },
      "source": [
        "Recall that residuals for a variable $Z_i$ are computed as follows:\n",
        "\n",
        "<center>$\\tilde{Z}_i = Z_i - \\hat{Z}_i$</center>\n",
        "\n",
        "where $\\hat{Z}_i$ is the predicted value of $Z_i$"
      ]
    },
    {
      "cell_type": "code",
      "source": [
        "D_tilde_B"
      ],
      "metadata": {
        "colab": {
          "base_uri": "https://localhost:8080/"
        },
        "id": "sp-q41WlfTpG",
        "outputId": "fcee414b-992b-4268-ca55-b0b9583fddca"
      },
      "execution_count": 50,
      "outputs": [
        {
          "output_type": "execute_result",
          "data": {
            "text/plain": [
              "11724    0.0\n",
              "6821     0.0\n",
              "9977     0.0\n",
              "13746    0.0\n",
              "12624    1.0\n",
              "        ... \n",
              "6462     1.0\n",
              "24283    0.0\n",
              "27774    0.0\n",
              "14256    0.0\n",
              "4989     1.0\n",
              "Name: union, Length: 6726, dtype: float64"
            ]
          },
          "metadata": {},
          "execution_count": 50
        }
      ]
    },
    {
      "cell_type": "code",
      "execution_count": 52,
      "metadata": {
        "id": "nNCZ5gyQ5RoG",
        "colab": {
          "base_uri": "https://localhost:8080/",
          "height": 206
        },
        "outputId": "6e79efa0-1283-4b20-a261-892d58feb50e"
      },
      "outputs": [
        {
          "output_type": "execute_result",
          "data": {
            "text/plain": [
              "         wage_a  wage_b  union_a  union_b\n",
              "4061  -0.091771     NaN      0.0      NaN\n",
              "23950  0.227085     NaN      0.0      NaN\n",
              "17076 -0.023480     NaN      1.0      NaN\n",
              "2652   0.293253     NaN      1.0      NaN\n",
              "25149  0.187642     NaN      0.0      NaN"
            ],
            "text/html": [
              "\n",
              "  <div id=\"df-7373ae6b-3199-43f5-86cb-e17807a943b5\">\n",
              "    <div class=\"colab-df-container\">\n",
              "      <div>\n",
              "<style scoped>\n",
              "    .dataframe tbody tr th:only-of-type {\n",
              "        vertical-align: middle;\n",
              "    }\n",
              "\n",
              "    .dataframe tbody tr th {\n",
              "        vertical-align: top;\n",
              "    }\n",
              "\n",
              "    .dataframe thead th {\n",
              "        text-align: right;\n",
              "    }\n",
              "</style>\n",
              "<table border=\"1\" class=\"dataframe\">\n",
              "  <thead>\n",
              "    <tr style=\"text-align: right;\">\n",
              "      <th></th>\n",
              "      <th>wage_a</th>\n",
              "      <th>wage_b</th>\n",
              "      <th>union_a</th>\n",
              "      <th>union_b</th>\n",
              "    </tr>\n",
              "  </thead>\n",
              "  <tbody>\n",
              "    <tr>\n",
              "      <th>4061</th>\n",
              "      <td>-0.091771</td>\n",
              "      <td>NaN</td>\n",
              "      <td>0.0</td>\n",
              "      <td>NaN</td>\n",
              "    </tr>\n",
              "    <tr>\n",
              "      <th>23950</th>\n",
              "      <td>0.227085</td>\n",
              "      <td>NaN</td>\n",
              "      <td>0.0</td>\n",
              "      <td>NaN</td>\n",
              "    </tr>\n",
              "    <tr>\n",
              "      <th>17076</th>\n",
              "      <td>-0.023480</td>\n",
              "      <td>NaN</td>\n",
              "      <td>1.0</td>\n",
              "      <td>NaN</td>\n",
              "    </tr>\n",
              "    <tr>\n",
              "      <th>2652</th>\n",
              "      <td>0.293253</td>\n",
              "      <td>NaN</td>\n",
              "      <td>1.0</td>\n",
              "      <td>NaN</td>\n",
              "    </tr>\n",
              "    <tr>\n",
              "      <th>25149</th>\n",
              "      <td>0.187642</td>\n",
              "      <td>NaN</td>\n",
              "      <td>0.0</td>\n",
              "      <td>NaN</td>\n",
              "    </tr>\n",
              "  </tbody>\n",
              "</table>\n",
              "</div>\n",
              "      <button class=\"colab-df-convert\" onclick=\"convertToInteractive('df-7373ae6b-3199-43f5-86cb-e17807a943b5')\"\n",
              "              title=\"Convert this dataframe to an interactive table.\"\n",
              "              style=\"display:none;\">\n",
              "        \n",
              "  <svg xmlns=\"http://www.w3.org/2000/svg\" height=\"24px\"viewBox=\"0 0 24 24\"\n",
              "       width=\"24px\">\n",
              "    <path d=\"M0 0h24v24H0V0z\" fill=\"none\"/>\n",
              "    <path d=\"M18.56 5.44l.94 2.06.94-2.06 2.06-.94-2.06-.94-.94-2.06-.94 2.06-2.06.94zm-11 1L8.5 8.5l.94-2.06 2.06-.94-2.06-.94L8.5 2.5l-.94 2.06-2.06.94zm10 10l.94 2.06.94-2.06 2.06-.94-2.06-.94-.94-2.06-.94 2.06-2.06.94z\"/><path d=\"M17.41 7.96l-1.37-1.37c-.4-.4-.92-.59-1.43-.59-.52 0-1.04.2-1.43.59L10.3 9.45l-7.72 7.72c-.78.78-.78 2.05 0 2.83L4 21.41c.39.39.9.59 1.41.59.51 0 1.02-.2 1.41-.59l7.78-7.78 2.81-2.81c.8-.78.8-2.07 0-2.86zM5.41 20L4 18.59l7.72-7.72 1.47 1.35L5.41 20z\"/>\n",
              "  </svg>\n",
              "      </button>\n",
              "      \n",
              "  <style>\n",
              "    .colab-df-container {\n",
              "      display:flex;\n",
              "      flex-wrap:wrap;\n",
              "      gap: 12px;\n",
              "    }\n",
              "\n",
              "    .colab-df-convert {\n",
              "      background-color: #E8F0FE;\n",
              "      border: none;\n",
              "      border-radius: 50%;\n",
              "      cursor: pointer;\n",
              "      display: none;\n",
              "      fill: #1967D2;\n",
              "      height: 32px;\n",
              "      padding: 0 0 0 0;\n",
              "      width: 32px;\n",
              "    }\n",
              "\n",
              "    .colab-df-convert:hover {\n",
              "      background-color: #E2EBFA;\n",
              "      box-shadow: 0px 1px 2px rgba(60, 64, 67, 0.3), 0px 1px 3px 1px rgba(60, 64, 67, 0.15);\n",
              "      fill: #174EA6;\n",
              "    }\n",
              "\n",
              "    [theme=dark] .colab-df-convert {\n",
              "      background-color: #3B4455;\n",
              "      fill: #D2E3FC;\n",
              "    }\n",
              "\n",
              "    [theme=dark] .colab-df-convert:hover {\n",
              "      background-color: #434B5C;\n",
              "      box-shadow: 0px 1px 3px 1px rgba(0, 0, 0, 0.15);\n",
              "      filter: drop-shadow(0px 1px 2px rgba(0, 0, 0, 0.3));\n",
              "      fill: #FFFFFF;\n",
              "    }\n",
              "  </style>\n",
              "\n",
              "      <script>\n",
              "        const buttonEl =\n",
              "          document.querySelector('#df-7373ae6b-3199-43f5-86cb-e17807a943b5 button.colab-df-convert');\n",
              "        buttonEl.style.display =\n",
              "          google.colab.kernel.accessAllowed ? 'block' : 'none';\n",
              "\n",
              "        async function convertToInteractive(key) {\n",
              "          const element = document.querySelector('#df-7373ae6b-3199-43f5-86cb-e17807a943b5');\n",
              "          const dataTable =\n",
              "            await google.colab.kernel.invokeFunction('convertToInteractive',\n",
              "                                                     [key], {});\n",
              "          if (!dataTable) return;\n",
              "\n",
              "          const docLinkHtml = 'Like what you see? Visit the ' +\n",
              "            '<a target=\"_blank\" href=https://colab.research.google.com/notebooks/data_table.ipynb>data table notebook</a>'\n",
              "            + ' to learn more about interactive tables.';\n",
              "          element.innerHTML = '';\n",
              "          dataTable['output_type'] = 'display_data';\n",
              "          await google.colab.output.renderOutput(dataTable, element);\n",
              "          const docLink = document.createElement('div');\n",
              "          docLink.innerHTML = docLinkHtml;\n",
              "          element.appendChild(docLink);\n",
              "        }\n",
              "      </script>\n",
              "    </div>\n",
              "  </div>\n",
              "  "
            ]
          },
          "metadata": {},
          "execution_count": 52
        }
      ],
      "source": [
        "# Compute residuals for wages and union status.\n",
        "\n",
        "# residualized wages in samples A and B:\n",
        "y_tilde_A =  y_a - y_hat_a\n",
        "y_tilde_B =  y_b - y_hat_b\n",
        "\n",
        "# residualized union status in samples A and B:\n",
        "D_tilde_A =  D_a - D_hat_a #TODO\n",
        "D_tilde_B =  D_b - D_hat_b #TODO\n",
        "\n",
        "df_dml = pd.DataFrame()\n",
        "\n",
        "df_dml['wage_a'] = pd.Series(y_tilde_A)\n",
        "df_dml['wage_b'] = pd.Series(y_tilde_B)\n",
        "df_dml['union_a'] = pd.Series(D_tilde_A)\n",
        "df_dml['union_b'] = pd.Series(D_tilde_B, dtype='float64')\n",
        "\n",
        "df_dml.head()"
      ]
    },
    {
      "cell_type": "code",
      "execution_count": 57,
      "metadata": {
        "id": "2DFUyoXw5RoG",
        "colab": {
          "base_uri": "https://localhost:8080/"
        },
        "outputId": "1e68b6dc-b625-49d7-9985-2b9689f6e12b"
      },
      "outputs": [
        {
          "output_type": "stream",
          "name": "stdout",
          "text": [
            "beta: Intercept   -0.045910\n",
            "x            0.196016\n",
            "dtype: float64\n",
            "se: Intercept    0.005240\n",
            "x            0.010902\n",
            "dtype: float64\n"
          ]
        }
      ],
      "source": [
        "# Step 4. Run OLS regressions of the residualized variables and produce Double ML estimate\n",
        "## use robust standard errors \n",
        "df_dml = pd.DataFrame({'x':D_tilde_A, 'y':y_tilde_A})\n",
        "res_A = smf.ols('y~x', data=df_dml).fit()\n",
        "beta_A = res_A.params\n",
        "se_A = res_A.bse\n",
        "\n",
        "df_dml = pd.DataFrame({'x':D_tilde_B, 'y':y_tilde_B})\n",
        "res_B = smf.ols('y~x', data=df_dml).fit()\n",
        "beta_B = res_B.params\n",
        "se_B = res_B.bse\n",
        "\n",
        "##Take the average of the two coefficient and standard errors and show the result\n",
        "beta_avg = (beta_A + beta_B)/2\n",
        "se_avg = (se_A + se_B)/2\n",
        "print(f'beta: {beta_avg}')\n",
        "print(f'se: {se_avg}')"
      ]
    },
    {
      "cell_type": "markdown",
      "metadata": {
        "id": "uccfNdST5RoG"
      },
      "source": [
        "**Compare the estimates form this and the previous regression. How do these change?**\n",
        "\n",
        "The standard error is much lower with this regression and the weights of the parameters are also lower. With double ML, we ensure that our model is robust and it reduces the bias."
      ]
    },
    {
      "cell_type": "markdown",
      "metadata": {
        "id": "qoqImBuQ5RoH"
      },
      "source": [
        "**Interpret the coefficient from the double ml approach. Can it be interpreted as causal?**\n",
        "\n",
        "Yes, since the standard error is much lower, we can interpret a causality between the wage and the union variables."
      ]
    },
    {
      "cell_type": "markdown",
      "metadata": {
        "id": "MSVdY4Kj5RoH"
      },
      "source": [
        "## Exercise 2: Synthetic Control Method\n",
        "\n",
        "In this exercise we will investigate the economic effects of conflict by focusing on the Basque Country. In particular, we will focus on terrorist conflicts in late 1960's in this area and use as comparison group all other regions of Spain that did not experience terrorism. The (raw) reference regression is the following:\n",
        "\n",
        "<center>$gdpcap_r = \\beta_0 + \\beta_1 terrorism_r + \\varepsilon_r$</center>\n",
        "\n",
        "where $gdpcap_r$ is GDP per capita in region $r$ and $terrorism_r$ is a dummy equal to 1 if terrorist conflict happened in that region."
      ]
    },
    {
      "cell_type": "code",
      "execution_count": null,
      "metadata": {
        "id": "Hcm6ZdwZ5RoH"
      },
      "outputs": [],
      "source": [
        "##note that to work correctly you will also have to downgrade scipy to version 1.4.1\n",
        "!pip install scipy==1.4.1\n",
        "!pip install SyntheticControlMethods\n",
        "\n",
        "#restart the kernel after downrgading scipy"
      ]
    },
    {
      "cell_type": "code",
      "execution_count": null,
      "metadata": {
        "id": "23HCI-mO5RoI",
        "outputId": "d624dcd9-3112-4705-abee-1429afaff6d6"
      },
      "outputs": [
        {
          "data": {
            "text/html": [
              "<div>\n",
              "<style scoped>\n",
              "    .dataframe tbody tr th:only-of-type {\n",
              "        vertical-align: middle;\n",
              "    }\n",
              "\n",
              "    .dataframe tbody tr th {\n",
              "        vertical-align: top;\n",
              "    }\n",
              "\n",
              "    .dataframe thead th {\n",
              "        text-align: right;\n",
              "    }\n",
              "</style>\n",
              "<table border=\"1\" class=\"dataframe\">\n",
              "  <thead>\n",
              "    <tr style=\"text-align: right;\">\n",
              "      <th></th>\n",
              "      <th>regionname</th>\n",
              "      <th>year</th>\n",
              "      <th>gdpcap</th>\n",
              "      <th>sec.agriculture</th>\n",
              "      <th>sec.energy</th>\n",
              "      <th>sec.industry</th>\n",
              "      <th>sec.construction</th>\n",
              "      <th>sec.services.venta</th>\n",
              "      <th>sec.services.nonventa</th>\n",
              "      <th>school.illit</th>\n",
              "      <th>school.prim</th>\n",
              "      <th>school.med</th>\n",
              "      <th>school.high</th>\n",
              "      <th>school.post.high</th>\n",
              "      <th>popdens</th>\n",
              "      <th>invest</th>\n",
              "      <th>terrorism</th>\n",
              "    </tr>\n",
              "  </thead>\n",
              "  <tbody>\n",
              "    <tr>\n",
              "      <th>43</th>\n",
              "      <td>Andalucia</td>\n",
              "      <td>1955</td>\n",
              "      <td>1.688732</td>\n",
              "      <td>NaN</td>\n",
              "      <td>NaN</td>\n",
              "      <td>NaN</td>\n",
              "      <td>NaN</td>\n",
              "      <td>NaN</td>\n",
              "      <td>NaN</td>\n",
              "      <td>NaN</td>\n",
              "      <td>NaN</td>\n",
              "      <td>NaN</td>\n",
              "      <td>NaN</td>\n",
              "      <td>NaN</td>\n",
              "      <td>NaN</td>\n",
              "      <td>NaN</td>\n",
              "      <td>0</td>\n",
              "    </tr>\n",
              "    <tr>\n",
              "      <th>44</th>\n",
              "      <td>Andalucia</td>\n",
              "      <td>1956</td>\n",
              "      <td>1.758498</td>\n",
              "      <td>NaN</td>\n",
              "      <td>NaN</td>\n",
              "      <td>NaN</td>\n",
              "      <td>NaN</td>\n",
              "      <td>NaN</td>\n",
              "      <td>NaN</td>\n",
              "      <td>NaN</td>\n",
              "      <td>NaN</td>\n",
              "      <td>NaN</td>\n",
              "      <td>NaN</td>\n",
              "      <td>NaN</td>\n",
              "      <td>NaN</td>\n",
              "      <td>NaN</td>\n",
              "      <td>0</td>\n",
              "    </tr>\n",
              "    <tr>\n",
              "      <th>45</th>\n",
              "      <td>Andalucia</td>\n",
              "      <td>1957</td>\n",
              "      <td>1.827621</td>\n",
              "      <td>NaN</td>\n",
              "      <td>NaN</td>\n",
              "      <td>NaN</td>\n",
              "      <td>NaN</td>\n",
              "      <td>NaN</td>\n",
              "      <td>NaN</td>\n",
              "      <td>NaN</td>\n",
              "      <td>NaN</td>\n",
              "      <td>NaN</td>\n",
              "      <td>NaN</td>\n",
              "      <td>NaN</td>\n",
              "      <td>NaN</td>\n",
              "      <td>NaN</td>\n",
              "      <td>0</td>\n",
              "    </tr>\n",
              "    <tr>\n",
              "      <th>46</th>\n",
              "      <td>Andalucia</td>\n",
              "      <td>1958</td>\n",
              "      <td>1.852756</td>\n",
              "      <td>NaN</td>\n",
              "      <td>NaN</td>\n",
              "      <td>NaN</td>\n",
              "      <td>NaN</td>\n",
              "      <td>NaN</td>\n",
              "      <td>NaN</td>\n",
              "      <td>NaN</td>\n",
              "      <td>NaN</td>\n",
              "      <td>NaN</td>\n",
              "      <td>NaN</td>\n",
              "      <td>NaN</td>\n",
              "      <td>NaN</td>\n",
              "      <td>NaN</td>\n",
              "      <td>0</td>\n",
              "    </tr>\n",
              "    <tr>\n",
              "      <th>47</th>\n",
              "      <td>Andalucia</td>\n",
              "      <td>1959</td>\n",
              "      <td>1.878035</td>\n",
              "      <td>NaN</td>\n",
              "      <td>NaN</td>\n",
              "      <td>NaN</td>\n",
              "      <td>NaN</td>\n",
              "      <td>NaN</td>\n",
              "      <td>NaN</td>\n",
              "      <td>NaN</td>\n",
              "      <td>NaN</td>\n",
              "      <td>NaN</td>\n",
              "      <td>NaN</td>\n",
              "      <td>NaN</td>\n",
              "      <td>NaN</td>\n",
              "      <td>NaN</td>\n",
              "      <td>0</td>\n",
              "    </tr>\n",
              "  </tbody>\n",
              "</table>\n",
              "</div>"
            ],
            "text/plain": [
              "   regionname  year    gdpcap  sec.agriculture  sec.energy  sec.industry  \\\n",
              "43  Andalucia  1955  1.688732              NaN         NaN           NaN   \n",
              "44  Andalucia  1956  1.758498              NaN         NaN           NaN   \n",
              "45  Andalucia  1957  1.827621              NaN         NaN           NaN   \n",
              "46  Andalucia  1958  1.852756              NaN         NaN           NaN   \n",
              "47  Andalucia  1959  1.878035              NaN         NaN           NaN   \n",
              "\n",
              "    sec.construction  sec.services.venta  sec.services.nonventa  school.illit  \\\n",
              "43               NaN                 NaN                    NaN           NaN   \n",
              "44               NaN                 NaN                    NaN           NaN   \n",
              "45               NaN                 NaN                    NaN           NaN   \n",
              "46               NaN                 NaN                    NaN           NaN   \n",
              "47               NaN                 NaN                    NaN           NaN   \n",
              "\n",
              "    school.prim  school.med  school.high  school.post.high  popdens  invest  \\\n",
              "43          NaN         NaN          NaN               NaN      NaN     NaN   \n",
              "44          NaN         NaN          NaN               NaN      NaN     NaN   \n",
              "45          NaN         NaN          NaN               NaN      NaN     NaN   \n",
              "46          NaN         NaN          NaN               NaN      NaN     NaN   \n",
              "47          NaN         NaN          NaN               NaN      NaN     NaN   \n",
              "\n",
              "    terrorism  \n",
              "43          0  \n",
              "44          0  \n",
              "45          0  \n",
              "46          0  \n",
              "47          0  "
            ]
          },
          "execution_count": 1,
          "metadata": {},
          "output_type": "execute_result"
        }
      ],
      "source": [
        "import pandas as pd\n",
        "import statsmodels.formula.api as smf\n",
        "\n",
        "df = pd.read_csv('data/HW06_data_scm.csv')\n",
        "del df['Unnamed: 0']\n",
        "del df['regionno']\n",
        "df = df.loc[df[\"regionname\"] != \"Spain (Espana)\"] \n",
        "\n",
        "df['terrorism'] = df['regionname']=='Basque Country (Pais Vasco)'\n",
        "df['terrorism'] = df['terrorism'].astype('int')\n",
        "df.head()"
      ]
    },
    {
      "cell_type": "code",
      "execution_count": null,
      "metadata": {
        "id": "0LNiW_Uv5RsH"
      },
      "outputs": [],
      "source": [
        "import seaborn as sns\n",
        "\n",
        "##plot gdp per capita over time separately for basque country and other regions of spain\n",
        "## (i.e., separately for terrorism == 1 or 0)"
      ]
    },
    {
      "cell_type": "markdown",
      "metadata": {
        "id": "xqdO72CS5RsK"
      },
      "source": [
        "**Does the parallel trend assumption hold? If not, why do you think this is the case?**"
      ]
    },
    {
      "cell_type": "code",
      "execution_count": null,
      "metadata": {
        "id": "a0wtgrh15RsK"
      },
      "outputs": [],
      "source": [
        "## run a regression of terrorism on gdp per capita"
      ]
    },
    {
      "cell_type": "markdown",
      "metadata": {
        "id": "wusFMj2r5RsL"
      },
      "source": [
        "**What could be potential threats to a causal interpretation of this result?**"
      ]
    },
    {
      "cell_type": "code",
      "execution_count": null,
      "metadata": {
        "id": "zM1n3gAQ5RsM"
      },
      "outputs": [],
      "source": [
        "from SyntheticControlMethods import Synth, DiffSynth\n",
        "del df['terrorism']\n",
        "\n",
        "##fit the synthetic control \n"
      ]
    },
    {
      "cell_type": "code",
      "execution_count": null,
      "metadata": {
        "id": "C1lJcRj25RsM"
      },
      "outputs": [],
      "source": [
        "##visualize the plot \n"
      ]
    },
    {
      "cell_type": "markdown",
      "metadata": {
        "id": "zxhI3jMv5RsM"
      },
      "source": [
        "**What can you conclude about the effect of conflict on GDP?**"
      ]
    },
    {
      "cell_type": "code",
      "execution_count": null,
      "metadata": {
        "id": "HZk75J4y5RsM"
      },
      "outputs": [],
      "source": [
        "## Show which spanish regions were used to create the synthetic control"
      ]
    },
    {
      "cell_type": "markdown",
      "metadata": {
        "id": "DvoCFe_I5RsN"
      },
      "source": [
        "## Exercise 3: Heterogenous Treatment Effects\n",
        "\n",
        "In this exercise we will investigate the effect of case management on mental health outcomes. These data come from a randomized control trial where patients were assigned to *intensive* or *standard* case management. In this context, the treatment is being assigned to the **intensive** case management while patients assigned to the **standard** case management belong to the control group..\n",
        "\n",
        "In this exercise we will focus on heterogenous treatment effects, rather than on isolating the casual effect of the treatment. In particular, we will investigate characteristics of individuals who are most and least responsive to the treatment, i.e., to being assigned to the intensive case management. "
      ]
    },
    {
      "cell_type": "code",
      "execution_count": null,
      "metadata": {
        "id": "-XKinxyS5RsN",
        "outputId": "e28f5a04-d492-4099-fc86-a30932337cd9"
      },
      "outputs": [
        {
          "data": {
            "text/plain": [
              "{'trialid': 'Trial ID',\n",
              " 'centreid': 'Trial centre',\n",
              " 'status': 'Patient status at baseline',\n",
              " 'age': 'Age in years at baseline',\n",
              " 'sex': 'Sex',\n",
              " 'afcarib': 'Ethnic group',\n",
              " 'ocfabth': \"Father's social class at birth\",\n",
              " 'chron1l': 'Months since onset of psychosis, logged',\n",
              " 'hos94': 'Days in hospital for psychiatric reasons: 2 years before baseline',\n",
              " 'cprs94': 'Psychopathology at baseline (CPRS)',\n",
              " 'das94': 'Disability at baseline (DAS)',\n",
              " 'sat94': '(Dis)satisfaction with services at baseline',\n",
              " 'rand': 'Randomised group',\n",
              " 'hos96': 'Days in hospital for psychiatric reasons: 2 years after baseline',\n",
              " 'cprs96': 'Psychopathology at 2 years (CPRS)',\n",
              " 'sat96': '(Dis)satisfaction with services at 2 years'}"
            ]
          },
          "execution_count": 9,
          "metadata": {},
          "output_type": "execute_result"
        }
      ],
      "source": [
        "import pandas as pd\n",
        "import statsmodels.formula.api as smf\n",
        "\n",
        "df = pd.read_stata('http://www.homepages.ucl.ac.uk/~rmjwiww/stata/missing/uk500.dta')\n",
        "df = df.dropna()\n",
        "pd.read_stata('http://www.homepages.ucl.ac.uk/~rmjwiww/stata/missing/uk500.dta', iterator=True).variable_labels()"
      ]
    },
    {
      "cell_type": "code",
      "execution_count": null,
      "metadata": {
        "id": "YvzX2c1S5RsO",
        "outputId": "6dd88053-fba1-40b0-fc7b-6f48c0286746"
      },
      "outputs": [
        {
          "data": {
            "text/html": [
              "<div>\n",
              "<style scoped>\n",
              "    .dataframe tbody tr th:only-of-type {\n",
              "        vertical-align: middle;\n",
              "    }\n",
              "\n",
              "    .dataframe tbody tr th {\n",
              "        vertical-align: top;\n",
              "    }\n",
              "\n",
              "    .dataframe thead th {\n",
              "        text-align: right;\n",
              "    }\n",
              "</style>\n",
              "<table border=\"1\" class=\"dataframe\">\n",
              "  <thead>\n",
              "    <tr style=\"text-align: right;\">\n",
              "      <th></th>\n",
              "      <th>trialid</th>\n",
              "      <th>centreid</th>\n",
              "      <th>status</th>\n",
              "      <th>age</th>\n",
              "      <th>sex</th>\n",
              "      <th>afcarib</th>\n",
              "      <th>ocfabth</th>\n",
              "      <th>chron1l</th>\n",
              "      <th>hos94</th>\n",
              "      <th>cprs94</th>\n",
              "      <th>das94</th>\n",
              "      <th>sat94</th>\n",
              "      <th>rand</th>\n",
              "      <th>hos96</th>\n",
              "      <th>cprs96</th>\n",
              "      <th>sat96</th>\n",
              "    </tr>\n",
              "  </thead>\n",
              "  <tbody>\n",
              "    <tr>\n",
              "      <th>1</th>\n",
              "      <td>107.0</td>\n",
              "      <td>St George's</td>\n",
              "      <td>Out-patient</td>\n",
              "      <td>27.0</td>\n",
              "      <td>male</td>\n",
              "      <td>Other</td>\n",
              "      <td>A</td>\n",
              "      <td>3.178054</td>\n",
              "      <td>80.0</td>\n",
              "      <td>4.0</td>\n",
              "      <td>0.285714</td>\n",
              "      <td>18.0</td>\n",
              "      <td>Intensive case management</td>\n",
              "      <td>27.0</td>\n",
              "      <td>3.0</td>\n",
              "      <td>22.000</td>\n",
              "    </tr>\n",
              "    <tr>\n",
              "      <th>2</th>\n",
              "      <td>222005.0</td>\n",
              "      <td>St Mary's</td>\n",
              "      <td>In hospital</td>\n",
              "      <td>41.0</td>\n",
              "      <td>male</td>\n",
              "      <td>Other</td>\n",
              "      <td>D</td>\n",
              "      <td>4.521789</td>\n",
              "      <td>240.0</td>\n",
              "      <td>6.0</td>\n",
              "      <td>0.750000</td>\n",
              "      <td>15.0</td>\n",
              "      <td>Intensive case management</td>\n",
              "      <td>15.0</td>\n",
              "      <td>13.0</td>\n",
              "      <td>9.000</td>\n",
              "    </tr>\n",
              "    <tr>\n",
              "      <th>3</th>\n",
              "      <td>222018.0</td>\n",
              "      <td>St Mary's</td>\n",
              "      <td>In hospital</td>\n",
              "      <td>25.0</td>\n",
              "      <td>male</td>\n",
              "      <td>Other</td>\n",
              "      <td>C2</td>\n",
              "      <td>4.094345</td>\n",
              "      <td>48.0</td>\n",
              "      <td>12.0</td>\n",
              "      <td>0.125000</td>\n",
              "      <td>18.0</td>\n",
              "      <td>Intensive case management</td>\n",
              "      <td>263.0</td>\n",
              "      <td>6.0</td>\n",
              "      <td>21.375</td>\n",
              "    </tr>\n",
              "    <tr>\n",
              "      <th>5</th>\n",
              "      <td>312015.0</td>\n",
              "      <td>King's</td>\n",
              "      <td>Out-patient</td>\n",
              "      <td>31.0</td>\n",
              "      <td>female</td>\n",
              "      <td>Other</td>\n",
              "      <td>A</td>\n",
              "      <td>4.787492</td>\n",
              "      <td>60.0</td>\n",
              "      <td>28.0</td>\n",
              "      <td>2.375000</td>\n",
              "      <td>20.0</td>\n",
              "      <td>Intensive case management</td>\n",
              "      <td>45.0</td>\n",
              "      <td>19.0</td>\n",
              "      <td>17.000</td>\n",
              "    </tr>\n",
              "    <tr>\n",
              "      <th>6</th>\n",
              "      <td>221023.0</td>\n",
              "      <td>St Mary's</td>\n",
              "      <td>In hospital</td>\n",
              "      <td>35.0</td>\n",
              "      <td>male</td>\n",
              "      <td>Afro-Caribbean</td>\n",
              "      <td>C2</td>\n",
              "      <td>4.430817</td>\n",
              "      <td>60.0</td>\n",
              "      <td>25.0</td>\n",
              "      <td>1.571428</td>\n",
              "      <td>24.0</td>\n",
              "      <td>Intensive case management</td>\n",
              "      <td>58.0</td>\n",
              "      <td>27.0</td>\n",
              "      <td>19.125</td>\n",
              "    </tr>\n",
              "  </tbody>\n",
              "</table>\n",
              "</div>"
            ],
            "text/plain": [
              "    trialid     centreid       status   age     sex         afcarib ocfabth  \\\n",
              "1     107.0  St George's  Out-patient  27.0    male           Other       A   \n",
              "2  222005.0    St Mary's  In hospital  41.0    male           Other       D   \n",
              "3  222018.0    St Mary's  In hospital  25.0    male           Other      C2   \n",
              "5  312015.0       King's  Out-patient  31.0  female           Other       A   \n",
              "6  221023.0    St Mary's  In hospital  35.0    male  Afro-Caribbean      C2   \n",
              "\n",
              "    chron1l  hos94  cprs94     das94  sat94                       rand  hos96  \\\n",
              "1  3.178054   80.0     4.0  0.285714   18.0  Intensive case management   27.0   \n",
              "2  4.521789  240.0     6.0  0.750000   15.0  Intensive case management   15.0   \n",
              "3  4.094345   48.0    12.0  0.125000   18.0  Intensive case management  263.0   \n",
              "5  4.787492   60.0    28.0  2.375000   20.0  Intensive case management   45.0   \n",
              "6  4.430817   60.0    25.0  1.571428   24.0  Intensive case management   58.0   \n",
              "\n",
              "   cprs96   sat96  \n",
              "1     3.0  22.000  \n",
              "2    13.0   9.000  \n",
              "3     6.0  21.375  \n",
              "5    19.0  17.000  \n",
              "6    27.0  19.125  "
            ]
          },
          "execution_count": 10,
          "metadata": {},
          "output_type": "execute_result"
        }
      ],
      "source": [
        "df.head()"
      ]
    },
    {
      "cell_type": "markdown",
      "metadata": {
        "id": "ZVbYGBiT5RsO"
      },
      "source": [
        "The treatment variable is $rand$, the post-treatment outcomes are $hos96$, $cprs96$ and $sat96$."
      ]
    },
    {
      "cell_type": "code",
      "execution_count": null,
      "metadata": {
        "id": "R1V8H8SS5RsO",
        "outputId": "b097fa91-8dd4-4f42-90f1-dfd398446a8e"
      },
      "outputs": [
        {
          "data": {
            "text/plain": [
              "Intensive case management    130\n",
              "Standard case management     116\n",
              "Name: rand, dtype: int64"
            ]
          },
          "execution_count": 11,
          "metadata": {},
          "output_type": "execute_result"
        }
      ],
      "source": [
        "treatvar = 'rand'\n",
        "df[treatvar].value_counts()"
      ]
    },
    {
      "cell_type": "code",
      "execution_count": null,
      "metadata": {
        "id": "cfSVRfRT5RsT",
        "outputId": "9ae3ca01-3370-43ea-e2b1-1ec3a3b00aee"
      },
      "outputs": [
        {
          "data": {
            "text/html": [
              "<div>\n",
              "<style scoped>\n",
              "    .dataframe tbody tr th:only-of-type {\n",
              "        vertical-align: middle;\n",
              "    }\n",
              "\n",
              "    .dataframe tbody tr th {\n",
              "        vertical-align: top;\n",
              "    }\n",
              "\n",
              "    .dataframe thead th {\n",
              "        text-align: right;\n",
              "    }\n",
              "</style>\n",
              "<table border=\"1\" class=\"dataframe\">\n",
              "  <thead>\n",
              "    <tr style=\"text-align: right;\">\n",
              "      <th></th>\n",
              "      <th>sat96</th>\n",
              "      <th>hos96</th>\n",
              "      <th>cprs96</th>\n",
              "    </tr>\n",
              "  </thead>\n",
              "  <tbody>\n",
              "    <tr>\n",
              "      <th>count</th>\n",
              "      <td>246.000000</td>\n",
              "      <td>246.000000</td>\n",
              "      <td>246.000000</td>\n",
              "    </tr>\n",
              "    <tr>\n",
              "      <th>mean</th>\n",
              "      <td>17.271341</td>\n",
              "      <td>65.500000</td>\n",
              "      <td>17.790587</td>\n",
              "    </tr>\n",
              "    <tr>\n",
              "      <th>std</th>\n",
              "      <td>4.723009</td>\n",
              "      <td>104.046722</td>\n",
              "      <td>14.090911</td>\n",
              "    </tr>\n",
              "    <tr>\n",
              "      <th>min</th>\n",
              "      <td>9.000000</td>\n",
              "      <td>0.000000</td>\n",
              "      <td>0.000000</td>\n",
              "    </tr>\n",
              "    <tr>\n",
              "      <th>25%</th>\n",
              "      <td>14.000000</td>\n",
              "      <td>0.000000</td>\n",
              "      <td>7.000000</td>\n",
              "    </tr>\n",
              "    <tr>\n",
              "      <th>50%</th>\n",
              "      <td>17.000000</td>\n",
              "      <td>15.000000</td>\n",
              "      <td>15.000000</td>\n",
              "    </tr>\n",
              "    <tr>\n",
              "      <th>75%</th>\n",
              "      <td>20.187500</td>\n",
              "      <td>93.500000</td>\n",
              "      <td>26.000000</td>\n",
              "    </tr>\n",
              "    <tr>\n",
              "      <th>max</th>\n",
              "      <td>32.000000</td>\n",
              "      <td>692.000000</td>\n",
              "      <td>71.000000</td>\n",
              "    </tr>\n",
              "  </tbody>\n",
              "</table>\n",
              "</div>"
            ],
            "text/plain": [
              "            sat96       hos96      cprs96\n",
              "count  246.000000  246.000000  246.000000\n",
              "mean    17.271341   65.500000   17.790587\n",
              "std      4.723009  104.046722   14.090911\n",
              "min      9.000000    0.000000    0.000000\n",
              "25%     14.000000    0.000000    7.000000\n",
              "50%     17.000000   15.000000   15.000000\n",
              "75%     20.187500   93.500000   26.000000\n",
              "max     32.000000  692.000000   71.000000"
            ]
          },
          "execution_count": 12,
          "metadata": {},
          "output_type": "execute_result"
        }
      ],
      "source": [
        "outcomes = ['sat96', 'hos96', 'cprs96']\n",
        "df[outcomes].describe()"
      ]
    },
    {
      "cell_type": "markdown",
      "metadata": {
        "id": "EdBQxBI35RsT"
      },
      "source": [
        "In addition to these variables we need a set of covariates that we want to use to identify individuals who are most and least responsive to treatment. We also encode categorical covariates and prepare them for the ML model"
      ]
    },
    {
      "cell_type": "code",
      "execution_count": null,
      "metadata": {
        "id": "_s6OtqSj5RsT",
        "outputId": "facf2b63-72c2-4d98-8bfd-0dae20e1dcb8"
      },
      "outputs": [
        {
          "data": {
            "text/html": [
              "<div>\n",
              "<style scoped>\n",
              "    .dataframe tbody tr th:only-of-type {\n",
              "        vertical-align: middle;\n",
              "    }\n",
              "\n",
              "    .dataframe tbody tr th {\n",
              "        vertical-align: top;\n",
              "    }\n",
              "\n",
              "    .dataframe thead th {\n",
              "        text-align: right;\n",
              "    }\n",
              "</style>\n",
              "<table border=\"1\" class=\"dataframe\">\n",
              "  <thead>\n",
              "    <tr style=\"text-align: right;\">\n",
              "      <th></th>\n",
              "      <th>status</th>\n",
              "      <th>sex</th>\n",
              "      <th>sat94</th>\n",
              "      <th>ocfabth</th>\n",
              "      <th>hos94</th>\n",
              "      <th>das94</th>\n",
              "      <th>cprs94</th>\n",
              "      <th>age</th>\n",
              "      <th>afcarib</th>\n",
              "    </tr>\n",
              "  </thead>\n",
              "  <tbody>\n",
              "    <tr>\n",
              "      <th>1</th>\n",
              "      <td>1.0</td>\n",
              "      <td>1.0</td>\n",
              "      <td>18.0</td>\n",
              "      <td>0.0</td>\n",
              "      <td>80.0</td>\n",
              "      <td>0.285714</td>\n",
              "      <td>4.0</td>\n",
              "      <td>27.0</td>\n",
              "      <td>1.0</td>\n",
              "    </tr>\n",
              "    <tr>\n",
              "      <th>2</th>\n",
              "      <td>0.0</td>\n",
              "      <td>1.0</td>\n",
              "      <td>15.0</td>\n",
              "      <td>4.0</td>\n",
              "      <td>240.0</td>\n",
              "      <td>0.750000</td>\n",
              "      <td>6.0</td>\n",
              "      <td>41.0</td>\n",
              "      <td>1.0</td>\n",
              "    </tr>\n",
              "    <tr>\n",
              "      <th>3</th>\n",
              "      <td>0.0</td>\n",
              "      <td>1.0</td>\n",
              "      <td>18.0</td>\n",
              "      <td>3.0</td>\n",
              "      <td>48.0</td>\n",
              "      <td>0.125000</td>\n",
              "      <td>12.0</td>\n",
              "      <td>25.0</td>\n",
              "      <td>1.0</td>\n",
              "    </tr>\n",
              "    <tr>\n",
              "      <th>5</th>\n",
              "      <td>1.0</td>\n",
              "      <td>0.0</td>\n",
              "      <td>20.0</td>\n",
              "      <td>0.0</td>\n",
              "      <td>60.0</td>\n",
              "      <td>2.375000</td>\n",
              "      <td>28.0</td>\n",
              "      <td>31.0</td>\n",
              "      <td>1.0</td>\n",
              "    </tr>\n",
              "    <tr>\n",
              "      <th>6</th>\n",
              "      <td>0.0</td>\n",
              "      <td>1.0</td>\n",
              "      <td>24.0</td>\n",
              "      <td>3.0</td>\n",
              "      <td>60.0</td>\n",
              "      <td>1.571428</td>\n",
              "      <td>25.0</td>\n",
              "      <td>35.0</td>\n",
              "      <td>0.0</td>\n",
              "    </tr>\n",
              "  </tbody>\n",
              "</table>\n",
              "</div>"
            ],
            "text/plain": [
              "   status  sex  sat94  ocfabth  hos94     das94  cprs94   age  afcarib\n",
              "1     1.0  1.0   18.0      0.0   80.0  0.285714     4.0  27.0      1.0\n",
              "2     0.0  1.0   15.0      4.0  240.0  0.750000     6.0  41.0      1.0\n",
              "3     0.0  1.0   18.0      3.0   48.0  0.125000    12.0  25.0      1.0\n",
              "5     1.0  0.0   20.0      0.0   60.0  2.375000    28.0  31.0      1.0\n",
              "6     0.0  1.0   24.0      3.0   60.0  1.571428    25.0  35.0      0.0"
            ]
          },
          "execution_count": 16,
          "metadata": {},
          "output_type": "execute_result"
        }
      ],
      "source": [
        "#Encoding Categorical covariates and preparing the data for tensorflow\n",
        "covariates = ['status', 'sex', 'sat94', 'ocfabth', 'hos94', 'das94', 'cprs94', 'age', 'afcarib']\n",
        "covariates_cat = ['status', 'sex', 'ocfabth', 'afcarib']\n",
        "\n",
        "from sklearn.preprocessing import OrdinalEncoder\n",
        "encoder = OrdinalEncoder()\n",
        "df[covariates_cat] = encoder.fit_transform(df[covariates_cat])\n",
        "df[covariates] = df[covariates].astype('float32')\n",
        "df[covariates].head()"
      ]
    },
    {
      "cell_type": "code",
      "execution_count": null,
      "metadata": {
        "id": "a0r4d8rK5RsU"
      },
      "outputs": [],
      "source": [
        "# Subset the dataset by treatment and control\n",
        "# Within each sample, create a training, a test and a validation set\n",
        "\n",
        "df_treat = #TODO\n",
        "df_control = #TODO"
      ]
    },
    {
      "cell_type": "code",
      "execution_count": null,
      "metadata": {
        "id": "hTwXscxk5RsU"
      },
      "outputs": [],
      "source": [
        "##choose one of the three outcomes to analyze\n",
        "## using xgboost regressor train two model to predict the outcome from the covariates\n",
        "## the first model should be trained on the treated sample, while the second on the control\n",
        "## use early stopping\n",
        "\n",
        "from xgboost import XGBRegressor\n",
        "xgbr_treat = XGBRegressor()\n",
        "xgbr_control = XGBRegressor()"
      ]
    },
    {
      "cell_type": "code",
      "execution_count": null,
      "metadata": {
        "id": "mCMOAU6t5RsU"
      },
      "outputs": [],
      "source": [
        "##get predicted outcomes using the combined test sets for both models \n",
        "\n",
        "test_set = Xtreat_test.append(Xcontrol_test) \n",
        "y_hat_treat = ...\n",
        "y_hat_control = ..."
      ]
    },
    {
      "cell_type": "code",
      "execution_count": null,
      "metadata": {
        "id": "5acUg-Jp5RsV"
      },
      "outputs": [],
      "source": [
        "##find the three individuals in the test set that are most and least responsive to the treatment\n",
        "##namely the three individuals for who the treatment effect is larger and those for who it is smaller\n",
        "\n",
        "test_set['treat_effect'] = ..."
      ]
    },
    {
      "cell_type": "code",
      "execution_count": null,
      "metadata": {
        "id": "IXz-tbpN5RsV"
      },
      "outputs": [],
      "source": [
        "##visualize and comment on the covariates of these individuals "
      ]
    }
  ],
  "metadata": {
    "kernelspec": {
      "display_name": "Python 3",
      "language": "python",
      "name": "python3"
    },
    "language_info": {
      "codemirror_mode": {
        "name": "ipython",
        "version": 3
      },
      "file_extension": ".py",
      "mimetype": "text/x-python",
      "name": "python",
      "nbconvert_exporter": "python",
      "pygments_lexer": "ipython3",
      "version": "3.8.10"
    },
    "colab": {
      "provenance": [],
      "collapsed_sections": []
    }
  },
  "nbformat": 4,
  "nbformat_minor": 0
}