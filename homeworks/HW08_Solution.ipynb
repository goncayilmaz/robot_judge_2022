{
  "cells": [
    {
      "cell_type": "markdown",
      "metadata": {
        "id": "x6v7OALnu9Oi"
      },
      "source": [
        "# HW08 - Instrumental Variables (due November 23rd)\n",
        "\n",
        "In this homework you will practice with running IV regressions with python. You will investigate once more the effect of schooling on earnings, but this time the instrument for education you will use is college proximity to individuals houses (reference paper by [Card, 1993](https://davidcard.berkeley.edu/papers/geo_var_schooling.pdf)).\n",
        "\n",
        "More in detail, there are two instruments that can be exploited in this context. Both are binary variables taking value 1 if either a 2-years or 4-years college is present in the area where the individual lives."
      ]
    },
    {
      "cell_type": "code",
      "source": [
        "!pip install linearmodels"
      ],
      "metadata": {
        "colab": {
          "base_uri": "https://localhost:8080/"
        },
        "id": "9NVIQTBvvZVf",
        "outputId": "343f535d-39a2-46f0-cbcb-edf9224798f5"
      },
      "execution_count": 2,
      "outputs": [
        {
          "output_type": "stream",
          "name": "stdout",
          "text": [
            "Looking in indexes: https://pypi.org/simple, https://us-python.pkg.dev/colab-wheels/public/simple/\n",
            "Collecting linearmodels\n",
            "  Downloading linearmodels-4.25-cp37-cp37m-manylinux_2_17_x86_64.manylinux2014_x86_64.whl (1.5 MB)\n",
            "\u001b[K     |████████████████████████████████| 1.5 MB 12.6 MB/s \n",
            "\u001b[?25hCollecting pyhdfe>=0.1\n",
            "  Downloading pyhdfe-0.1.1-py3-none-any.whl (18 kB)\n",
            "Requirement already satisfied: pandas>=0.24 in /usr/local/lib/python3.7/dist-packages (from linearmodels) (1.3.5)\n",
            "Collecting formulaic\n",
            "  Downloading formulaic-0.5.2-py3-none-any.whl (77 kB)\n",
            "\u001b[K     |████████████████████████████████| 77 kB 6.4 MB/s \n",
            "\u001b[?25hRequirement already satisfied: scipy>=1.2 in /usr/local/lib/python3.7/dist-packages (from linearmodels) (1.7.3)\n",
            "Collecting property-cached>=1.6.3\n",
            "  Downloading property_cached-1.6.4-py2.py3-none-any.whl (7.8 kB)\n",
            "Collecting mypy-extensions>=0.4\n",
            "  Downloading mypy_extensions-0.4.3-py2.py3-none-any.whl (4.5 kB)\n",
            "Requirement already satisfied: patsy in /usr/local/lib/python3.7/dist-packages (from linearmodels) (0.5.3)\n",
            "Requirement already satisfied: Cython>=0.29.21 in /usr/local/lib/python3.7/dist-packages (from linearmodels) (0.29.32)\n",
            "Requirement already satisfied: statsmodels>=0.11 in /usr/local/lib/python3.7/dist-packages (from linearmodels) (0.12.2)\n",
            "Requirement already satisfied: numpy>=1.16 in /usr/local/lib/python3.7/dist-packages (from linearmodels) (1.21.6)\n",
            "Requirement already satisfied: pytz>=2017.3 in /usr/local/lib/python3.7/dist-packages (from pandas>=0.24->linearmodels) (2022.6)\n",
            "Requirement already satisfied: python-dateutil>=2.7.3 in /usr/local/lib/python3.7/dist-packages (from pandas>=0.24->linearmodels) (2.8.2)\n",
            "Requirement already satisfied: six>=1.5 in /usr/local/lib/python3.7/dist-packages (from python-dateutil>=2.7.3->pandas>=0.24->linearmodels) (1.15.0)\n",
            "Collecting typing-extensions>=4.2.0\n",
            "  Downloading typing_extensions-4.4.0-py3-none-any.whl (26 kB)\n",
            "Requirement already satisfied: astor>=0.8 in /usr/local/lib/python3.7/dist-packages (from formulaic->linearmodels) (0.8.1)\n",
            "Collecting graphlib-backport>=1.0.0\n",
            "  Downloading graphlib_backport-1.0.3-py3-none-any.whl (5.1 kB)\n",
            "Requirement already satisfied: cached-property>=1.3.0 in /usr/local/lib/python3.7/dist-packages (from formulaic->linearmodels) (1.5.2)\n",
            "Requirement already satisfied: wrapt>=1.0 in /usr/local/lib/python3.7/dist-packages (from formulaic->linearmodels) (1.14.1)\n",
            "Collecting interface-meta>=1.2.0\n",
            "  Downloading interface_meta-1.3.0-py3-none-any.whl (14 kB)\n",
            "Installing collected packages: typing-extensions, interface-meta, graphlib-backport, pyhdfe, property-cached, mypy-extensions, formulaic, linearmodels\n",
            "  Attempting uninstall: typing-extensions\n",
            "    Found existing installation: typing-extensions 4.1.1\n",
            "    Uninstalling typing-extensions-4.1.1:\n",
            "      Successfully uninstalled typing-extensions-4.1.1\n",
            "\u001b[31mERROR: pip's dependency resolver does not currently take into account all the packages that are installed. This behaviour is the source of the following dependency conflicts.\n",
            "thinc 8.1.5 requires typing-extensions<4.2.0,>=3.7.4.1; python_version < \"3.8\", but you have typing-extensions 4.4.0 which is incompatible.\n",
            "spacy 3.4.3 requires typing-extensions<4.2.0,>=3.7.4; python_version < \"3.8\", but you have typing-extensions 4.4.0 which is incompatible.\n",
            "confection 0.0.3 requires typing-extensions<4.2.0,>=3.7.4.1; python_version < \"3.8\", but you have typing-extensions 4.4.0 which is incompatible.\u001b[0m\n",
            "Successfully installed formulaic-0.5.2 graphlib-backport-1.0.3 interface-meta-1.3.0 linearmodels-4.25 mypy-extensions-0.4.3 property-cached-1.6.4 pyhdfe-0.1.1 typing-extensions-4.4.0\n"
          ]
        }
      ]
    },
    {
      "cell_type": "code",
      "execution_count": 34,
      "metadata": {
        "id": "geWsGz5iu9Om",
        "outputId": "52024c9b-a6d0-414e-a6e6-76922a9f614b",
        "colab": {
          "base_uri": "https://localhost:8080/"
        }
      },
      "outputs": [
        {
          "output_type": "execute_result",
          "data": {
            "text/plain": [
              "{'id': '',\n",
              " 'nearc2': '=1 if near 2 yr college, 1966',\n",
              " 'nearc4': '=1 if near 4 yr college, 1966',\n",
              " 'educ': 'years of schooling, 1976',\n",
              " 'age': 'in years',\n",
              " 'fatheduc': \"father's schooling\",\n",
              " 'motheduc': \"mother's schooling\",\n",
              " 'weight': 'NLS sampling weight, 1976',\n",
              " 'momdad14': '=1 if live with mom, dad at 14',\n",
              " 'sinmom14': '=1 if with single mom at 14',\n",
              " 'step14': '=1 if with step parent at 14',\n",
              " 'reg661': 'regional dummy, 1966',\n",
              " 'reg662': '',\n",
              " 'reg663': '',\n",
              " 'reg664': '',\n",
              " 'reg665': '',\n",
              " 'reg666': '',\n",
              " 'reg667': '',\n",
              " 'reg668': '',\n",
              " 'reg669': '',\n",
              " 'south66': '=1 if in south in 1966',\n",
              " 'black': '=1 if black',\n",
              " 'smsa': '=1 in in SMSA, 1976',\n",
              " 'south': '=1 if in south, 1976',\n",
              " 'smsa66': '=1 if in SMSA, 1966',\n",
              " 'wage': 'hourly wage in cents, 1976',\n",
              " 'enroll': '=1 if enrolled in school, 1976',\n",
              " 'kww': 'knowledge world of work score',\n",
              " 'iq': 'IQ score',\n",
              " 'married': '=1 if married, 1976',\n",
              " 'libcrd14': '=1 if lib. card in home at 14',\n",
              " 'exper': 'age - educ - 6',\n",
              " 'lwage': 'log(wage)',\n",
              " 'expersq': 'exper^2'}"
            ]
          },
          "metadata": {},
          "execution_count": 34
        }
      ],
      "source": [
        "import pandas as pd \n",
        "import matplotlib.pyplot as plt\n",
        "import seaborn as sns\n",
        "import statsmodels.formula.api as smf\n",
        "import statsmodels.api as sm\n",
        "\n",
        "from linearmodels.iv import IV2SLS\n",
        "from linearmodels.panel import PanelOLS\n",
        "from statsmodels.iolib.summary2 import summary_col\n",
        "import warnings\n",
        "warnings.filterwarnings('ignore', category=FutureWarning)\n",
        "warnings.filterwarnings('ignore', category=DeprecationWarning)\n",
        "warnings.filterwarnings = lambda *a, **kw: None\n",
        "\n",
        "df = pd.read_stata('http://www.stata.com/data/jwooldridge/eacsap/card.dta')\n",
        "pd.read_stata('http://www.stata.com/data/jwooldridge/eacsap/card.dta', iterator=True).variable_labels()"
      ]
    },
    {
      "cell_type": "code",
      "execution_count": 4,
      "metadata": {
        "id": "Da3ct21lu9Oo",
        "outputId": "6c924407-67f3-44f9-9b6e-65d1f2047b28",
        "colab": {
          "base_uri": "https://localhost:8080/",
          "height": 299
        }
      },
      "outputs": [
        {
          "output_type": "execute_result",
          "data": {
            "text/plain": [
              "   id  nearc2  nearc4  educ  age  fatheduc  motheduc    weight  momdad14  \\\n",
              "0   2       0       0     7   29       NaN       NaN  158413.0         1   \n",
              "1   3       0       0    12   27       8.0       8.0  380166.0         1   \n",
              "2   4       0       0    12   34      14.0      12.0  367470.0         1   \n",
              "3   5       1       1    11   27      11.0      12.0  380166.0         1   \n",
              "4   6       1       1    12   34       8.0       7.0  367470.0         1   \n",
              "\n",
              "   sinmom14  ...  smsa66  wage  enroll   kww     iq  married  libcrd14  exper  \\\n",
              "0         0  ...       1   548       0  15.0    NaN      1.0       0.0     16   \n",
              "1         0  ...       1   481       0  35.0   93.0      1.0       1.0      9   \n",
              "2         0  ...       1   721       0  42.0  103.0      1.0       1.0     16   \n",
              "3         0  ...       1   250       0  25.0   88.0      1.0       1.0     10   \n",
              "4         0  ...       1   729       0  34.0  108.0      1.0       0.0     16   \n",
              "\n",
              "      lwage  expersq  \n",
              "0  6.306275      256  \n",
              "1  6.175867       81  \n",
              "2  6.580639      256  \n",
              "3  5.521461      100  \n",
              "4  6.591674      256  \n",
              "\n",
              "[5 rows x 34 columns]"
            ],
            "text/html": [
              "\n",
              "  <div id=\"df-807eeb0b-5a6d-4559-b1dd-735e5537b31b\">\n",
              "    <div class=\"colab-df-container\">\n",
              "      <div>\n",
              "<style scoped>\n",
              "    .dataframe tbody tr th:only-of-type {\n",
              "        vertical-align: middle;\n",
              "    }\n",
              "\n",
              "    .dataframe tbody tr th {\n",
              "        vertical-align: top;\n",
              "    }\n",
              "\n",
              "    .dataframe thead th {\n",
              "        text-align: right;\n",
              "    }\n",
              "</style>\n",
              "<table border=\"1\" class=\"dataframe\">\n",
              "  <thead>\n",
              "    <tr style=\"text-align: right;\">\n",
              "      <th></th>\n",
              "      <th>id</th>\n",
              "      <th>nearc2</th>\n",
              "      <th>nearc4</th>\n",
              "      <th>educ</th>\n",
              "      <th>age</th>\n",
              "      <th>fatheduc</th>\n",
              "      <th>motheduc</th>\n",
              "      <th>weight</th>\n",
              "      <th>momdad14</th>\n",
              "      <th>sinmom14</th>\n",
              "      <th>...</th>\n",
              "      <th>smsa66</th>\n",
              "      <th>wage</th>\n",
              "      <th>enroll</th>\n",
              "      <th>kww</th>\n",
              "      <th>iq</th>\n",
              "      <th>married</th>\n",
              "      <th>libcrd14</th>\n",
              "      <th>exper</th>\n",
              "      <th>lwage</th>\n",
              "      <th>expersq</th>\n",
              "    </tr>\n",
              "  </thead>\n",
              "  <tbody>\n",
              "    <tr>\n",
              "      <th>0</th>\n",
              "      <td>2</td>\n",
              "      <td>0</td>\n",
              "      <td>0</td>\n",
              "      <td>7</td>\n",
              "      <td>29</td>\n",
              "      <td>NaN</td>\n",
              "      <td>NaN</td>\n",
              "      <td>158413.0</td>\n",
              "      <td>1</td>\n",
              "      <td>0</td>\n",
              "      <td>...</td>\n",
              "      <td>1</td>\n",
              "      <td>548</td>\n",
              "      <td>0</td>\n",
              "      <td>15.0</td>\n",
              "      <td>NaN</td>\n",
              "      <td>1.0</td>\n",
              "      <td>0.0</td>\n",
              "      <td>16</td>\n",
              "      <td>6.306275</td>\n",
              "      <td>256</td>\n",
              "    </tr>\n",
              "    <tr>\n",
              "      <th>1</th>\n",
              "      <td>3</td>\n",
              "      <td>0</td>\n",
              "      <td>0</td>\n",
              "      <td>12</td>\n",
              "      <td>27</td>\n",
              "      <td>8.0</td>\n",
              "      <td>8.0</td>\n",
              "      <td>380166.0</td>\n",
              "      <td>1</td>\n",
              "      <td>0</td>\n",
              "      <td>...</td>\n",
              "      <td>1</td>\n",
              "      <td>481</td>\n",
              "      <td>0</td>\n",
              "      <td>35.0</td>\n",
              "      <td>93.0</td>\n",
              "      <td>1.0</td>\n",
              "      <td>1.0</td>\n",
              "      <td>9</td>\n",
              "      <td>6.175867</td>\n",
              "      <td>81</td>\n",
              "    </tr>\n",
              "    <tr>\n",
              "      <th>2</th>\n",
              "      <td>4</td>\n",
              "      <td>0</td>\n",
              "      <td>0</td>\n",
              "      <td>12</td>\n",
              "      <td>34</td>\n",
              "      <td>14.0</td>\n",
              "      <td>12.0</td>\n",
              "      <td>367470.0</td>\n",
              "      <td>1</td>\n",
              "      <td>0</td>\n",
              "      <td>...</td>\n",
              "      <td>1</td>\n",
              "      <td>721</td>\n",
              "      <td>0</td>\n",
              "      <td>42.0</td>\n",
              "      <td>103.0</td>\n",
              "      <td>1.0</td>\n",
              "      <td>1.0</td>\n",
              "      <td>16</td>\n",
              "      <td>6.580639</td>\n",
              "      <td>256</td>\n",
              "    </tr>\n",
              "    <tr>\n",
              "      <th>3</th>\n",
              "      <td>5</td>\n",
              "      <td>1</td>\n",
              "      <td>1</td>\n",
              "      <td>11</td>\n",
              "      <td>27</td>\n",
              "      <td>11.0</td>\n",
              "      <td>12.0</td>\n",
              "      <td>380166.0</td>\n",
              "      <td>1</td>\n",
              "      <td>0</td>\n",
              "      <td>...</td>\n",
              "      <td>1</td>\n",
              "      <td>250</td>\n",
              "      <td>0</td>\n",
              "      <td>25.0</td>\n",
              "      <td>88.0</td>\n",
              "      <td>1.0</td>\n",
              "      <td>1.0</td>\n",
              "      <td>10</td>\n",
              "      <td>5.521461</td>\n",
              "      <td>100</td>\n",
              "    </tr>\n",
              "    <tr>\n",
              "      <th>4</th>\n",
              "      <td>6</td>\n",
              "      <td>1</td>\n",
              "      <td>1</td>\n",
              "      <td>12</td>\n",
              "      <td>34</td>\n",
              "      <td>8.0</td>\n",
              "      <td>7.0</td>\n",
              "      <td>367470.0</td>\n",
              "      <td>1</td>\n",
              "      <td>0</td>\n",
              "      <td>...</td>\n",
              "      <td>1</td>\n",
              "      <td>729</td>\n",
              "      <td>0</td>\n",
              "      <td>34.0</td>\n",
              "      <td>108.0</td>\n",
              "      <td>1.0</td>\n",
              "      <td>0.0</td>\n",
              "      <td>16</td>\n",
              "      <td>6.591674</td>\n",
              "      <td>256</td>\n",
              "    </tr>\n",
              "  </tbody>\n",
              "</table>\n",
              "<p>5 rows × 34 columns</p>\n",
              "</div>\n",
              "      <button class=\"colab-df-convert\" onclick=\"convertToInteractive('df-807eeb0b-5a6d-4559-b1dd-735e5537b31b')\"\n",
              "              title=\"Convert this dataframe to an interactive table.\"\n",
              "              style=\"display:none;\">\n",
              "        \n",
              "  <svg xmlns=\"http://www.w3.org/2000/svg\" height=\"24px\"viewBox=\"0 0 24 24\"\n",
              "       width=\"24px\">\n",
              "    <path d=\"M0 0h24v24H0V0z\" fill=\"none\"/>\n",
              "    <path d=\"M18.56 5.44l.94 2.06.94-2.06 2.06-.94-2.06-.94-.94-2.06-.94 2.06-2.06.94zm-11 1L8.5 8.5l.94-2.06 2.06-.94-2.06-.94L8.5 2.5l-.94 2.06-2.06.94zm10 10l.94 2.06.94-2.06 2.06-.94-2.06-.94-.94-2.06-.94 2.06-2.06.94z\"/><path d=\"M17.41 7.96l-1.37-1.37c-.4-.4-.92-.59-1.43-.59-.52 0-1.04.2-1.43.59L10.3 9.45l-7.72 7.72c-.78.78-.78 2.05 0 2.83L4 21.41c.39.39.9.59 1.41.59.51 0 1.02-.2 1.41-.59l7.78-7.78 2.81-2.81c.8-.78.8-2.07 0-2.86zM5.41 20L4 18.59l7.72-7.72 1.47 1.35L5.41 20z\"/>\n",
              "  </svg>\n",
              "      </button>\n",
              "      \n",
              "  <style>\n",
              "    .colab-df-container {\n",
              "      display:flex;\n",
              "      flex-wrap:wrap;\n",
              "      gap: 12px;\n",
              "    }\n",
              "\n",
              "    .colab-df-convert {\n",
              "      background-color: #E8F0FE;\n",
              "      border: none;\n",
              "      border-radius: 50%;\n",
              "      cursor: pointer;\n",
              "      display: none;\n",
              "      fill: #1967D2;\n",
              "      height: 32px;\n",
              "      padding: 0 0 0 0;\n",
              "      width: 32px;\n",
              "    }\n",
              "\n",
              "    .colab-df-convert:hover {\n",
              "      background-color: #E2EBFA;\n",
              "      box-shadow: 0px 1px 2px rgba(60, 64, 67, 0.3), 0px 1px 3px 1px rgba(60, 64, 67, 0.15);\n",
              "      fill: #174EA6;\n",
              "    }\n",
              "\n",
              "    [theme=dark] .colab-df-convert {\n",
              "      background-color: #3B4455;\n",
              "      fill: #D2E3FC;\n",
              "    }\n",
              "\n",
              "    [theme=dark] .colab-df-convert:hover {\n",
              "      background-color: #434B5C;\n",
              "      box-shadow: 0px 1px 3px 1px rgba(0, 0, 0, 0.15);\n",
              "      filter: drop-shadow(0px 1px 2px rgba(0, 0, 0, 0.3));\n",
              "      fill: #FFFFFF;\n",
              "    }\n",
              "  </style>\n",
              "\n",
              "      <script>\n",
              "        const buttonEl =\n",
              "          document.querySelector('#df-807eeb0b-5a6d-4559-b1dd-735e5537b31b button.colab-df-convert');\n",
              "        buttonEl.style.display =\n",
              "          google.colab.kernel.accessAllowed ? 'block' : 'none';\n",
              "\n",
              "        async function convertToInteractive(key) {\n",
              "          const element = document.querySelector('#df-807eeb0b-5a6d-4559-b1dd-735e5537b31b');\n",
              "          const dataTable =\n",
              "            await google.colab.kernel.invokeFunction('convertToInteractive',\n",
              "                                                     [key], {});\n",
              "          if (!dataTable) return;\n",
              "\n",
              "          const docLinkHtml = 'Like what you see? Visit the ' +\n",
              "            '<a target=\"_blank\" href=https://colab.research.google.com/notebooks/data_table.ipynb>data table notebook</a>'\n",
              "            + ' to learn more about interactive tables.';\n",
              "          element.innerHTML = '';\n",
              "          dataTable['output_type'] = 'display_data';\n",
              "          await google.colab.output.renderOutput(dataTable, element);\n",
              "          const docLink = document.createElement('div');\n",
              "          docLink.innerHTML = docLinkHtml;\n",
              "          element.appendChild(docLink);\n",
              "        }\n",
              "      </script>\n",
              "    </div>\n",
              "  </div>\n",
              "  "
            ]
          },
          "metadata": {},
          "execution_count": 4
        }
      ],
      "source": [
        "df.head()"
      ]
    },
    {
      "cell_type": "markdown",
      "metadata": {
        "id": "6vpZCP99u9Op"
      },
      "source": [
        "### OLS"
      ]
    },
    {
      "cell_type": "code",
      "execution_count": 6,
      "metadata": {
        "id": "Lk1K9Jknu9Op",
        "colab": {
          "base_uri": "https://localhost:8080/",
          "height": 285
        },
        "outputId": "fce1729e-1a7a-46ac-f28d-74d99583554c"
      },
      "outputs": [
        {
          "output_type": "display_data",
          "data": {
            "text/plain": [
              "<Figure size 432x288 with 1 Axes>"
            ],
            "image/png": "[encoded data removed]"
          },
          "metadata": {}
        }
      ],
      "source": [
        "##plot log wages against education\n",
        "sns.set_theme()\n",
        "plot = sns.regplot(data=df, y='lwage', x='educ', scatter=False, ci=95)\n",
        "plot.set(ylabel='Log weekly Earnings', xlabel='Years of schooling')\n",
        "plt.show()"
      ]
    },
    {
      "cell_type": "code",
      "execution_count": 53,
      "metadata": {
        "id": "AkmqritFu9Op",
        "colab": {
          "base_uri": "https://localhost:8080/"
        },
        "outputId": "acbbf0be-07a1-434c-cd75-23be9cea79b6"
      },
      "outputs": [
        {
          "output_type": "stream",
          "name": "stdout",
          "text": [
            "                          PanelOLS Estimation Summary                           \n",
            "================================================================================\n",
            "Dep. Variable:                  lwage   R-squared:                        0.2001\n",
            "Estimator:                   PanelOLS   R-squared (Between):              0.2001\n",
            "No. Observations:                2220   R-squared (Within):               0.0000\n",
            "Date:                Mon, Nov 21 2022   R-squared (Overall):              0.2001\n",
            "Time:                        20:29:37   Log-likelihood                   -1077.5\n",
            "Cov. Estimator:                Robust                                           \n",
            "                                        F-statistic:                      92.284\n",
            "Entities:                        3006   P-value                           0.0000\n",
            "Avg Obs:                       0.7385   Distribution:                  F(6,2213)\n",
            "Min Obs:                       0.0000                                           \n",
            "Max Obs:                       1.0000   F-statistic (robust):             88.782\n",
            "                                        P-value                           0.0000\n",
            "Time periods:                    3006   Distribution:                  F(6,2213)\n",
            "Avg Obs:                       0.7385                                           \n",
            "Min Obs:                       0.0000                                           \n",
            "Max Obs:                       1.0000                                           \n",
            "                                                                                \n",
            "                             Parameter Estimates                              \n",
            "==============================================================================\n",
            "            Parameter  Std. Err.     T-stat    P-value    Lower CI    Upper CI\n",
            "------------------------------------------------------------------------------\n",
            "const          4.3104     0.0896     48.131     0.0000      4.1348      4.4861\n",
            "age            0.0455     0.0028     16.392     0.0000      0.0401      0.0510\n",
            "nearc2         0.0645     0.0174     3.7140     0.0002      0.0304      0.0985\n",
            "nearc4         0.0724     0.0182     3.9886     0.0001      0.0368      0.1081\n",
            "motheduc       0.0122     0.0038     3.2520     0.0012      0.0049      0.0196\n",
            "fatheduc       0.0057     0.0032     1.7450     0.0811     -0.0007      0.0120\n",
            "educ           0.0322     0.0038     8.4651     0.0000      0.0247      0.0397\n",
            "==============================================================================\n",
            "\n",
            "\n"
          ]
        }
      ],
      "source": [
        "##Regress log wages (lwage) against education and include controls, use robust standard errors.\n",
        "from linearmodels.panel import PanelOLS\n",
        "import statsmodels.api as sm\n",
        "\n",
        "covariates = ['age', 'nearc2', 'nearc4', 'motheduc', 'fatheduc']\n",
        "# df['index'] = df.index\n",
        "# df = df.set_index([\"index\", \"id\"])\n",
        "df = df.dropna(subset=['lwage', 'educ']+covariates)\n",
        "\n",
        "exog = sm.add_constant(df[covariates + ['educ']])\n",
        "ols = PanelOLS(df.lwage, exog, entity_effects=False).fit(cov_type='robust')\n",
        "print(ols)"
      ]
    },
    {
      "cell_type": "markdown",
      "metadata": {
        "id": "zbicGvcYu9Oq"
      },
      "source": [
        "**What are other possible confunders?**\n",
        "\n",
        "For instance, mother and father education impact both the education itself and the log wages as that contributes to the overall education."
      ]
    },
    {
      "cell_type": "markdown",
      "metadata": {
        "id": "-7H1I50fu9Oq"
      },
      "source": [
        "### 2SLS\n",
        "\n",
        "You will use only on proximity to a 4-years college ($nearc4$) as instrument. "
      ]
    },
    {
      "cell_type": "code",
      "execution_count": 24,
      "metadata": {
        "id": "I0cFVvIHu9Or",
        "colab": {
          "base_uri": "https://localhost:8080/",
          "height": 285
        },
        "outputId": "2c36fd05-7424-40a5-f8cf-33f8f08e5780"
      },
      "outputs": [
        {
          "output_type": "display_data",
          "data": {
            "text/plain": [
              "<Figure size 432x288 with 1 Axes>"
            ],
            "image/png": "[encoded data removed]"
          },
          "metadata": {}
        }
      ],
      "source": [
        "##plot log wages against nearc4\n",
        "plot = sns.regplot(data=df, y='lwage', x='nearc4', scatter=False, ci=95)\n",
        "plot.set(ylabel='Log weekly Earnings', xlabel='Near 4 Years of College')\n",
        "plt.show()"
      ]
    },
    {
      "cell_type": "code",
      "execution_count": 25,
      "metadata": {
        "id": "HStM_O1yu9Or",
        "colab": {
          "base_uri": "https://localhost:8080/",
          "height": 286
        },
        "outputId": "611bc77f-ab67-4dd9-8b61-35d06b69da92"
      },
      "outputs": [
        {
          "output_type": "display_data",
          "data": {
            "text/plain": [
              "<Figure size 432x288 with 1 Axes>"
            ],
            "image/png": "[encoded data removed]"
          },
          "metadata": {}
        }
      ],
      "source": [
        "##plot education against nearc4\n",
        "plot = sns.regplot(data=df, y='educ', x='nearc4', scatter=False, ci=95)\n",
        "plot.set(ylabel='Years of Education', xlabel='Near 4 Years of College')\n",
        "plt.show()"
      ]
    },
    {
      "cell_type": "markdown",
      "metadata": {
        "id": "kRyVAyyOu9Os"
      },
      "source": [
        "**If you run an IV regression of log wages on education, using college proximity as an instrument for education, what would you expect the sign of the coefficient on education to be? Why?**\n",
        "\n",
        "Positive because we see a clear positive correlation between them."
      ]
    },
    {
      "cell_type": "code",
      "execution_count": 44,
      "metadata": {
        "id": "-L2wLiv2u9Os",
        "colab": {
          "base_uri": "https://localhost:8080/"
        },
        "outputId": "b5171a1e-a6bb-47a7-aebe-bfaf1eb5c3e5"
      },
      "outputs": [
        {
          "output_type": "stream",
          "name": "stdout",
          "text": [
            "                          PanelOLS Estimation Summary                           \n",
            "================================================================================\n",
            "Dep. Variable:                   educ   R-squared:                        0.0158\n",
            "Estimator:                   PanelOLS   R-squared (Between):              0.0158\n",
            "No. Observations:                2220   R-squared (Within):               0.0000\n",
            "Date:                Mon, Nov 21 2022   R-squared (Overall):              0.0158\n",
            "Time:                        20:24:05   Log-likelihood                   -5242.5\n",
            "Cov. Estimator:                Robust                                           \n",
            "                                        F-statistic:                      35.677\n",
            "Entities:                        3006   P-value                           0.0000\n",
            "Avg Obs:                       0.7385   Distribution:                  F(1,2218)\n",
            "Min Obs:                       0.0000                                           \n",
            "Max Obs:                       1.0000   F-statistic (robust):             34.477\n",
            "                                        P-value                           0.0000\n",
            "Time periods:                    3006   Distribution:                  F(1,2218)\n",
            "Avg Obs:                       0.7385                                           \n",
            "Min Obs:                       0.0000                                           \n",
            "Max Obs:                       1.0000                                           \n",
            "                                                                                \n",
            "                             Parameter Estimates                              \n",
            "==============================================================================\n",
            "            Parameter  Std. Err.     T-stat    P-value    Lower CI    Upper CI\n",
            "------------------------------------------------------------------------------\n",
            "const          13.143     0.1007     130.47     0.0000      12.946      13.341\n",
            "nearc4         0.7030     0.1197     5.8717     0.0000      0.4682      0.9378\n",
            "==============================================================================\n",
            "\n",
            "\n"
          ]
        }
      ],
      "source": [
        "##run a regression of education on nearc4, adding the controls you selected before and using robust standard errors\n",
        "exog_vars = ['nearc4']\n",
        "exog = sm.add_constant(df[exog_vars])\n",
        "fs = PanelOLS(df.educ, exog, entity_effects=False).fit(cov_type='robust')\n",
        "print(fs)"
      ]
    },
    {
      "cell_type": "code",
      "execution_count": 40,
      "metadata": {
        "id": "kiqOANznu9Ot"
      },
      "outputs": [],
      "source": [
        "##predict education from the previous regression\n",
        "df['educhat'] = fs.predict()"
      ]
    },
    {
      "cell_type": "code",
      "execution_count": 50,
      "metadata": {
        "id": "Z66cSgY6u9Ot",
        "colab": {
          "base_uri": "https://localhost:8080/"
        },
        "outputId": "a2f20f4c-3a9e-47d0-e84c-578fbf020d27"
      },
      "outputs": [
        {
          "output_type": "stream",
          "name": "stdout",
          "text": [
            "                          PanelOLS Estimation Summary                           \n",
            "================================================================================\n",
            "Dep. Variable:                  lwage   R-squared:                        0.1737\n",
            "Estimator:                   PanelOLS   R-squared (Between):              0.1737\n",
            "No. Observations:                2220   R-squared (Within):               0.0000\n",
            "Date:                Mon, Nov 21 2022   R-squared (Overall):              0.1737\n",
            "Time:                        20:28:19   Log-likelihood                   -1113.7\n",
            "Cov. Estimator:                Robust                                           \n",
            "                                        F-statistic:                      93.068\n",
            "Entities:                        3006   P-value                           0.0000\n",
            "Avg Obs:                       0.7385   Distribution:                  F(5,2214)\n",
            "Min Obs:                       0.0000                                           \n",
            "Max Obs:                       1.0000   F-statistic (robust):             91.230\n",
            "                                        P-value                           0.0000\n",
            "Time periods:                    3006   Distribution:                  F(5,2214)\n",
            "Avg Obs:                       0.7385                                           \n",
            "Min Obs:                       0.0000                                           \n",
            "Max Obs:                       1.0000                                           \n",
            "                                                                                \n",
            "                             Parameter Estimates                              \n",
            "==============================================================================\n",
            "            Parameter  Std. Err.     T-stat    P-value    Lower CI    Upper CI\n",
            "------------------------------------------------------------------------------\n",
            "const          2.8237     0.3919     7.2050     0.0000      2.0552      3.5922\n",
            "educhat        0.2334     0.0513     4.5513     0.0000      0.1328      0.3340\n",
            "age            0.0337     0.0043     7.8094     0.0000      0.0252      0.0421\n",
            "nearc2         0.0785     0.0175     4.4812     0.0000      0.0441      0.1128\n",
            "motheduc      -0.0286     0.0112    -2.5534     0.0107     -0.0505     -0.0066\n",
            "fatheduc      -0.0387     0.0118    -3.2779     0.0011     -0.0619     -0.0156\n",
            "==============================================================================\n",
            "\n",
            "\n"
          ]
        }
      ],
      "source": [
        "##run a regression of log wages on education and controls using robust standard errors\n",
        "exog_vars = ['educhat', 'age', 'nearc2', 'motheduc', 'fatheduc']\n",
        "exog = sm.add_constant(df[exog_vars])\n",
        "twosls = PanelOLS(df.lwage, exog, entity_effects=False).fit(cov_type='robust')\n",
        "print(twosls)"
      ]
    },
    {
      "cell_type": "code",
      "execution_count": 54,
      "metadata": {
        "id": "HnjOKCgpu9Ot",
        "colab": {
          "base_uri": "https://localhost:8080/"
        },
        "outputId": "4be9f9f8-5bbf-4f2f-f922-efec54687394"
      },
      "outputs": [
        {
          "output_type": "stream",
          "name": "stdout",
          "text": [
            "              Model Comparison             \n",
            "===========================================\n",
            "                             ols      lwage\n",
            "-------------------------------------------\n",
            "Dep. Variable              lwage      lwage\n",
            "Estimator               PanelOLS   PanelOLS\n",
            "No. Observations            2220       2220\n",
            "Cov. Est.                 Robust     Robust\n",
            "R-squared                 0.2001     0.1737\n",
            "R-Squared (Within)        0.0000     0.0000\n",
            "R-Squared (Between)       0.2001     0.1737\n",
            "R-Squared (Overall)       0.2001     0.1737\n",
            "F-statistic               92.284     93.068\n",
            "P-value (F-stat)          0.0000     0.0000\n",
            "===================== ========== ==========\n",
            "const                     4.3104     2.8237\n",
            "                        (0.0896)   (0.3919)\n",
            "age                       0.0455     0.0337\n",
            "                        (0.0028)   (0.0043)\n",
            "nearc2                    0.0645     0.0785\n",
            "                        (0.0174)   (0.0175)\n",
            "nearc4                    0.0724           \n",
            "                        (0.0182)           \n",
            "motheduc                  0.0122    -0.0286\n",
            "                        (0.0038)   (0.0112)\n",
            "fatheduc                  0.0057    -0.0387\n",
            "                        (0.0032)   (0.0118)\n",
            "educ                      0.0322           \n",
            "                        (0.0038)           \n",
            "educhat                              0.2334\n",
            "                                   (0.0513)\n",
            "-------------------------------------------\n",
            "\n",
            "Std. Errors reported in parentheses\n"
          ]
        }
      ],
      "source": [
        "##compare the 2sls and ols estimates \n",
        "from linearmodels.panel import compare\n",
        "\n",
        "print(compare({\"ols\": ols, \"lwage\": twosls}, precision='std-errors'))"
      ]
    },
    {
      "cell_type": "markdown",
      "metadata": {
        "id": "JVuF9261u9Ot"
      },
      "source": [
        "**What do you think the difference in the estimates is due to?**\n",
        "\n",
        "Here, we introduce education hat which is a function of nearc4, which helps us explain two variables into one. This way, we make the model complexer but it also introduces some bias. In the end, we achieve better results with the more complex model."
      ]
    },
    {
      "cell_type": "markdown",
      "metadata": {
        "id": "zuqwbFmyu9Ou"
      },
      "source": [
        "### IV analysis"
      ]
    },
    {
      "cell_type": "code",
      "execution_count": 63,
      "metadata": {
        "id": "ETgbGdSvu9Ou",
        "colab": {
          "base_uri": "https://localhost:8080/"
        },
        "outputId": "3cabb5c9-8b35-4df3-894f-335f3a783c28"
      },
      "outputs": [
        {
          "output_type": "stream",
          "name": "stdout",
          "text": [
            "                          IV-2SLS Estimation Summary                          \n",
            "==============================================================================\n",
            "Dep. Variable:                  lwage   R-squared:                      0.0611\n",
            "Estimator:                    IV-2SLS   Adj. R-squared:                 0.0586\n",
            "No. Observations:                2220   F-statistic:                    430.76\n",
            "Date:                Mon, Nov 21 2022   P-value (F-stat)                0.0000\n",
            "Time:                        20:44:26   Distribution:                  chi2(6)\n",
            "Cov. Estimator:                robust                                         \n",
            "                                                                              \n",
            "                             Parameter Estimates                              \n",
            "==============================================================================\n",
            "            Parameter  Std. Err.     T-stat    P-value    Lower CI    Upper CI\n",
            "------------------------------------------------------------------------------\n",
            "const          3.7650     0.5642     6.6734     0.0000      2.6592      4.8707\n",
            "age            0.0412     0.0055     7.4778     0.0000      0.0304      0.0520\n",
            "nearc2         0.0696     0.0193     3.6092     0.0003      0.0318      0.1074\n",
            "nearc4         0.0459     0.0329     1.3920     0.1639     -0.0187      0.1104\n",
            "motheduc      -0.0027     0.0160    -0.1709     0.8643     -0.0342      0.0287\n",
            "fatheduc      -0.0106     0.0172    -0.6192     0.5358     -0.0443      0.0230\n",
            "educ           0.1060     0.0762     1.3920     0.1639     -0.0433      0.2553\n",
            "==============================================================================\n",
            "\n",
            "Endogenous: educ\n",
            "Instruments: reg661\n",
            "Robust Covariance (Heteroskedastic)\n",
            "Debiased: False\n"
          ]
        }
      ],
      "source": [
        "##use IV2sls to run the regression of log wages on education. using college proximity as an instrument for education\n",
        "##add the same controls as \n",
        "\n",
        "iv_set = df[['reg661']]\n",
        "exog = sm.add_constant(df[covariates])\n",
        "iv2sls = IV2SLS(df.lwage, exog, df.educ, iv_set).fit(cov_type='robust')\n",
        "\n",
        "print(iv2sls)"
      ]
    },
    {
      "cell_type": "code",
      "execution_count": null,
      "metadata": {
        "id": "sFq3KyAsu9Ou"
      },
      "outputs": [],
      "source": []
    }
  ],
  "metadata": {
    "kernelspec": {
      "display_name": "Python 3",
      "language": "python",
      "name": "python3"
    },
    "language_info": {
      "codemirror_mode": {
        "name": "ipython",
        "version": 3
      },
      "file_extension": ".py",
      "mimetype": "text/x-python",
      "name": "python",
      "nbconvert_exporter": "python",
      "pygments_lexer": "ipython3",
      "version": "3.8.10"
    },
    "colab": {
      "provenance": []
    }
  },
  "nbformat": 4,
  "nbformat_minor": 0
}