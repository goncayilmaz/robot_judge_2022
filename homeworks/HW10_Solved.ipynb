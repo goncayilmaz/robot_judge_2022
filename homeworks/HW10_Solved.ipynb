{
  "cells": [
    {
      "cell_type": "markdown",
      "metadata": {
        "id": "rDRfJZQo34ee"
      },
      "source": [
        "# HW10: Algorithmic Fairness \n",
        "\n",
        "### Note: to complete most of this homework notions from week 11 slides are needed\n",
        "\n",
        "In this homework you will assess racial bias in the COMPAS algorithm and judges decisions. \n",
        "\n",
        "The data is a collection of 7000 criminal cases in Florida in which COMPAS was used and it contains information about defendants' demographics, criminal history (e.g., juvenile criminal records), court decision and recidivism."
      ]
    },
    {
      "cell_type": "code",
      "execution_count": 1,
      "metadata": {
        "id": "E2UnulWf34eg"
      },
      "outputs": [],
      "source": [
        "import pandas as pd \n",
        "import matplotlib.pyplot as plt\n",
        "import seaborn as sns\n",
        "sns.set_theme()\n",
        "import warnings\n",
        "warnings.filterwarnings('ignore', category=FutureWarning)\n",
        "warnings.filterwarnings('ignore', category=DeprecationWarning)\n",
        "warnings.filterwarnings = lambda *a, **kw: None"
      ]
    },
    {
      "cell_type": "markdown",
      "metadata": {
        "id": "2H8t-svm34eh"
      },
      "source": [
        "## Data Preparation"
      ]
    },
    {
      "cell_type": "code",
      "execution_count": 2,
      "metadata": {
        "id": "dZUZO5DW34eh",
        "outputId": "ff7e3db3-2c69-409e-c27f-457c38b72d09",
        "colab": {
          "base_uri": "https://localhost:8080/",
          "height": 386
        }
      },
      "outputs": [
        {
          "output_type": "execute_result",
          "data": {
            "text/plain": [
              "   id                name   first         last compas_screening_date   sex  \\\n",
              "0   1    miguel hernandez  miguel    hernandez            2013-08-14  Male   \n",
              "1   3         kevon dixon   kevon        dixon            2013-01-27  Male   \n",
              "2   4            ed philo      ed        philo            2013-04-14  Male   \n",
              "3   5         marcu brown   marcu        brown            2013-01-13  Male   \n",
              "4   6  bouthy pierrelouis  bouthy  pierrelouis            2013-03-26  Male   \n",
              "\n",
              "          dob  age          age_cat              race  ...  v_decile_score  \\\n",
              "0  1947-04-18   69  Greater than 45             Other  ...               1   \n",
              "1  1982-01-22   34          25 - 45  African-American  ...               1   \n",
              "2  1991-05-14   24     Less than 25  African-American  ...               3   \n",
              "3  1993-01-21   23     Less than 25  African-American  ...               6   \n",
              "4  1973-01-22   43          25 - 45             Other  ...               1   \n",
              "\n",
              "   v_score_text  v_screening_date  in_custody  out_custody  priors_count.1  \\\n",
              "0           Low        2013-08-14  2014-07-07   2014-07-14               0   \n",
              "1           Low        2013-01-27  2013-01-26   2013-02-05               0   \n",
              "2           Low        2013-04-14  2013-06-16   2013-06-16               4   \n",
              "3        Medium        2013-01-13         NaN          NaN               1   \n",
              "4           Low        2013-03-26         NaN          NaN               2   \n",
              "\n",
              "  start   end event two_year_recid  \n",
              "0     0   327     0              0  \n",
              "1     9   159     1              1  \n",
              "2     0    63     0              1  \n",
              "3     0  1174     0              0  \n",
              "4     0  1102     0              0  \n",
              "\n",
              "[5 rows x 53 columns]"
            ],
            "text/html": [
              "\n",
              "  <div id=\"df-ff5e534d-1845-4858-ba7e-094cf492c798\">\n",
              "    <div class=\"colab-df-container\">\n",
              "      <div>\n",
              "<style scoped>\n",
              "    .dataframe tbody tr th:only-of-type {\n",
              "        vertical-align: middle;\n",
              "    }\n",
              "\n",
              "    .dataframe tbody tr th {\n",
              "        vertical-align: top;\n",
              "    }\n",
              "\n",
              "    .dataframe thead th {\n",
              "        text-align: right;\n",
              "    }\n",
              "</style>\n",
              "<table border=\"1\" class=\"dataframe\">\n",
              "  <thead>\n",
              "    <tr style=\"text-align: right;\">\n",
              "      <th></th>\n",
              "      <th>id</th>\n",
              "      <th>name</th>\n",
              "      <th>first</th>\n",
              "      <th>last</th>\n",
              "      <th>compas_screening_date</th>\n",
              "      <th>sex</th>\n",
              "      <th>dob</th>\n",
              "      <th>age</th>\n",
              "      <th>age_cat</th>\n",
              "      <th>race</th>\n",
              "      <th>...</th>\n",
              "      <th>v_decile_score</th>\n",
              "      <th>v_score_text</th>\n",
              "      <th>v_screening_date</th>\n",
              "      <th>in_custody</th>\n",
              "      <th>out_custody</th>\n",
              "      <th>priors_count.1</th>\n",
              "      <th>start</th>\n",
              "      <th>end</th>\n",
              "      <th>event</th>\n",
              "      <th>two_year_recid</th>\n",
              "    </tr>\n",
              "  </thead>\n",
              "  <tbody>\n",
              "    <tr>\n",
              "      <th>0</th>\n",
              "      <td>1</td>\n",
              "      <td>miguel hernandez</td>\n",
              "      <td>miguel</td>\n",
              "      <td>hernandez</td>\n",
              "      <td>2013-08-14</td>\n",
              "      <td>Male</td>\n",
              "      <td>1947-04-18</td>\n",
              "      <td>69</td>\n",
              "      <td>Greater than 45</td>\n",
              "      <td>Other</td>\n",
              "      <td>...</td>\n",
              "      <td>1</td>\n",
              "      <td>Low</td>\n",
              "      <td>2013-08-14</td>\n",
              "      <td>2014-07-07</td>\n",
              "      <td>2014-07-14</td>\n",
              "      <td>0</td>\n",
              "      <td>0</td>\n",
              "      <td>327</td>\n",
              "      <td>0</td>\n",
              "      <td>0</td>\n",
              "    </tr>\n",
              "    <tr>\n",
              "      <th>1</th>\n",
              "      <td>3</td>\n",
              "      <td>kevon dixon</td>\n",
              "      <td>kevon</td>\n",
              "      <td>dixon</td>\n",
              "      <td>2013-01-27</td>\n",
              "      <td>Male</td>\n",
              "      <td>1982-01-22</td>\n",
              "      <td>34</td>\n",
              "      <td>25 - 45</td>\n",
              "      <td>African-American</td>\n",
              "      <td>...</td>\n",
              "      <td>1</td>\n",
              "      <td>Low</td>\n",
              "      <td>2013-01-27</td>\n",
              "      <td>2013-01-26</td>\n",
              "      <td>2013-02-05</td>\n",
              "      <td>0</td>\n",
              "      <td>9</td>\n",
              "      <td>159</td>\n",
              "      <td>1</td>\n",
              "      <td>1</td>\n",
              "    </tr>\n",
              "    <tr>\n",
              "      <th>2</th>\n",
              "      <td>4</td>\n",
              "      <td>ed philo</td>\n",
              "      <td>ed</td>\n",
              "      <td>philo</td>\n",
              "      <td>2013-04-14</td>\n",
              "      <td>Male</td>\n",
              "      <td>1991-05-14</td>\n",
              "      <td>24</td>\n",
              "      <td>Less than 25</td>\n",
              "      <td>African-American</td>\n",
              "      <td>...</td>\n",
              "      <td>3</td>\n",
              "      <td>Low</td>\n",
              "      <td>2013-04-14</td>\n",
              "      <td>2013-06-16</td>\n",
              "      <td>2013-06-16</td>\n",
              "      <td>4</td>\n",
              "      <td>0</td>\n",
              "      <td>63</td>\n",
              "      <td>0</td>\n",
              "      <td>1</td>\n",
              "    </tr>\n",
              "    <tr>\n",
              "      <th>3</th>\n",
              "      <td>5</td>\n",
              "      <td>marcu brown</td>\n",
              "      <td>marcu</td>\n",
              "      <td>brown</td>\n",
              "      <td>2013-01-13</td>\n",
              "      <td>Male</td>\n",
              "      <td>1993-01-21</td>\n",
              "      <td>23</td>\n",
              "      <td>Less than 25</td>\n",
              "      <td>African-American</td>\n",
              "      <td>...</td>\n",
              "      <td>6</td>\n",
              "      <td>Medium</td>\n",
              "      <td>2013-01-13</td>\n",
              "      <td>NaN</td>\n",
              "      <td>NaN</td>\n",
              "      <td>1</td>\n",
              "      <td>0</td>\n",
              "      <td>1174</td>\n",
              "      <td>0</td>\n",
              "      <td>0</td>\n",
              "    </tr>\n",
              "    <tr>\n",
              "      <th>4</th>\n",
              "      <td>6</td>\n",
              "      <td>bouthy pierrelouis</td>\n",
              "      <td>bouthy</td>\n",
              "      <td>pierrelouis</td>\n",
              "      <td>2013-03-26</td>\n",
              "      <td>Male</td>\n",
              "      <td>1973-01-22</td>\n",
              "      <td>43</td>\n",
              "      <td>25 - 45</td>\n",
              "      <td>Other</td>\n",
              "      <td>...</td>\n",
              "      <td>1</td>\n",
              "      <td>Low</td>\n",
              "      <td>2013-03-26</td>\n",
              "      <td>NaN</td>\n",
              "      <td>NaN</td>\n",
              "      <td>2</td>\n",
              "      <td>0</td>\n",
              "      <td>1102</td>\n",
              "      <td>0</td>\n",
              "      <td>0</td>\n",
              "    </tr>\n",
              "  </tbody>\n",
              "</table>\n",
              "<p>5 rows × 53 columns</p>\n",
              "</div>\n",
              "      <button class=\"colab-df-convert\" onclick=\"convertToInteractive('df-ff5e534d-1845-4858-ba7e-094cf492c798')\"\n",
              "              title=\"Convert this dataframe to an interactive table.\"\n",
              "              style=\"display:none;\">\n",
              "        \n",
              "  <svg xmlns=\"http://www.w3.org/2000/svg\" height=\"24px\"viewBox=\"0 0 24 24\"\n",
              "       width=\"24px\">\n",
              "    <path d=\"M0 0h24v24H0V0z\" fill=\"none\"/>\n",
              "    <path d=\"M18.56 5.44l.94 2.06.94-2.06 2.06-.94-2.06-.94-.94-2.06-.94 2.06-2.06.94zm-11 1L8.5 8.5l.94-2.06 2.06-.94-2.06-.94L8.5 2.5l-.94 2.06-2.06.94zm10 10l.94 2.06.94-2.06 2.06-.94-2.06-.94-.94-2.06-.94 2.06-2.06.94z\"/><path d=\"M17.41 7.96l-1.37-1.37c-.4-.4-.92-.59-1.43-.59-.52 0-1.04.2-1.43.59L10.3 9.45l-7.72 7.72c-.78.78-.78 2.05 0 2.83L4 21.41c.39.39.9.59 1.41.59.51 0 1.02-.2 1.41-.59l7.78-7.78 2.81-2.81c.8-.78.8-2.07 0-2.86zM5.41 20L4 18.59l7.72-7.72 1.47 1.35L5.41 20z\"/>\n",
              "  </svg>\n",
              "      </button>\n",
              "      \n",
              "  <style>\n",
              "    .colab-df-container {\n",
              "      display:flex;\n",
              "      flex-wrap:wrap;\n",
              "      gap: 12px;\n",
              "    }\n",
              "\n",
              "    .colab-df-convert {\n",
              "      background-color: #E8F0FE;\n",
              "      border: none;\n",
              "      border-radius: 50%;\n",
              "      cursor: pointer;\n",
              "      display: none;\n",
              "      fill: #1967D2;\n",
              "      height: 32px;\n",
              "      padding: 0 0 0 0;\n",
              "      width: 32px;\n",
              "    }\n",
              "\n",
              "    .colab-df-convert:hover {\n",
              "      background-color: #E2EBFA;\n",
              "      box-shadow: 0px 1px 2px rgba(60, 64, 67, 0.3), 0px 1px 3px 1px rgba(60, 64, 67, 0.15);\n",
              "      fill: #174EA6;\n",
              "    }\n",
              "\n",
              "    [theme=dark] .colab-df-convert {\n",
              "      background-color: #3B4455;\n",
              "      fill: #D2E3FC;\n",
              "    }\n",
              "\n",
              "    [theme=dark] .colab-df-convert:hover {\n",
              "      background-color: #434B5C;\n",
              "      box-shadow: 0px 1px 3px 1px rgba(0, 0, 0, 0.15);\n",
              "      filter: drop-shadow(0px 1px 2px rgba(0, 0, 0, 0.3));\n",
              "      fill: #FFFFFF;\n",
              "    }\n",
              "  </style>\n",
              "\n",
              "      <script>\n",
              "        const buttonEl =\n",
              "          document.querySelector('#df-ff5e534d-1845-4858-ba7e-094cf492c798 button.colab-df-convert');\n",
              "        buttonEl.style.display =\n",
              "          google.colab.kernel.accessAllowed ? 'block' : 'none';\n",
              "\n",
              "        async function convertToInteractive(key) {\n",
              "          const element = document.querySelector('#df-ff5e534d-1845-4858-ba7e-094cf492c798');\n",
              "          const dataTable =\n",
              "            await google.colab.kernel.invokeFunction('convertToInteractive',\n",
              "                                                     [key], {});\n",
              "          if (!dataTable) return;\n",
              "\n",
              "          const docLinkHtml = 'Like what you see? Visit the ' +\n",
              "            '<a target=\"_blank\" href=https://colab.research.google.com/notebooks/data_table.ipynb>data table notebook</a>'\n",
              "            + ' to learn more about interactive tables.';\n",
              "          element.innerHTML = '';\n",
              "          dataTable['output_type'] = 'display_data';\n",
              "          await google.colab.output.renderOutput(dataTable, element);\n",
              "          const docLink = document.createElement('div');\n",
              "          docLink.innerHTML = docLinkHtml;\n",
              "          element.appendChild(docLink);\n",
              "        }\n",
              "      </script>\n",
              "    </div>\n",
              "  </div>\n",
              "  "
            ]
          },
          "metadata": {},
          "execution_count": 2
        }
      ],
      "source": [
        "df = pd.read_csv('https://raw.githubusercontent.com/propublica/compas-analysis/master/compas-scores-two-years.csv')\n",
        "df.head()"
      ]
    },
    {
      "cell_type": "code",
      "execution_count": 3,
      "metadata": {
        "id": "iMdob6T-34ei",
        "outputId": "762ba43d-6e72-465e-9358-f54be23b9fd6",
        "colab": {
          "base_uri": "https://localhost:8080/"
        }
      },
      "outputs": [
        {
          "output_type": "stream",
          "name": "stdout",
          "text": [
            "<class 'pandas.core.frame.DataFrame'>\n",
            "RangeIndex: 7214 entries, 0 to 7213\n",
            "Data columns (total 53 columns):\n",
            " #   Column                   Non-Null Count  Dtype  \n",
            "---  ------                   --------------  -----  \n",
            " 0   id                       7214 non-null   int64  \n",
            " 1   name                     7214 non-null   object \n",
            " 2   first                    7214 non-null   object \n",
            " 3   last                     7214 non-null   object \n",
            " 4   compas_screening_date    7214 non-null   object \n",
            " 5   sex                      7214 non-null   object \n",
            " 6   dob                      7214 non-null   object \n",
            " 7   age                      7214 non-null   int64  \n",
            " 8   age_cat                  7214 non-null   object \n",
            " 9   race                     7214 non-null   object \n",
            " 10  juv_fel_count            7214 non-null   int64  \n",
            " 11  decile_score             7214 non-null   int64  \n",
            " 12  juv_misd_count           7214 non-null   int64  \n",
            " 13  juv_other_count          7214 non-null   int64  \n",
            " 14  priors_count             7214 non-null   int64  \n",
            " 15  days_b_screening_arrest  6907 non-null   float64\n",
            " 16  c_jail_in                6907 non-null   object \n",
            " 17  c_jail_out               6907 non-null   object \n",
            " 18  c_case_number            7192 non-null   object \n",
            " 19  c_offense_date           6055 non-null   object \n",
            " 20  c_arrest_date            1137 non-null   object \n",
            " 21  c_days_from_compas       7192 non-null   float64\n",
            " 22  c_charge_degree          7214 non-null   object \n",
            " 23  c_charge_desc            7185 non-null   object \n",
            " 24  is_recid                 7214 non-null   int64  \n",
            " 25  r_case_number            3471 non-null   object \n",
            " 26  r_charge_degree          3471 non-null   object \n",
            " 27  r_days_from_arrest       2316 non-null   float64\n",
            " 28  r_offense_date           3471 non-null   object \n",
            " 29  r_charge_desc            3413 non-null   object \n",
            " 30  r_jail_in                2316 non-null   object \n",
            " 31  r_jail_out               2316 non-null   object \n",
            " 32  violent_recid            0 non-null      float64\n",
            " 33  is_violent_recid         7214 non-null   int64  \n",
            " 34  vr_case_number           819 non-null    object \n",
            " 35  vr_charge_degree         819 non-null    object \n",
            " 36  vr_offense_date          819 non-null    object \n",
            " 37  vr_charge_desc           819 non-null    object \n",
            " 38  type_of_assessment       7214 non-null   object \n",
            " 39  decile_score.1           7214 non-null   int64  \n",
            " 40  score_text               7214 non-null   object \n",
            " 41  screening_date           7214 non-null   object \n",
            " 42  v_type_of_assessment     7214 non-null   object \n",
            " 43  v_decile_score           7214 non-null   int64  \n",
            " 44  v_score_text             7214 non-null   object \n",
            " 45  v_screening_date         7214 non-null   object \n",
            " 46  in_custody               6978 non-null   object \n",
            " 47  out_custody              6978 non-null   object \n",
            " 48  priors_count.1           7214 non-null   int64  \n",
            " 49  start                    7214 non-null   int64  \n",
            " 50  end                      7214 non-null   int64  \n",
            " 51  event                    7214 non-null   int64  \n",
            " 52  two_year_recid           7214 non-null   int64  \n",
            "dtypes: float64(4), int64(16), object(33)\n",
            "memory usage: 2.9+ MB\n"
          ]
        }
      ],
      "source": [
        "df.info()"
      ]
    },
    {
      "cell_type": "code",
      "execution_count": 4,
      "metadata": {
        "id": "kfrWvxkM34ei"
      },
      "outputs": [],
      "source": [
        "df['days_from_recid'] = pd.to_datetime(df['r_offense_date']) - pd.to_datetime(df['c_offense_date'])\n",
        "df['days_from_recid'] = df['days_from_recid'].dt.days\n",
        "df['two_year_recid2'] = (df['days_from_recid']<=730).astype(int)\n",
        "\n",
        "#generate felony charge dummies\n",
        "df['felony'] = (df['c_charge_degree'] == 'F').astype(int)\n",
        "\n",
        "#generate age dummies\n",
        "d = pd.get_dummies(df['age_cat'])\n",
        "df = pd.concat([df, d], axis=1)\n",
        "df = df.rename(columns={'25 - 45':'age_cat_25 - 45', 'Greater than 45':'age_cat_Greater than 45', 'Less than 25':'age_cat_Less than 25'})\n",
        "\n",
        "#generate ethnicity, race and compas score dummies\n",
        "d = pd.get_dummies(df['race'])\n",
        "df = pd.concat([df, d], axis=1)\n",
        "df['male'] = (df['sex'] == 'Male').astype(int)\n",
        "d = pd.get_dummies(df['score_text'])\n",
        "df = pd.concat([df, d], axis=1)\n",
        "df = df.rename(columns={'High':'score_text_high', 'Medium':'score_text_medium', 'Low':'score_text_low'})"
      ]
    },
    {
      "cell_type": "markdown",
      "metadata": {
        "id": "VRbniR_Y34ej"
      },
      "source": [
        "### Setting outcomes and predictors\n",
        "\n",
        "The *ideal* target variable for the COMPAS algorithm is the presence of a recidivism episode, while for judges is the decision to send the defendant to jail. For the predictors we use some deomgraphic characteristics **excluding race**, criminal hisotry and type of crime. "
      ]
    },
    {
      "cell_type": "code",
      "execution_count": 5,
      "metadata": {
        "id": "POvu4Hdx34ej",
        "outputId": "52b765f5-e49d-4d83-fd42-83d786531a84",
        "colab": {
          "base_uri": "https://localhost:8080/"
        }
      },
      "outputs": [
        {
          "output_type": "execute_result",
          "data": {
            "text/plain": [
              "0    4283\n",
              "1    2931\n",
              "Name: jailed, dtype: int64"
            ]
          },
          "metadata": {},
          "execution_count": 5
        }
      ],
      "source": [
        "# judge decision: \"jailed\" = more than one day in jail.\n",
        "df['jail_days'] = pd.to_datetime(df['c_jail_out']) - pd.to_datetime(df['c_jail_in'])\n",
        "df['jailed'] = (df.jail_days.dt.days > 1).astype(int)\n",
        "D = df['jailed']\n",
        "D.value_counts()"
      ]
    },
    {
      "cell_type": "code",
      "execution_count": 6,
      "metadata": {
        "id": "bBiudWAI34ej",
        "outputId": "e460e40f-ea99-47a4-e548-71077231e941",
        "colab": {
          "base_uri": "https://localhost:8080/"
        }
      },
      "outputs": [
        {
          "output_type": "execute_result",
          "data": {
            "text/plain": [
              "0    4557\n",
              "1    2657\n",
              "Name: two_year_recid2, dtype: int64"
            ]
          },
          "metadata": {},
          "execution_count": 6
        }
      ],
      "source": [
        "# Algorithm outcome\n",
        "Y = df['two_year_recid2'] \n",
        "Y.value_counts()"
      ]
    },
    {
      "cell_type": "code",
      "execution_count": 7,
      "metadata": {
        "id": "HE35tc3s34ek",
        "outputId": "be91381c-768f-49d1-be36-b56aba7f6fe8",
        "colab": {
          "base_uri": "https://localhost:8080/",
          "height": 300
        }
      },
      "outputs": [
        {
          "output_type": "execute_result",
          "data": {
            "text/plain": [
              "            felony         male          age  juv_fel_count  juv_misd_count  \\\n",
              "count  7214.000000  7214.000000  7214.000000    7214.000000     7214.000000   \n",
              "mean      0.646798     0.806626    34.817993       0.067230        0.090934   \n",
              "std       0.477998     0.394971    11.888922       0.473972        0.485239   \n",
              "min       0.000000     0.000000    18.000000       0.000000        0.000000   \n",
              "25%       0.000000     1.000000    25.000000       0.000000        0.000000   \n",
              "50%       1.000000     1.000000    31.000000       0.000000        0.000000   \n",
              "75%       1.000000     1.000000    42.000000       0.000000        0.000000   \n",
              "max       1.000000     1.000000    96.000000      20.000000       13.000000   \n",
              "\n",
              "       juv_other_count  priors_count  \n",
              "count      7214.000000   7214.000000  \n",
              "mean          0.109371      3.472415  \n",
              "std           0.501586      4.882538  \n",
              "min           0.000000      0.000000  \n",
              "25%           0.000000      0.000000  \n",
              "50%           0.000000      2.000000  \n",
              "75%           0.000000      5.000000  \n",
              "max          17.000000     38.000000  "
            ],
            "text/html": [
              "\n",
              "  <div id=\"df-cd2c0fd6-1117-4cf5-a1d9-21359464baf8\">\n",
              "    <div class=\"colab-df-container\">\n",
              "      <div>\n",
              "<style scoped>\n",
              "    .dataframe tbody tr th:only-of-type {\n",
              "        vertical-align: middle;\n",
              "    }\n",
              "\n",
              "    .dataframe tbody tr th {\n",
              "        vertical-align: top;\n",
              "    }\n",
              "\n",
              "    .dataframe thead th {\n",
              "        text-align: right;\n",
              "    }\n",
              "</style>\n",
              "<table border=\"1\" class=\"dataframe\">\n",
              "  <thead>\n",
              "    <tr style=\"text-align: right;\">\n",
              "      <th></th>\n",
              "      <th>felony</th>\n",
              "      <th>male</th>\n",
              "      <th>age</th>\n",
              "      <th>juv_fel_count</th>\n",
              "      <th>juv_misd_count</th>\n",
              "      <th>juv_other_count</th>\n",
              "      <th>priors_count</th>\n",
              "    </tr>\n",
              "  </thead>\n",
              "  <tbody>\n",
              "    <tr>\n",
              "      <th>count</th>\n",
              "      <td>7214.000000</td>\n",
              "      <td>7214.000000</td>\n",
              "      <td>7214.000000</td>\n",
              "      <td>7214.000000</td>\n",
              "      <td>7214.000000</td>\n",
              "      <td>7214.000000</td>\n",
              "      <td>7214.000000</td>\n",
              "    </tr>\n",
              "    <tr>\n",
              "      <th>mean</th>\n",
              "      <td>0.646798</td>\n",
              "      <td>0.806626</td>\n",
              "      <td>34.817993</td>\n",
              "      <td>0.067230</td>\n",
              "      <td>0.090934</td>\n",
              "      <td>0.109371</td>\n",
              "      <td>3.472415</td>\n",
              "    </tr>\n",
              "    <tr>\n",
              "      <th>std</th>\n",
              "      <td>0.477998</td>\n",
              "      <td>0.394971</td>\n",
              "      <td>11.888922</td>\n",
              "      <td>0.473972</td>\n",
              "      <td>0.485239</td>\n",
              "      <td>0.501586</td>\n",
              "      <td>4.882538</td>\n",
              "    </tr>\n",
              "    <tr>\n",
              "      <th>min</th>\n",
              "      <td>0.000000</td>\n",
              "      <td>0.000000</td>\n",
              "      <td>18.000000</td>\n",
              "      <td>0.000000</td>\n",
              "      <td>0.000000</td>\n",
              "      <td>0.000000</td>\n",
              "      <td>0.000000</td>\n",
              "    </tr>\n",
              "    <tr>\n",
              "      <th>25%</th>\n",
              "      <td>0.000000</td>\n",
              "      <td>1.000000</td>\n",
              "      <td>25.000000</td>\n",
              "      <td>0.000000</td>\n",
              "      <td>0.000000</td>\n",
              "      <td>0.000000</td>\n",
              "      <td>0.000000</td>\n",
              "    </tr>\n",
              "    <tr>\n",
              "      <th>50%</th>\n",
              "      <td>1.000000</td>\n",
              "      <td>1.000000</td>\n",
              "      <td>31.000000</td>\n",
              "      <td>0.000000</td>\n",
              "      <td>0.000000</td>\n",
              "      <td>0.000000</td>\n",
              "      <td>2.000000</td>\n",
              "    </tr>\n",
              "    <tr>\n",
              "      <th>75%</th>\n",
              "      <td>1.000000</td>\n",
              "      <td>1.000000</td>\n",
              "      <td>42.000000</td>\n",
              "      <td>0.000000</td>\n",
              "      <td>0.000000</td>\n",
              "      <td>0.000000</td>\n",
              "      <td>5.000000</td>\n",
              "    </tr>\n",
              "    <tr>\n",
              "      <th>max</th>\n",
              "      <td>1.000000</td>\n",
              "      <td>1.000000</td>\n",
              "      <td>96.000000</td>\n",
              "      <td>20.000000</td>\n",
              "      <td>13.000000</td>\n",
              "      <td>17.000000</td>\n",
              "      <td>38.000000</td>\n",
              "    </tr>\n",
              "  </tbody>\n",
              "</table>\n",
              "</div>\n",
              "      <button class=\"colab-df-convert\" onclick=\"convertToInteractive('df-cd2c0fd6-1117-4cf5-a1d9-21359464baf8')\"\n",
              "              title=\"Convert this dataframe to an interactive table.\"\n",
              "              style=\"display:none;\">\n",
              "        \n",
              "  <svg xmlns=\"http://www.w3.org/2000/svg\" height=\"24px\"viewBox=\"0 0 24 24\"\n",
              "       width=\"24px\">\n",
              "    <path d=\"M0 0h24v24H0V0z\" fill=\"none\"/>\n",
              "    <path d=\"M18.56 5.44l.94 2.06.94-2.06 2.06-.94-2.06-.94-.94-2.06-.94 2.06-2.06.94zm-11 1L8.5 8.5l.94-2.06 2.06-.94-2.06-.94L8.5 2.5l-.94 2.06-2.06.94zm10 10l.94 2.06.94-2.06 2.06-.94-2.06-.94-.94-2.06-.94 2.06-2.06.94z\"/><path d=\"M17.41 7.96l-1.37-1.37c-.4-.4-.92-.59-1.43-.59-.52 0-1.04.2-1.43.59L10.3 9.45l-7.72 7.72c-.78.78-.78 2.05 0 2.83L4 21.41c.39.39.9.59 1.41.59.51 0 1.02-.2 1.41-.59l7.78-7.78 2.81-2.81c.8-.78.8-2.07 0-2.86zM5.41 20L4 18.59l7.72-7.72 1.47 1.35L5.41 20z\"/>\n",
              "  </svg>\n",
              "      </button>\n",
              "      \n",
              "  <style>\n",
              "    .colab-df-container {\n",
              "      display:flex;\n",
              "      flex-wrap:wrap;\n",
              "      gap: 12px;\n",
              "    }\n",
              "\n",
              "    .colab-df-convert {\n",
              "      background-color: #E8F0FE;\n",
              "      border: none;\n",
              "      border-radius: 50%;\n",
              "      cursor: pointer;\n",
              "      display: none;\n",
              "      fill: #1967D2;\n",
              "      height: 32px;\n",
              "      padding: 0 0 0 0;\n",
              "      width: 32px;\n",
              "    }\n",
              "\n",
              "    .colab-df-convert:hover {\n",
              "      background-color: #E2EBFA;\n",
              "      box-shadow: 0px 1px 2px rgba(60, 64, 67, 0.3), 0px 1px 3px 1px rgba(60, 64, 67, 0.15);\n",
              "      fill: #174EA6;\n",
              "    }\n",
              "\n",
              "    [theme=dark] .colab-df-convert {\n",
              "      background-color: #3B4455;\n",
              "      fill: #D2E3FC;\n",
              "    }\n",
              "\n",
              "    [theme=dark] .colab-df-convert:hover {\n",
              "      background-color: #434B5C;\n",
              "      box-shadow: 0px 1px 3px 1px rgba(0, 0, 0, 0.15);\n",
              "      filter: drop-shadow(0px 1px 2px rgba(0, 0, 0, 0.3));\n",
              "      fill: #FFFFFF;\n",
              "    }\n",
              "  </style>\n",
              "\n",
              "      <script>\n",
              "        const buttonEl =\n",
              "          document.querySelector('#df-cd2c0fd6-1117-4cf5-a1d9-21359464baf8 button.colab-df-convert');\n",
              "        buttonEl.style.display =\n",
              "          google.colab.kernel.accessAllowed ? 'block' : 'none';\n",
              "\n",
              "        async function convertToInteractive(key) {\n",
              "          const element = document.querySelector('#df-cd2c0fd6-1117-4cf5-a1d9-21359464baf8');\n",
              "          const dataTable =\n",
              "            await google.colab.kernel.invokeFunction('convertToInteractive',\n",
              "                                                     [key], {});\n",
              "          if (!dataTable) return;\n",
              "\n",
              "          const docLinkHtml = 'Like what you see? Visit the ' +\n",
              "            '<a target=\"_blank\" href=https://colab.research.google.com/notebooks/data_table.ipynb>data table notebook</a>'\n",
              "            + ' to learn more about interactive tables.';\n",
              "          element.innerHTML = '';\n",
              "          dataTable['output_type'] = 'display_data';\n",
              "          await google.colab.output.renderOutput(dataTable, element);\n",
              "          const docLink = document.createElement('div');\n",
              "          docLink.innerHTML = docLinkHtml;\n",
              "          element.appendChild(docLink);\n",
              "        }\n",
              "      </script>\n",
              "    </div>\n",
              "  </div>\n",
              "  "
            ]
          },
          "metadata": {},
          "execution_count": 7
        }
      ],
      "source": [
        "# predictors\n",
        "predictors = ['felony',\n",
        "              'male', 'age', \n",
        "              'juv_fel_count','juv_misd_count', 'juv_other_count', 'priors_count']\n",
        "X = df[predictors]\n",
        "X.describe()"
      ]
    },
    {
      "cell_type": "code",
      "execution_count": 8,
      "metadata": {
        "id": "-6f9O8A134ek",
        "outputId": "3ddf3386-557a-4dea-d6dd-c9c7b6c5ec6e",
        "colab": {
          "base_uri": "https://localhost:8080/"
        }
      },
      "outputs": [
        {
          "output_type": "execute_result",
          "data": {
            "text/plain": [
              "African-American    3696\n",
              "Caucasian           2454\n",
              "Hispanic             637\n",
              "Other                377\n",
              "Asian                 32\n",
              "Native American       18\n",
              "Name: race, dtype: int64"
            ]
          },
          "metadata": {},
          "execution_count": 8
        }
      ],
      "source": [
        "df['race'].value_counts()"
      ]
    },
    {
      "cell_type": "code",
      "execution_count": 9,
      "metadata": {
        "id": "OsmqDL0-34ek",
        "outputId": "98f75042-8168-42ea-e2bf-be8ed7bc52fe",
        "colab": {
          "base_uri": "https://localhost:8080/"
        }
      },
      "outputs": [
        {
          "output_type": "execute_result",
          "data": {
            "text/plain": [
              "count    7214.000000\n",
              "mean        0.659828\n",
              "std         0.473800\n",
              "min         0.000000\n",
              "25%         0.000000\n",
              "50%         1.000000\n",
              "75%         1.000000\n",
              "max         1.000000\n",
              "Name: race, dtype: float64"
            ]
          },
          "metadata": {},
          "execution_count": 9
        }
      ],
      "source": [
        "# indicator variable for non-white\n",
        "NW = (df['race'] != 'Caucasian').astype(int)\n",
        "NW.describe()"
      ]
    },
    {
      "cell_type": "markdown",
      "metadata": {
        "id": "5dsJq-cf34el"
      },
      "source": [
        "## Assessing Algorithm: Predict Recidivism from Features"
      ]
    },
    {
      "cell_type": "markdown",
      "metadata": {
        "id": "A8UC1nwF34el"
      },
      "source": [
        "In the following you will predict recidivism from defendants' features using a nested training/test split so we can get clean test-set predictions for the whole dataset (see the notebook and homework on double machine learning for how to do this - week 6)."
      ]
    },
    {
      "cell_type": "code",
      "execution_count": 58,
      "metadata": {
        "scrolled": true,
        "id": "Z7n6THRs34el"
      },
      "outputs": [],
      "source": [
        "# perform nested train/test split \n",
        "from sklearn.model_selection import train_test_split\n",
        "X_a, X_b, Y_a, Y_b, D_a, D_b,NW_a, NW_b = train_test_split(X, Y, D, NW, test_size = 0.5)\n",
        "\n",
        "df_pred = X_a.append(X_b) \n",
        "#TODO train a logit model to predict recidism (Y) from predictors (X).\n",
        "#TODO form clean test-set predictions for recidivism in the full dataset\n",
        "from sklearn.linear_model import LogisticRegression\n",
        "clf = LogisticRegression(random_state=0).fit(X_a, Y_a)\n",
        "y_pred = clf.predict(X_b)"
      ]
    },
    {
      "cell_type": "markdown",
      "metadata": {
        "id": "sFq3SP6f34el"
      },
      "source": [
        "Evaluate test set performance."
      ]
    },
    {
      "cell_type": "code",
      "execution_count": 25,
      "metadata": {
        "scrolled": true,
        "id": "69FRiWYC34el",
        "colab": {
          "base_uri": "https://localhost:8080/",
          "height": 499
        },
        "outputId": "44e5bf98-37a4-4adf-cb33-346b387602b4"
      },
      "outputs": [
        {
          "output_type": "stream",
          "name": "stdout",
          "text": [
            "[[2075  202]\n",
            " [1047  283]]\n",
            "              precision    recall  f1-score   support\n",
            "\n",
            "           0       0.66      0.91      0.77      2277\n",
            "           1       0.58      0.21      0.31      1330\n",
            "\n",
            "    accuracy                           0.65      3607\n",
            "   macro avg       0.62      0.56      0.54      3607\n",
            "weighted avg       0.63      0.65      0.60      3607\n",
            "\n",
            "ROC-AUC Score:  0.5620343678696081\n"
          ]
        },
        {
          "output_type": "display_data",
          "data": {
            "text/plain": [
              "<Figure size 432x288 with 2 Axes>"
            ],
            "image/png": "[encoded data removed]"
          },
          "metadata": {}
        }
      ],
      "source": [
        "#TODO show a confusion matrix, compute accuracy, balanced accuracy, and roc_auc\n",
        "#TODO compute ratio of false positives to false negatives\n",
        "\n",
        "from sklearn.metrics import confusion_matrix, plot_confusion_matrix, roc_auc_score\n",
        "from sklearn.metrics import classification_report\n",
        "\n",
        "print(confusion_matrix(Y_b, y_pred))\n",
        "plot_confusion_matrix(clf, X_b, Y_b)\n",
        "print(classification_report(Y_b, y_pred))\n",
        "print(\"ROC-AUC Score: \",roc_auc_score(Y_b, y_pred))"
      ]
    },
    {
      "cell_type": "markdown",
      "metadata": {
        "id": "9WbKHqvP34em"
      },
      "source": [
        "### Compare treatment of whites and non-whites for recidivism prediction\n",
        "##### Refer to week 11 for these concepts"
      ]
    },
    {
      "cell_type": "markdown",
      "metadata": {
        "id": "PEPNn8dF34em"
      },
      "source": [
        "#### Base Rates"
      ]
    },
    {
      "cell_type": "code",
      "execution_count": 27,
      "metadata": {
        "id": "6BKIwb_n34em",
        "colab": {
          "base_uri": "https://localhost:8080/"
        },
        "outputId": "be17ecde-33c3-4630-850d-923adc2dd7be"
      },
      "outputs": [
        {
          "output_type": "stream",
          "name": "stdout",
          "text": [
            "In the groundtruth labels rate of whites committing crime:  0.26\n",
            "In the groundtruth labels rate of non-whites committing crime:  0.11\n",
            "In the predictions rate of whites committing crime:  0.11\n",
            "In the predictions labels rate of non-whites committing crime:  0.02\n"
          ]
        }
      ],
      "source": [
        "##TODO Compare base rates for recidivism outcomes of whites and non-whites\n",
        "print(\"In the groundtruth labels rate of whites committing crime: \", round(Y_b[NW_b==1].sum()/ Y_b.count(), 2))\n",
        "print(\"In the groundtruth labels rate of non-whites committing crime: \", round(Y_b[NW_b==0].sum()/ Y_b.count(), 2))\n",
        "\n",
        "print(\"In the predictions rate of whites committing crime: \", round(y_pred[NW_b==1].sum()/ y_pred.shape[0], 2))\n",
        "print(\"In the predictions labels rate of non-whites committing crime: \", round(y_pred[NW_b==0].sum()/ y_pred.shape[0], 2))"
      ]
    },
    {
      "cell_type": "markdown",
      "metadata": {
        "id": "OlFfTKQl34em"
      },
      "source": [
        "#### Performance"
      ]
    },
    {
      "cell_type": "code",
      "execution_count": 29,
      "metadata": {
        "id": "SBugUxjO34em",
        "colab": {
          "base_uri": "https://localhost:8080/",
          "height": 338
        },
        "outputId": "80451702-b7ed-41ed-88c2-5b944a31e08a"
      },
      "outputs": [
        {
          "output_type": "stream",
          "name": "stdout",
          "text": [
            "For Whites\n",
            "[[1289  165]\n",
            " [ 691  238]]\n"
          ]
        },
        {
          "output_type": "display_data",
          "data": {
            "text/plain": [
              "<Figure size 432x288 with 2 Axes>"
            ],
            "image/png": "[encoded data removed]"
          },
          "metadata": {}
        }
      ],
      "source": [
        "##TODO Produce confusion matrices, classification reports, and ratio of false positives to false negatives, separately for whites and non-whites.\n",
        "print(\"For Whites\")\n",
        "print(confusion_matrix(Y_b[NW_b==1], y_pred[NW_b==1]))\n",
        "plot_confusion_matrix(clf, X_b[NW_b==1], Y_b[NW_b==1])\n",
        "plt.show() "
      ]
    },
    {
      "cell_type": "code",
      "source": [
        "print(\"For Non-Whites\")\n",
        "print(confusion_matrix(Y_b[NW_b==0], y_pred[NW_b==0]))\n",
        "plot_confusion_matrix(clf, X_b[NW_b==0], Y_b[NW_b==0])\n",
        "plt.show() "
      ],
      "metadata": {
        "colab": {
          "base_uri": "https://localhost:8080/",
          "height": 338
        },
        "id": "NXdhnkyagw_G",
        "outputId": "1b9afe70-2734-4d20-95c5-3c03c0b811bd"
      },
      "execution_count": 30,
      "outputs": [
        {
          "output_type": "stream",
          "name": "stdout",
          "text": [
            "For Non-Whites\n",
            "[[786  37]\n",
            " [356  45]]\n"
          ]
        },
        {
          "output_type": "display_data",
          "data": {
            "text/plain": [
              "<Figure size 432x288 with 2 Axes>"
            ],
            "image/png": "[encoded data removed]"
          },
          "metadata": {}
        }
      ]
    },
    {
      "cell_type": "markdown",
      "metadata": {
        "id": "yJfAb8Tu34em"
      },
      "source": [
        "**What concepts of \"fairness\" (from class) are (approximately) satisfied by this classifier? Explain.**"
      ]
    },
    {
      "cell_type": "markdown",
      "metadata": {
        "id": "mmDJq1o034en"
      },
      "source": [
        "## Assessing Judges' Decisions: Predict Judge Decision from Features"
      ]
    },
    {
      "cell_type": "markdown",
      "metadata": {
        "id": "hCZxx3qy34en"
      },
      "source": [
        "In the following you will predict judges' decisions from defendants' features using a nested training/test split as before. In a second model, include Y-hat from previous section as a predictor."
      ]
    },
    {
      "cell_type": "code",
      "execution_count": 59,
      "metadata": {
        "id": "AI-Lw6bt34en"
      },
      "outputs": [],
      "source": [
        "#TODO train a logit model to predict judge decision (D) from predictors (X). \n",
        "clf2 = LogisticRegression(random_state=0).fit(X_a, D_a)\n",
        "D_hat_b = clf.predict(X_b)\n",
        "Y_hat_a = clf.predict(X_a)"
      ]
    },
    {
      "cell_type": "code",
      "execution_count": 33,
      "metadata": {
        "scrolled": false,
        "id": "VrBhsQ7n34en"
      },
      "outputs": [],
      "source": [
        "#TODO train a logit model to predict judge decision (D) from predictors (X) and predicted recidivism risk (Yhat)\n",
        "#TODO form clean test-set predictions for the decisions in the full dataset\n",
        "X_a[\"Y_hat\"] = Y_hat_a\n",
        "X_b[\"Y_hat\"] = y_pred\n",
        "clf3 = LogisticRegression(random_state=0).fit(X_a, D_a)\n",
        "D_hat_b = clf3.predict(X_b)"
      ]
    },
    {
      "cell_type": "markdown",
      "metadata": {
        "id": "sW6OasKC34eo"
      },
      "source": [
        "### Compare treatment of whites and non-whites for recidivism prediction"
      ]
    },
    {
      "cell_type": "code",
      "execution_count": 34,
      "metadata": {
        "id": "eZkDpm3f34eo",
        "colab": {
          "base_uri": "https://localhost:8080/",
          "height": 338
        },
        "outputId": "1c4f563c-eb03-4858-8bf9-8a2c6e176d76"
      },
      "outputs": [
        {
          "output_type": "stream",
          "name": "stdout",
          "text": [
            "For Whites\n",
            "[[1289  165]\n",
            " [ 691  238]]\n"
          ]
        },
        {
          "output_type": "display_data",
          "data": {
            "text/plain": [
              "<Figure size 432x288 with 2 Axes>"
            ],
            "image/png": "[encoded data removed]"
          },
          "metadata": {}
        }
      ],
      "source": [
        "##TODO Produce confusion matrices, classification reports, and ratio of false positives to false negatives, \n",
        "##TODO separately for whites and non-whites, and with/without including Y-hat as a predictor.\n",
        "print(\"For Whites\")\n",
        "print(confusion_matrix(Y_b[NW_b==1], y_pred[NW_b==1]))\n",
        "plot_confusion_matrix(clf3, X_b[NW_b==1], Y_b[NW_b==1])\n",
        "plt.show()"
      ]
    },
    {
      "cell_type": "code",
      "source": [
        "print(\"For Non-Whites\")\n",
        "print(confusion_matrix(Y_b[NW_b==0], y_pred[NW_b==0]))\n",
        "plot_confusion_matrix(clf3, X_b[NW_b==0], Y_b[NW_b==0])\n",
        "plt.show()"
      ],
      "metadata": {
        "colab": {
          "base_uri": "https://localhost:8080/",
          "height": 338
        },
        "id": "o8LN0_ZPhEHZ",
        "outputId": "a953ed1c-8210-4a0a-a133-7cc1a4d3c273"
      },
      "execution_count": 35,
      "outputs": [
        {
          "output_type": "stream",
          "name": "stdout",
          "text": [
            "For Non-Whites\n",
            "[[786  37]\n",
            " [356  45]]\n"
          ]
        },
        {
          "output_type": "display_data",
          "data": {
            "text/plain": [
              "<Figure size 432x288 with 2 Axes>"
            ],
            "image/png": "[encoded data removed]"
          },
          "metadata": {}
        }
      ]
    },
    {
      "cell_type": "markdown",
      "metadata": {
        "id": "dG3EcKFz34eo"
      },
      "source": [
        "### Enforcing Statistical Parity"
      ]
    },
    {
      "cell_type": "markdown",
      "metadata": {
        "id": "5fm1dJyr34eo"
      },
      "source": [
        "In this part you will find the the group-specific thresholds for both models of judges' decision (with/without Yhat) that obtain statistical parity.\n",
        "\n",
        "You can use a custom classifier `threshold` for the decision with this type of code snippet: `decisions = (logit.predict_proba(X) >= threshold).astype(int)`."
      ]
    },
    {
      "cell_type": "markdown",
      "metadata": {
        "id": "K9vLf2YA34eo"
      },
      "source": [
        "#### Model without Yhat"
      ]
    },
    {
      "cell_type": "code",
      "execution_count": 60,
      "metadata": {
        "scrolled": true,
        "id": "_UsABwAo34eo",
        "colab": {
          "base_uri": "https://localhost:8080/"
        },
        "outputId": "84771514-ea1b-4e8f-de96-dd67ee6745b1"
      },
      "outputs": [
        {
          "output_type": "stream",
          "name": "stdout",
          "text": [
            "The optimal threshold for statistical parity is 0.9\n"
          ]
        }
      ],
      "source": [
        "##Find the largest and lowest thresholds to enforce statistical parity\n",
        "##hint: build a recursive function to find the probability threshold that minimizes \n",
        "## the difference between the predicted outcomes for whites and non whites\n",
        "import numpy as np\n",
        "\n",
        "def custom_predict(logit, X, th):\n",
        "  return (logit.predict_proba(X)[:, 1] >= th).astype(int)\n",
        "\n",
        "thresholds = np.arange(0.1, 1.0, 0.1)\n",
        "min_diff = np.inf\n",
        "for th in thresholds:\n",
        "  y_pred = custom_predict(clf2, X_b, th)\n",
        "  y_pred_nonwhite = sum(y_pred[NW_b==0])\n",
        "  y_pred_white = sum(y_pred[NW_b==1])\n",
        "  if min_diff > abs(y_pred_white-y_pred_nonwhite):\n",
        "    min_diff = abs(y_pred_white-y_pred_nonwhite)\n",
        "    optimal_threshold = th\n",
        "print(\"The optimal threshold for statistical parity is\", optimal_threshold)"
      ]
    },
    {
      "cell_type": "markdown",
      "metadata": {
        "id": "LsANf8pS34ep"
      },
      "source": [
        "#### Model with Yhat"
      ]
    },
    {
      "cell_type": "code",
      "execution_count": 57,
      "metadata": {
        "scrolled": true,
        "id": "4jodXNTs34ep",
        "colab": {
          "base_uri": "https://localhost:8080/"
        },
        "outputId": "f5aff2e7-b645-424b-fa61-0b9c03a40d83"
      },
      "outputs": [
        {
          "output_type": "stream",
          "name": "stdout",
          "text": [
            "The optimal threshold for statistical parity is  0.9\n"
          ]
        }
      ],
      "source": [
        "##Find the largest and lowest thresholds to enforce statistical parity\n",
        "##hint: build a recursive function to find the probability threshold that minimizes \n",
        "## the difference between the predicted outcomes for whites and non whites\n",
        "\n",
        "thresholds = np.arange(0.1, 1.0, 0.1)\n",
        "min_diff = np.inf\n",
        "for th in thresholds:\n",
        "  y_pred = custom_predict(clf3, X_b, th)\n",
        "  y_pred_nonwhite = sum(y_pred[NW_b==0])\n",
        "  y_pred_white = sum(y_pred[NW_b==1])\n",
        "  if min_diff > abs(y_pred_white-y_pred_nonwhite):\n",
        "    min_diff = abs(y_pred_white-y_pred_nonwhite)\n",
        "    optimal_threshold = th\n",
        "print(\"The optimal threshold for statistical parity is\", optimal_threshold)"
      ]
    },
    {
      "cell_type": "markdown",
      "metadata": {
        "id": "jgzq-SvD34ep"
      },
      "source": [
        "# Bonus 1: More Fairness Constraints"
      ]
    },
    {
      "cell_type": "markdown",
      "metadata": {
        "id": "-VpsYYzR34ep"
      },
      "source": [
        "Find the threshold for both models (with/without Yhat) that obtains error rate balance (equality of recalls for each class."
      ]
    },
    {
      "cell_type": "code",
      "execution_count": null,
      "metadata": {
        "id": "hQZShWOO34ep"
      },
      "outputs": [],
      "source": [
        "##TODO"
      ]
    },
    {
      "cell_type": "markdown",
      "metadata": {
        "id": "MUDEKgpI34ep"
      },
      "source": [
        "Find the threshold for both models (with/without Yhat) that obtains predictive parity (equality of precisions for each class)."
      ]
    },
    {
      "cell_type": "code",
      "execution_count": null,
      "metadata": {
        "id": "QXL51oLt34ep"
      },
      "outputs": [],
      "source": [
        "##TODO"
      ]
    },
    {
      "cell_type": "markdown",
      "metadata": {
        "id": "VuAEGEBz34ep"
      },
      "source": [
        "Find the threshold for both models (with/without Yhat) that obtains treatment equality (ratio of false positives to false negatives)."
      ]
    },
    {
      "cell_type": "code",
      "execution_count": null,
      "metadata": {
        "scrolled": true,
        "id": "aeR3URDK34eq"
      },
      "outputs": [],
      "source": [
        "##TODO"
      ]
    },
    {
      "cell_type": "markdown",
      "metadata": {
        "id": "2nygIxM334eq"
      },
      "source": [
        "# Bonus 2: Pre-Processing for Fairness"
      ]
    },
    {
      "cell_type": "markdown",
      "metadata": {
        "id": "482xcVWr34eq"
      },
      "source": [
        "Regress all predictors in `X` on the protected attribute `A` and produce residuals `Xtilde`. Re-do the prediction task above (predicting judges' decision) and discuss how it changes the fairness metrics."
      ]
    },
    {
      "cell_type": "code",
      "execution_count": null,
      "metadata": {
        "id": "IwdqoogU34eq"
      },
      "outputs": [],
      "source": [
        "##TODO"
      ]
    }
  ],
  "metadata": {
    "kernelspec": {
      "display_name": "Python 3",
      "language": "python",
      "name": "python3"
    },
    "language_info": {
      "codemirror_mode": {
        "name": "ipython",
        "version": 3
      },
      "file_extension": ".py",
      "mimetype": "text/x-python",
      "name": "python",
      "nbconvert_exporter": "python",
      "pygments_lexer": "ipython3",
      "version": "3.8.10"
    },
    "colab": {
      "provenance": []
    }
  },
  "nbformat": 4,
  "nbformat_minor": 0
}