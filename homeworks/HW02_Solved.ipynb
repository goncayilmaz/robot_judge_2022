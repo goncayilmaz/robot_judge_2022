{
  "cells": [
    {
      "cell_type": "markdown",
      "metadata": {
        "id": "0kkdWEYYOXr8"
      },
      "source": [
        "# HW02 (due October 12th)"
      ]
    },
    {
      "cell_type": "markdown",
      "metadata": {
        "id": "rgSyMCECOXsA"
      },
      "source": [
        "In this homework you will investigate the *causal* of being part of a union on the number of hours worked. You will work with data from the National Longitudinal Survey. In particular, you have a panel of young women who were between 14 and 26 years of age in 1968, surveyed for 20 years.\n",
        "\n",
        "The purpose of this homework is ot make you think about the **identification** assumptions underlying your empirical strategy, namely the assumptions that allow the coefficient estimate from the regressions to be causal. Throughout the homework you will try to address the issue of **omitted variable bias** through different strategies, that will allow to make milder identification assumptions."
      ]
    },
    {
      "cell_type": "markdown",
      "metadata": {
        "id": "k7EqWgWEOXsA"
      },
      "source": [
        "# Load Data"
      ]
    },
    {
      "cell_type": "code",
      "execution_count": null,
      "metadata": {
        "id": "lFffPgbmOXsB"
      },
      "outputs": [],
      "source": [
        "##Load the NLSY dataset\n",
        "import pandas as pd\n",
        "import statsmodels.formula.api as smf\n",
        "import numpy as np\n",
        "\n",
        "# To plot pretty figures\n",
        "%matplotlib inline\n",
        "%config InlineBackend.figure_format = 'retina'\n",
        "import matplotlib as mpl\n",
        "import matplotlib.pyplot as plt\n",
        "#%matplotlib notebook\n",
        "mpl.rc('axes', labelsize=14)\n",
        "mpl.rc('xtick', labelsize=12)\n",
        "mpl.rc('ytick', labelsize=12)\n",
        "\n",
        "import seaborn as sns\n",
        "sns.set_theme()\n",
        "\n",
        "data = pd.read_stata('https://www.stata-press.com/data/r16/nlswork.dta')"
      ]
    },
    {
      "cell_type": "markdown",
      "metadata": {
        "id": "K_jauiP-OXsC"
      },
      "source": [
        "#  Summary statistics"
      ]
    },
    {
      "cell_type": "markdown",
      "metadata": {
        "id": "bl1afW3HOXsC"
      },
      "source": [
        "Inspect the data."
      ]
    },
    {
      "cell_type": "code",
      "execution_count": null,
      "metadata": {
        "colab": {
          "base_uri": "https://localhost:8080/"
        },
        "id": "hcFJbFFXOvq-",
        "outputId": "067c9dd6-4358-461f-a460-857aaeaa543d"
      },
      "outputs": [
        {
          "name": "stdout",
          "output_type": "stream",
          "text": [
            "<class 'pandas.core.frame.DataFrame'>\n",
            "Int64Index: 28534 entries, 0 to 28533\n",
            "Data columns (total 21 columns):\n",
            " #   Column    Non-Null Count  Dtype   \n",
            "---  ------    --------------  -----   \n",
            " 0   idcode    28534 non-null  int16   \n",
            " 1   year      28534 non-null  int8    \n",
            " 2   birth_yr  28534 non-null  int8    \n",
            " 3   age       28510 non-null  float64 \n",
            " 4   race      28534 non-null  category\n",
            " 5   msp       28518 non-null  float64 \n",
            " 6   nev_mar   28518 non-null  float64 \n",
            " 7   grade     28532 non-null  float64 \n",
            " 8   collgrad  28534 non-null  int8    \n",
            " 9   not_smsa  28526 non-null  float64 \n",
            " 10  c_city    28526 non-null  float64 \n",
            " 11  south     28526 non-null  float64 \n",
            " 12  ind_code  28193 non-null  float64 \n",
            " 13  occ_code  28413 non-null  float64 \n",
            " 14  union     19238 non-null  float64 \n",
            " 15  wks_ue    22830 non-null  float64 \n",
            " 16  ttl_exp   28534 non-null  float32 \n",
            " 17  tenure    28101 non-null  float32 \n",
            " 18  hours     28467 non-null  float64 \n",
            " 19  wks_work  27831 non-null  float64 \n",
            " 20  ln_wage   28534 non-null  float32 \n",
            "dtypes: category(1), float32(3), float64(13), int16(1), int8(3)\n",
            "memory usage: 3.5 MB\n"
          ]
        }
      ],
      "source": [
        "data.info()"
      ]
    },
    {
      "cell_type": "code",
      "execution_count": null,
      "metadata": {
        "colab": {
          "base_uri": "https://localhost:8080/"
        },
        "id": "-b2PFenqRHnd",
        "outputId": "6efa121a-1fd9-4470-9fe3-8e392f89e728"
      },
      "outputs": [
        {
          "data": {
            "text/plain": [
              "3.0     10974\n",
              "6.0      4309\n",
              "8.0      4300\n",
              "1.0      3008\n",
              "13.0     1645\n",
              "2.0      1494\n",
              "4.0      1323\n",
              "7.0       571\n",
              "5.0       438\n",
              "11.0      194\n",
              "10.0      144\n",
              "12.0        7\n",
              "9.0         6\n",
              "Name: occ_code, dtype: int64"
            ]
          },
          "execution_count": 19,
          "metadata": {},
          "output_type": "execute_result"
        }
      ],
      "source": [
        "data.occ_code.value_counts()"
      ]
    },
    {
      "cell_type": "code",
      "execution_count": null,
      "metadata": {
        "colab": {
          "base_uri": "https://localhost:8080/",
          "height": 356
        },
        "id": "3QVrQgFqOXsC",
        "outputId": "88329b8c-b5dc-4eb9-f219-e7a21be62696"
      },
      "outputs": [
        {
          "name": "stderr",
          "output_type": "stream",
          "text": [
            "/usr/local/lib/python3.7/dist-packages/seaborn/_decorators.py:43: FutureWarning: Pass the following variables as keyword args: x, y. From version 0.12, the only valid positional argument will be `data`, and passing other arguments without an explicit keyword will result in an error or misinterpretation.\n",
            "  FutureWarning\n"
          ]
        },
        {
          "data": {
            "text/plain": [
              "<matplotlib.axes._subplots.AxesSubplot at 0x7f564e567e10>"
            ]
          },
          "execution_count": 3,
          "metadata": {},
          "output_type": "execute_result"
        },
        {
          "data": {
            "image/png": "[encoded data removed]",
            "text/plain": [
              "<Figure size 432x288 with 1 Axes>"
            ]
          },
          "metadata": {
            "image/png": {
              "height": 267,
              "width": 400
            }
          },
          "output_type": "display_data"
        }
      ],
      "source": [
        "##Visualize the dataset\n",
        "x = data['hours']\n",
        "y = data['union']\n",
        "sns.lineplot(x, y, ci = None)"
      ]
    },
    {
      "cell_type": "code",
      "execution_count": null,
      "metadata": {
        "colab": {
          "base_uri": "https://localhost:8080/",
          "height": 300
        },
        "id": "OLBM0OtaOXsD",
        "outputId": "fec4d096-7b00-4517-bfc7-83463c6c58a2"
      },
      "outputs": [
        {
          "data": {
            "text/html": [
              "\n",
              "  <div id=\"df-d2e72ab1-869a-4d1d-8a8f-118578fad88c\">\n",
              "    <div class=\"colab-df-container\">\n",
              "      <div>\n",
              "<style scoped>\n",
              "    .dataframe tbody tr th:only-of-type {\n",
              "        vertical-align: middle;\n",
              "    }\n",
              "\n",
              "    .dataframe tbody tr th {\n",
              "        vertical-align: top;\n",
              "    }\n",
              "\n",
              "    .dataframe thead th {\n",
              "        text-align: right;\n",
              "    }\n",
              "</style>\n",
              "<table border=\"1\" class=\"dataframe\">\n",
              "  <thead>\n",
              "    <tr style=\"text-align: right;\">\n",
              "      <th></th>\n",
              "      <th>union</th>\n",
              "      <th>collgrad</th>\n",
              "    </tr>\n",
              "  </thead>\n",
              "  <tbody>\n",
              "    <tr>\n",
              "      <th>count</th>\n",
              "      <td>19238.000000</td>\n",
              "      <td>28534.000000</td>\n",
              "    </tr>\n",
              "    <tr>\n",
              "      <th>mean</th>\n",
              "      <td>0.234432</td>\n",
              "      <td>0.168045</td>\n",
              "    </tr>\n",
              "    <tr>\n",
              "      <th>std</th>\n",
              "      <td>0.423654</td>\n",
              "      <td>0.373913</td>\n",
              "    </tr>\n",
              "    <tr>\n",
              "      <th>min</th>\n",
              "      <td>0.000000</td>\n",
              "      <td>0.000000</td>\n",
              "    </tr>\n",
              "    <tr>\n",
              "      <th>25%</th>\n",
              "      <td>0.000000</td>\n",
              "      <td>0.000000</td>\n",
              "    </tr>\n",
              "    <tr>\n",
              "      <th>50%</th>\n",
              "      <td>0.000000</td>\n",
              "      <td>0.000000</td>\n",
              "    </tr>\n",
              "    <tr>\n",
              "      <th>75%</th>\n",
              "      <td>0.000000</td>\n",
              "      <td>0.000000</td>\n",
              "    </tr>\n",
              "    <tr>\n",
              "      <th>max</th>\n",
              "      <td>1.000000</td>\n",
              "      <td>1.000000</td>\n",
              "    </tr>\n",
              "  </tbody>\n",
              "</table>\n",
              "</div>\n",
              "      <button class=\"colab-df-convert\" onclick=\"convertToInteractive('df-d2e72ab1-869a-4d1d-8a8f-118578fad88c')\"\n",
              "              title=\"Convert this dataframe to an interactive table.\"\n",
              "              style=\"display:none;\">\n",
              "        \n",
              "  <svg xmlns=\"http://www.w3.org/2000/svg\" height=\"24px\"viewBox=\"0 0 24 24\"\n",
              "       width=\"24px\">\n",
              "    <path d=\"M0 0h24v24H0V0z\" fill=\"none\"/>\n",
              "    <path d=\"M18.56 5.44l.94 2.06.94-2.06 2.06-.94-2.06-.94-.94-2.06-.94 2.06-2.06.94zm-11 1L8.5 8.5l.94-2.06 2.06-.94-2.06-.94L8.5 2.5l-.94 2.06-2.06.94zm10 10l.94 2.06.94-2.06 2.06-.94-2.06-.94-.94-2.06-.94 2.06-2.06.94z\"/><path d=\"M17.41 7.96l-1.37-1.37c-.4-.4-.92-.59-1.43-.59-.52 0-1.04.2-1.43.59L10.3 9.45l-7.72 7.72c-.78.78-.78 2.05 0 2.83L4 21.41c.39.39.9.59 1.41.59.51 0 1.02-.2 1.41-.59l7.78-7.78 2.81-2.81c.8-.78.8-2.07 0-2.86zM5.41 20L4 18.59l7.72-7.72 1.47 1.35L5.41 20z\"/>\n",
              "  </svg>\n",
              "      </button>\n",
              "      \n",
              "  <style>\n",
              "    .colab-df-container {\n",
              "      display:flex;\n",
              "      flex-wrap:wrap;\n",
              "      gap: 12px;\n",
              "    }\n",
              "\n",
              "    .colab-df-convert {\n",
              "      background-color: #E8F0FE;\n",
              "      border: none;\n",
              "      border-radius: 50%;\n",
              "      cursor: pointer;\n",
              "      display: none;\n",
              "      fill: #1967D2;\n",
              "      height: 32px;\n",
              "      padding: 0 0 0 0;\n",
              "      width: 32px;\n",
              "    }\n",
              "\n",
              "    .colab-df-convert:hover {\n",
              "      background-color: #E2EBFA;\n",
              "      box-shadow: 0px 1px 2px rgba(60, 64, 67, 0.3), 0px 1px 3px 1px rgba(60, 64, 67, 0.15);\n",
              "      fill: #174EA6;\n",
              "    }\n",
              "\n",
              "    [theme=dark] .colab-df-convert {\n",
              "      background-color: #3B4455;\n",
              "      fill: #D2E3FC;\n",
              "    }\n",
              "\n",
              "    [theme=dark] .colab-df-convert:hover {\n",
              "      background-color: #434B5C;\n",
              "      box-shadow: 0px 1px 3px 1px rgba(0, 0, 0, 0.15);\n",
              "      filter: drop-shadow(0px 1px 2px rgba(0, 0, 0, 0.3));\n",
              "      fill: #FFFFFF;\n",
              "    }\n",
              "  </style>\n",
              "\n",
              "      <script>\n",
              "        const buttonEl =\n",
              "          document.querySelector('#df-d2e72ab1-869a-4d1d-8a8f-118578fad88c button.colab-df-convert');\n",
              "        buttonEl.style.display =\n",
              "          google.colab.kernel.accessAllowed ? 'block' : 'none';\n",
              "\n",
              "        async function convertToInteractive(key) {\n",
              "          const element = document.querySelector('#df-d2e72ab1-869a-4d1d-8a8f-118578fad88c');\n",
              "          const dataTable =\n",
              "            await google.colab.kernel.invokeFunction('convertToInteractive',\n",
              "                                                     [key], {});\n",
              "          if (!dataTable) return;\n",
              "\n",
              "          const docLinkHtml = 'Like what you see? Visit the ' +\n",
              "            '<a target=\"_blank\" href=https://colab.research.google.com/notebooks/data_table.ipynb>data table notebook</a>'\n",
              "            + ' to learn more about interactive tables.';\n",
              "          element.innerHTML = '';\n",
              "          dataTable['output_type'] = 'display_data';\n",
              "          await google.colab.output.renderOutput(dataTable, element);\n",
              "          const docLink = document.createElement('div');\n",
              "          docLink.innerHTML = docLinkHtml;\n",
              "          element.appendChild(docLink);\n",
              "        }\n",
              "      </script>\n",
              "    </div>\n",
              "  </div>\n",
              "  "
            ],
            "text/plain": [
              "              union      collgrad\n",
              "count  19238.000000  28534.000000\n",
              "mean       0.234432      0.168045\n",
              "std        0.423654      0.373913\n",
              "min        0.000000      0.000000\n",
              "25%        0.000000      0.000000\n",
              "50%        0.000000      0.000000\n",
              "75%        0.000000      0.000000\n",
              "max        1.000000      1.000000"
            ]
          },
          "execution_count": 4,
          "metadata": {},
          "output_type": "execute_result"
        }
      ],
      "source": [
        "##tabulate college and union status \n",
        "data.describe()[['union','collgrad']]"
      ]
    },
    {
      "cell_type": "code",
      "execution_count": null,
      "metadata": {
        "id": "b0XuEu8BOXsE"
      },
      "outputs": [],
      "source": [
        "##generate a variable for log hours worked\n",
        "data['log_hours'] = np.log(data['hours'])"
      ]
    },
    {
      "cell_type": "code",
      "execution_count": null,
      "metadata": {
        "colab": {
          "base_uri": "https://localhost:8080/",
          "height": 391
        },
        "id": "CUehTjO3OXsE",
        "outputId": "fa82f707-fb46-4543-d211-90351d40ef00"
      },
      "outputs": [
        {
          "name": "stderr",
          "output_type": "stream",
          "text": [
            "/usr/local/lib/python3.7/dist-packages/seaborn/_decorators.py:43: FutureWarning: Pass the following variables as keyword args: x, y. From version 0.12, the only valid positional argument will be `data`, and passing other arguments without an explicit keyword will result in an error or misinterpretation.\n",
            "  FutureWarning\n",
            "/usr/local/lib/python3.7/dist-packages/seaborn/_decorators.py:43: FutureWarning: Pass the following variables as keyword args: x, y. From version 0.12, the only valid positional argument will be `data`, and passing other arguments without an explicit keyword will result in an error or misinterpretation.\n",
            "  FutureWarning\n"
          ]
        },
        {
          "data": {
            "text/plain": [
              "<matplotlib.axes._subplots.AxesSubplot at 0x7f564c1d8bd0>"
            ]
          },
          "execution_count": 9,
          "metadata": {},
          "output_type": "execute_result"
        },
        {
          "data": {
            "image/png": "[encoded data removed]",
            "text/plain": [
              "<Figure size 432x288 with 1 Axes>"
            ]
          },
          "metadata": {
            "image/png": {
              "height": 267,
              "width": 399
            }
          },
          "output_type": "display_data"
        }
      ],
      "source": [
        "##plot log hours against year separately for union and non-union\n",
        "import seaborn as sns\n",
        "union_data = data[data['union']==1]\n",
        "non_union_data = data[data['union']==0]\n",
        "x = union_data['log_hours']\n",
        "y = union_data['year']\n",
        "sns.lineplot(x, y, ci = None)\n",
        "x = non_union_data['log_hours']\n",
        "y = non_union_data['year']\n",
        "sns.lineplot(x, y, ci = None)"
      ]
    },
    {
      "cell_type": "markdown",
      "metadata": {
        "id": "B3Jj7p89OXsF"
      },
      "source": [
        "# Regression: Effect of union status on hours worked"
      ]
    },
    {
      "cell_type": "code",
      "execution_count": null,
      "metadata": {
        "id": "XHKxC9ZDOXsF"
      },
      "outputs": [],
      "source": [
        "##Regress hours worked against union status and display the results\n",
        "res = smf.ols(\"union ~ hours\", data=data).fit()"
      ]
    },
    {
      "cell_type": "code",
      "execution_count": null,
      "metadata": {
        "colab": {
          "base_uri": "https://localhost:8080/",
          "height": 445
        },
        "id": "D7zG7Dg2OXsF",
        "outputId": "16a09a3c-4b89-4cae-aaa4-0dfbeb67a10b"
      },
      "outputs": [
        {
          "data": {
            "text/html": [
              "<table class=\"simpletable\">\n",
              "<caption>OLS Regression Results</caption>\n",
              "<tr>\n",
              "  <th>Dep. Variable:</th>          <td>union</td>      <th>  R-squared:         </th> <td>   0.007</td> \n",
              "</tr>\n",
              "<tr>\n",
              "  <th>Model:</th>                   <td>OLS</td>       <th>  Adj. R-squared:    </th> <td>   0.007</td> \n",
              "</tr>\n",
              "<tr>\n",
              "  <th>Method:</th>             <td>Least Squares</td>  <th>  F-statistic:       </th> <td>   136.6</td> \n",
              "</tr>\n",
              "<tr>\n",
              "  <th>Date:</th>             <td>Mon, 10 Oct 2022</td> <th>  Prob (F-statistic):</th> <td>1.85e-31</td> \n",
              "</tr>\n",
              "<tr>\n",
              "  <th>Time:</th>                 <td>17:46:55</td>     <th>  Log-Likelihood:    </th> <td> -10689.</td> \n",
              "</tr>\n",
              "<tr>\n",
              "  <th>No. Observations:</th>      <td> 19202</td>      <th>  AIC:               </th> <td>2.138e+04</td>\n",
              "</tr>\n",
              "<tr>\n",
              "  <th>Df Residuals:</th>          <td> 19200</td>      <th>  BIC:               </th> <td>2.140e+04</td>\n",
              "</tr>\n",
              "<tr>\n",
              "  <th>Df Model:</th>              <td>     1</td>      <th>                     </th>     <td> </td>    \n",
              "</tr>\n",
              "<tr>\n",
              "  <th>Covariance Type:</th>      <td>nonrobust</td>    <th>                     </th>     <td> </td>    \n",
              "</tr>\n",
              "</table>\n",
              "<table class=\"simpletable\">\n",
              "<tr>\n",
              "      <td></td>         <th>coef</th>     <th>std err</th>      <th>t</th>      <th>P>|t|</th>  <th>[0.025</th>    <th>0.975]</th>  \n",
              "</tr>\n",
              "<tr>\n",
              "  <th>Intercept</th> <td>    0.0978</td> <td>    0.012</td> <td>    8.099</td> <td> 0.000</td> <td>    0.074</td> <td>    0.122</td>\n",
              "</tr>\n",
              "<tr>\n",
              "  <th>hours</th>     <td>    0.0037</td> <td>    0.000</td> <td>   11.689</td> <td> 0.000</td> <td>    0.003</td> <td>    0.004</td>\n",
              "</tr>\n",
              "</table>\n",
              "<table class=\"simpletable\">\n",
              "<tr>\n",
              "  <th>Omnibus:</th>       <td>3340.130</td> <th>  Durbin-Watson:     </th> <td>   1.027</td>\n",
              "</tr>\n",
              "<tr>\n",
              "  <th>Prob(Omnibus):</th>  <td> 0.000</td>  <th>  Jarque-Bera (JB):  </th> <td>5043.521</td>\n",
              "</tr>\n",
              "<tr>\n",
              "  <th>Skew:</th>           <td> 1.237</td>  <th>  Prob(JB):          </th> <td>    0.00</td>\n",
              "</tr>\n",
              "<tr>\n",
              "  <th>Kurtosis:</th>       <td> 2.567</td>  <th>  Cond. No.          </th> <td>    151.</td>\n",
              "</tr>\n",
              "</table><br/><br/>Notes:<br/>[1] Standard Errors assume that the covariance matrix of the errors is correctly specified."
            ],
            "text/plain": [
              "<class 'statsmodels.iolib.summary.Summary'>\n",
              "\"\"\"\n",
              "                            OLS Regression Results                            \n",
              "==============================================================================\n",
              "Dep. Variable:                  union   R-squared:                       0.007\n",
              "Model:                            OLS   Adj. R-squared:                  0.007\n",
              "Method:                 Least Squares   F-statistic:                     136.6\n",
              "Date:                Mon, 10 Oct 2022   Prob (F-statistic):           1.85e-31\n",
              "Time:                        17:46:55   Log-Likelihood:                -10689.\n",
              "No. Observations:               19202   AIC:                         2.138e+04\n",
              "Df Residuals:                   19200   BIC:                         2.140e+04\n",
              "Df Model:                           1                                         \n",
              "Covariance Type:            nonrobust                                         \n",
              "==============================================================================\n",
              "                 coef    std err          t      P>|t|      [0.025      0.975]\n",
              "------------------------------------------------------------------------------\n",
              "Intercept      0.0978      0.012      8.099      0.000       0.074       0.122\n",
              "hours          0.0037      0.000     11.689      0.000       0.003       0.004\n",
              "==============================================================================\n",
              "Omnibus:                     3340.130   Durbin-Watson:                   1.027\n",
              "Prob(Omnibus):                  0.000   Jarque-Bera (JB):             5043.521\n",
              "Skew:                           1.237   Prob(JB):                         0.00\n",
              "Kurtosis:                       2.567   Cond. No.                         151.\n",
              "==============================================================================\n",
              "\n",
              "Notes:\n",
              "[1] Standard Errors assume that the covariance matrix of the errors is correctly specified.\n",
              "\"\"\""
            ]
          },
          "execution_count": 14,
          "metadata": {},
          "output_type": "execute_result"
        }
      ],
      "source": [
        "##Print or write out the coefficient on union, standard error, t-stat, p-value and confidence interval\n",
        "res.summary()"
      ]
    },
    {
      "cell_type": "markdown",
      "metadata": {
        "id": "iaikVgwhOXsG"
      },
      "source": [
        "#### What is the identification assumption for the coefficient on union to be causal?\n",
        "\n",
        "\n",
        "\n"
      ]
    },
    {
      "cell_type": "code",
      "execution_count": null,
      "metadata": {
        "colab": {
          "base_uri": "https://localhost:8080/",
          "height": 466
        },
        "id": "7c0HorSZOXsG",
        "outputId": "7f511699-2be8-4612-f796-fc94f98c1c8b"
      },
      "outputs": [
        {
          "data": {
            "text/html": [
              "<table class=\"simpletable\">\n",
              "<caption>OLS Regression Results</caption>\n",
              "<tr>\n",
              "  <th>Dep. Variable:</th>          <td>union</td>      <th>  R-squared:         </th> <td>   0.011</td> \n",
              "</tr>\n",
              "<tr>\n",
              "  <th>Model:</th>                   <td>OLS</td>       <th>  Adj. R-squared:    </th> <td>   0.010</td> \n",
              "</tr>\n",
              "<tr>\n",
              "  <th>Method:</th>             <td>Least Squares</td>  <th>  F-statistic:       </th> <td>   102.8</td> \n",
              "</tr>\n",
              "<tr>\n",
              "  <th>Date:</th>             <td>Mon, 10 Oct 2022</td> <th>  Prob (F-statistic):</th> <td>3.76e-45</td> \n",
              "</tr>\n",
              "<tr>\n",
              "  <th>Time:</th>                 <td>17:49:31</td>     <th>  Log-Likelihood:    </th> <td> -10654.</td> \n",
              "</tr>\n",
              "<tr>\n",
              "  <th>No. Observations:</th>      <td> 19202</td>      <th>  AIC:               </th> <td>2.131e+04</td>\n",
              "</tr>\n",
              "<tr>\n",
              "  <th>Df Residuals:</th>          <td> 19199</td>      <th>  BIC:               </th> <td>2.134e+04</td>\n",
              "</tr>\n",
              "<tr>\n",
              "  <th>Df Model:</th>              <td>     2</td>      <th>                     </th>     <td> </td>    \n",
              "</tr>\n",
              "<tr>\n",
              "  <th>Covariance Type:</th>      <td>nonrobust</td>    <th>                     </th>     <td> </td>    \n",
              "</tr>\n",
              "</table>\n",
              "<table class=\"simpletable\">\n",
              "<tr>\n",
              "          <td></td>            <th>coef</th>     <th>std err</th>      <th>t</th>      <th>P>|t|</th>  <th>[0.025</th>    <th>0.975]</th>  \n",
              "</tr>\n",
              "<tr>\n",
              "  <th>Intercept</th>        <td>    0.0945</td> <td>    0.012</td> <td>    7.830</td> <td> 0.000</td> <td>    0.071</td> <td>    0.118</td>\n",
              "</tr>\n",
              "<tr>\n",
              "  <th>C(collgrad)[T.1]</th> <td>    0.0638</td> <td>    0.008</td> <td>    8.280</td> <td> 0.000</td> <td>    0.049</td> <td>    0.079</td>\n",
              "</tr>\n",
              "<tr>\n",
              "  <th>hours</th>            <td>    0.0035</td> <td>    0.000</td> <td>   10.880</td> <td> 0.000</td> <td>    0.003</td> <td>    0.004</td>\n",
              "</tr>\n",
              "</table>\n",
              "<table class=\"simpletable\">\n",
              "<tr>\n",
              "  <th>Omnibus:</th>       <td>3309.564</td> <th>  Durbin-Watson:     </th> <td>   1.026</td>\n",
              "</tr>\n",
              "<tr>\n",
              "  <th>Prob(Omnibus):</th>  <td> 0.000</td>  <th>  Jarque-Bera (JB):  </th> <td>4995.805</td>\n",
              "</tr>\n",
              "<tr>\n",
              "  <th>Skew:</th>           <td> 1.231</td>  <th>  Prob(JB):          </th> <td>    0.00</td>\n",
              "</tr>\n",
              "<tr>\n",
              "  <th>Kurtosis:</th>       <td> 2.575</td>  <th>  Cond. No.          </th> <td>    151.</td>\n",
              "</tr>\n",
              "</table><br/><br/>Notes:<br/>[1] Standard Errors assume that the covariance matrix of the errors is correctly specified."
            ],
            "text/plain": [
              "<class 'statsmodels.iolib.summary.Summary'>\n",
              "\"\"\"\n",
              "                            OLS Regression Results                            \n",
              "==============================================================================\n",
              "Dep. Variable:                  union   R-squared:                       0.011\n",
              "Model:                            OLS   Adj. R-squared:                  0.010\n",
              "Method:                 Least Squares   F-statistic:                     102.8\n",
              "Date:                Mon, 10 Oct 2022   Prob (F-statistic):           3.76e-45\n",
              "Time:                        17:49:31   Log-Likelihood:                -10654.\n",
              "No. Observations:               19202   AIC:                         2.131e+04\n",
              "Df Residuals:                   19199   BIC:                         2.134e+04\n",
              "Df Model:                           2                                         \n",
              "Covariance Type:            nonrobust                                         \n",
              "====================================================================================\n",
              "                       coef    std err          t      P>|t|      [0.025      0.975]\n",
              "------------------------------------------------------------------------------------\n",
              "Intercept            0.0945      0.012      7.830      0.000       0.071       0.118\n",
              "C(collgrad)[T.1]     0.0638      0.008      8.280      0.000       0.049       0.079\n",
              "hours                0.0035      0.000     10.880      0.000       0.003       0.004\n",
              "==============================================================================\n",
              "Omnibus:                     3309.564   Durbin-Watson:                   1.026\n",
              "Prob(Omnibus):                  0.000   Jarque-Bera (JB):             4995.805\n",
              "Skew:                           1.231   Prob(JB):                         0.00\n",
              "Kurtosis:                       2.575   Cond. No.                         151.\n",
              "==============================================================================\n",
              "\n",
              "Notes:\n",
              "[1] Standard Errors assume that the covariance matrix of the errors is correctly specified.\n",
              "\"\"\""
            ]
          },
          "execution_count": 16,
          "metadata": {},
          "output_type": "execute_result"
        }
      ],
      "source": [
        "## add education (collgrad) to the regression and compare the coefficient on union with the previous result\n",
        "data_nomiss = data.dropna(subset=['collgrad', 'union', 'hours'])\n",
        "res = smf.ols(\"union ~ hours + C(collgrad)\", data=data_nomiss).fit()\n",
        "res.summary()"
      ]
    },
    {
      "cell_type": "code",
      "execution_count": null,
      "metadata": {
        "colab": {
          "base_uri": "https://localhost:8080/",
          "height": 753
        },
        "id": "G64PZyHFOXsH",
        "outputId": "34d8b156-d24f-48cd-cabb-3457252b6b1e"
      },
      "outputs": [
        {
          "data": {
            "text/html": [
              "<table class=\"simpletable\">\n",
              "<caption>OLS Regression Results</caption>\n",
              "<tr>\n",
              "  <th>Dep. Variable:</th>          <td>union</td>      <th>  R-squared:         </th> <td>   0.080</td> \n",
              "</tr>\n",
              "<tr>\n",
              "  <th>Model:</th>                   <td>OLS</td>       <th>  Adj. R-squared:    </th> <td>   0.079</td> \n",
              "</tr>\n",
              "<tr>\n",
              "  <th>Method:</th>             <td>Least Squares</td>  <th>  F-statistic:       </th> <td>   118.5</td> \n",
              "</tr>\n",
              "<tr>\n",
              "  <th>Date:</th>             <td>Mon, 10 Oct 2022</td> <th>  Prob (F-statistic):</th>  <td>  0.00</td>  \n",
              "</tr>\n",
              "<tr>\n",
              "  <th>Time:</th>                 <td>18:24:48</td>     <th>  Log-Likelihood:    </th> <td> -9921.6</td> \n",
              "</tr>\n",
              "<tr>\n",
              "  <th>No. Observations:</th>      <td> 19129</td>      <th>  AIC:               </th> <td>1.987e+04</td>\n",
              "</tr>\n",
              "<tr>\n",
              "  <th>Df Residuals:</th>          <td> 19114</td>      <th>  BIC:               </th> <td>1.999e+04</td>\n",
              "</tr>\n",
              "<tr>\n",
              "  <th>Df Model:</th>              <td>    14</td>      <th>                     </th>     <td> </td>    \n",
              "</tr>\n",
              "<tr>\n",
              "  <th>Covariance Type:</th>      <td>nonrobust</td>    <th>                     </th>     <td> </td>    \n",
              "</tr>\n",
              "</table>\n",
              "<table class=\"simpletable\">\n",
              "<tr>\n",
              "           <td></td>              <th>coef</th>     <th>std err</th>      <th>t</th>      <th>P>|t|</th>  <th>[0.025</th>    <th>0.975]</th>  \n",
              "</tr>\n",
              "<tr>\n",
              "  <th>Intercept</th>           <td>    0.1125</td> <td>    0.015</td> <td>    7.440</td> <td> 0.000</td> <td>    0.083</td> <td>    0.142</td>\n",
              "</tr>\n",
              "<tr>\n",
              "  <th>C(collgrad)[T.1]</th>    <td>    0.0002</td> <td>    0.010</td> <td>    0.020</td> <td> 0.984</td> <td>   -0.019</td> <td>    0.019</td>\n",
              "</tr>\n",
              "<tr>\n",
              "  <th>C(occ_code)[T.2.0]</th>  <td>   -0.1273</td> <td>    0.014</td> <td>   -8.820</td> <td> 0.000</td> <td>   -0.156</td> <td>   -0.099</td>\n",
              "</tr>\n",
              "<tr>\n",
              "  <th>C(occ_code)[T.3.0]</th>  <td>    0.0094</td> <td>    0.010</td> <td>    0.901</td> <td> 0.368</td> <td>   -0.011</td> <td>    0.030</td>\n",
              "</tr>\n",
              "<tr>\n",
              "  <th>C(occ_code)[T.4.0]</th>  <td>   -0.1066</td> <td>    0.017</td> <td>   -6.145</td> <td> 0.000</td> <td>   -0.141</td> <td>   -0.073</td>\n",
              "</tr>\n",
              "<tr>\n",
              "  <th>C(occ_code)[T.5.0]</th>  <td>    0.1024</td> <td>    0.024</td> <td>    4.218</td> <td> 0.000</td> <td>    0.055</td> <td>    0.150</td>\n",
              "</tr>\n",
              "<tr>\n",
              "  <th>C(occ_code)[T.6.0]</th>  <td>    0.1912</td> <td>    0.013</td> <td>   15.237</td> <td> 0.000</td> <td>    0.167</td> <td>    0.216</td>\n",
              "</tr>\n",
              "<tr>\n",
              "  <th>C(occ_code)[T.7.0]</th>  <td>   -0.1539</td> <td>    0.026</td> <td>   -5.833</td> <td> 0.000</td> <td>   -0.206</td> <td>   -0.102</td>\n",
              "</tr>\n",
              "<tr>\n",
              "  <th>C(occ_code)[T.8.0]</th>  <td>    0.0076</td> <td>    0.013</td> <td>    0.607</td> <td> 0.544</td> <td>   -0.017</td> <td>    0.032</td>\n",
              "</tr>\n",
              "<tr>\n",
              "  <th>C(occ_code)[T.9.0]</th>  <td>   -0.1789</td> <td>    0.235</td> <td>   -0.761</td> <td> 0.446</td> <td>   -0.639</td> <td>    0.282</td>\n",
              "</tr>\n",
              "<tr>\n",
              "  <th>C(occ_code)[T.10.0]</th> <td>   -0.1379</td> <td>    0.056</td> <td>   -2.476</td> <td> 0.013</td> <td>   -0.247</td> <td>   -0.029</td>\n",
              "</tr>\n",
              "<tr>\n",
              "  <th>C(occ_code)[T.11.0]</th> <td>    0.2333</td> <td>    0.040</td> <td>    5.842</td> <td> 0.000</td> <td>    0.155</td> <td>    0.312</td>\n",
              "</tr>\n",
              "<tr>\n",
              "  <th>C(occ_code)[T.12.0]</th> <td> 2.834e-05</td> <td>    0.182</td> <td>    0.000</td> <td> 1.000</td> <td>   -0.357</td> <td>    0.357</td>\n",
              "</tr>\n",
              "<tr>\n",
              "  <th>C(occ_code)[T.13.0]</th> <td>    0.3293</td> <td>    0.015</td> <td>   22.629</td> <td> 0.000</td> <td>    0.301</td> <td>    0.358</td>\n",
              "</tr>\n",
              "<tr>\n",
              "  <th>hours</th>               <td>    0.0022</td> <td>    0.000</td> <td>    6.842</td> <td> 0.000</td> <td>    0.002</td> <td>    0.003</td>\n",
              "</tr>\n",
              "</table>\n",
              "<table class=\"simpletable\">\n",
              "<tr>\n",
              "  <th>Omnibus:</th>       <td>2786.171</td> <th>  Durbin-Watson:     </th> <td>   1.080</td>\n",
              "</tr>\n",
              "<tr>\n",
              "  <th>Prob(Omnibus):</th>  <td> 0.000</td>  <th>  Jarque-Bera (JB):  </th> <td>4144.394</td>\n",
              "</tr>\n",
              "<tr>\n",
              "  <th>Skew:</th>           <td> 1.133</td>  <th>  Prob(JB):          </th> <td>    0.00</td>\n",
              "</tr>\n",
              "<tr>\n",
              "  <th>Kurtosis:</th>       <td> 2.752</td>  <th>  Cond. No.          </th> <td>3.04e+03</td>\n",
              "</tr>\n",
              "</table><br/><br/>Notes:<br/>[1] Standard Errors assume that the covariance matrix of the errors is correctly specified.<br/>[2] The condition number is large, 3.04e+03. This might indicate that there are<br/>strong multicollinearity or other numerical problems."
            ],
            "text/plain": [
              "<class 'statsmodels.iolib.summary.Summary'>\n",
              "\"\"\"\n",
              "                            OLS Regression Results                            \n",
              "==============================================================================\n",
              "Dep. Variable:                  union   R-squared:                       0.080\n",
              "Model:                            OLS   Adj. R-squared:                  0.079\n",
              "Method:                 Least Squares   F-statistic:                     118.5\n",
              "Date:                Mon, 10 Oct 2022   Prob (F-statistic):               0.00\n",
              "Time:                        18:24:48   Log-Likelihood:                -9921.6\n",
              "No. Observations:               19129   AIC:                         1.987e+04\n",
              "Df Residuals:                   19114   BIC:                         1.999e+04\n",
              "Df Model:                          14                                         \n",
              "Covariance Type:            nonrobust                                         \n",
              "=======================================================================================\n",
              "                          coef    std err          t      P>|t|      [0.025      0.975]\n",
              "---------------------------------------------------------------------------------------\n",
              "Intercept               0.1125      0.015      7.440      0.000       0.083       0.142\n",
              "C(collgrad)[T.1]        0.0002      0.010      0.020      0.984      -0.019       0.019\n",
              "C(occ_code)[T.2.0]     -0.1273      0.014     -8.820      0.000      -0.156      -0.099\n",
              "C(occ_code)[T.3.0]      0.0094      0.010      0.901      0.368      -0.011       0.030\n",
              "C(occ_code)[T.4.0]     -0.1066      0.017     -6.145      0.000      -0.141      -0.073\n",
              "C(occ_code)[T.5.0]      0.1024      0.024      4.218      0.000       0.055       0.150\n",
              "C(occ_code)[T.6.0]      0.1912      0.013     15.237      0.000       0.167       0.216\n",
              "C(occ_code)[T.7.0]     -0.1539      0.026     -5.833      0.000      -0.206      -0.102\n",
              "C(occ_code)[T.8.0]      0.0076      0.013      0.607      0.544      -0.017       0.032\n",
              "C(occ_code)[T.9.0]     -0.1789      0.235     -0.761      0.446      -0.639       0.282\n",
              "C(occ_code)[T.10.0]    -0.1379      0.056     -2.476      0.013      -0.247      -0.029\n",
              "C(occ_code)[T.11.0]     0.2333      0.040      5.842      0.000       0.155       0.312\n",
              "C(occ_code)[T.12.0]  2.834e-05      0.182      0.000      1.000      -0.357       0.357\n",
              "C(occ_code)[T.13.0]     0.3293      0.015     22.629      0.000       0.301       0.358\n",
              "hours                   0.0022      0.000      6.842      0.000       0.002       0.003\n",
              "==============================================================================\n",
              "Omnibus:                     2786.171   Durbin-Watson:                   1.080\n",
              "Prob(Omnibus):                  0.000   Jarque-Bera (JB):             4144.394\n",
              "Skew:                           1.133   Prob(JB):                         0.00\n",
              "Kurtosis:                       2.752   Cond. No.                     3.04e+03\n",
              "==============================================================================\n",
              "\n",
              "Notes:\n",
              "[1] Standard Errors assume that the covariance matrix of the errors is correctly specified.\n",
              "[2] The condition number is large, 3.04e+03. This might indicate that there are\n",
              "strong multicollinearity or other numerical problems.\n",
              "\"\"\""
            ]
          },
          "execution_count": 21,
          "metadata": {},
          "output_type": "execute_result"
        }
      ],
      "source": [
        "## add occupation codes to the regression and compare the results with the previous one\n",
        "res = smf.ols(\"union ~ hours + C(collgrad) + C(occ_code)\", data=data).fit()\n",
        "res.summary()"
      ]
    },
    {
      "cell_type": "markdown",
      "metadata": {
        "id": "TcPZjJVwOXsH"
      },
      "source": [
        "#### In terms of causal inference, why is adding occupation code as a control probably not a good idea?\n",
        "\n",
        "When we add occupational code to our regression problem, we observe that the condition number becomes large, indicating that some variables are correlated. Intuitively, college grad and occupational code should be correlated with each other, meaning that we have redundant variables. Hence, it is not a good idea to add the occupational code."
      ]
    },
    {
      "cell_type": "markdown",
      "metadata": {
        "id": "jqLJP2thOXsH"
      },
      "source": [
        "#### What are \"good controls\" in the dataset in terms of being exogenous to union status?\n",
        "\n",
        "These could be tenure and nev_mar."
      ]
    },
    {
      "cell_type": "code",
      "execution_count": null,
      "metadata": {
        "colab": {
          "base_uri": "https://localhost:8080/",
          "height": 508
        },
        "id": "tP9dky7fOXsH",
        "outputId": "c1492530-f31a-4b50-ecdf-2d96d2caf65d"
      },
      "outputs": [
        {
          "data": {
            "text/html": [
              "<table class=\"simpletable\">\n",
              "<caption>OLS Regression Results</caption>\n",
              "<tr>\n",
              "  <th>Dep. Variable:</th>          <td>union</td>      <th>  R-squared:         </th> <td>   0.032</td> \n",
              "</tr>\n",
              "<tr>\n",
              "  <th>Model:</th>                   <td>OLS</td>       <th>  Adj. R-squared:    </th> <td>   0.032</td> \n",
              "</tr>\n",
              "<tr>\n",
              "  <th>Method:</th>             <td>Least Squares</td>  <th>  F-statistic:       </th> <td>   158.7</td> \n",
              "</tr>\n",
              "<tr>\n",
              "  <th>Date:</th>             <td>Mon, 10 Oct 2022</td> <th>  Prob (F-statistic):</th> <td>7.33e-134</td>\n",
              "</tr>\n",
              "<tr>\n",
              "  <th>Time:</th>                 <td>18:26:52</td>     <th>  Log-Likelihood:    </th> <td> -10332.</td> \n",
              "</tr>\n",
              "<tr>\n",
              "  <th>No. Observations:</th>      <td> 18966</td>      <th>  AIC:               </th> <td>2.067e+04</td>\n",
              "</tr>\n",
              "<tr>\n",
              "  <th>Df Residuals:</th>          <td> 18961</td>      <th>  BIC:               </th> <td>2.071e+04</td>\n",
              "</tr>\n",
              "<tr>\n",
              "  <th>Df Model:</th>              <td>     4</td>      <th>                     </th>     <td> </td>    \n",
              "</tr>\n",
              "<tr>\n",
              "  <th>Covariance Type:</th>      <td>nonrobust</td>    <th>                     </th>     <td> </td>    \n",
              "</tr>\n",
              "</table>\n",
              "<table class=\"simpletable\">\n",
              "<tr>\n",
              "          <td></td>            <th>coef</th>     <th>std err</th>      <th>t</th>      <th>P>|t|</th>  <th>[0.025</th>    <th>0.975]</th>  \n",
              "</tr>\n",
              "<tr>\n",
              "  <th>Intercept</th>        <td>    0.0696</td> <td>    0.012</td> <td>    5.758</td> <td> 0.000</td> <td>    0.046</td> <td>    0.093</td>\n",
              "</tr>\n",
              "<tr>\n",
              "  <th>C(collgrad)[T.1]</th> <td>    0.0547</td> <td>    0.008</td> <td>    7.123</td> <td> 0.000</td> <td>    0.040</td> <td>    0.070</td>\n",
              "</tr>\n",
              "<tr>\n",
              "  <th>hours</th>            <td>    0.0025</td> <td>    0.000</td> <td>    7.667</td> <td> 0.000</td> <td>    0.002</td> <td>    0.003</td>\n",
              "</tr>\n",
              "<tr>\n",
              "  <th>tenure</th>           <td>    0.0153</td> <td>    0.001</td> <td>   20.577</td> <td> 0.000</td> <td>    0.014</td> <td>    0.017</td>\n",
              "</tr>\n",
              "<tr>\n",
              "  <th>nev_mar</th>          <td>    0.0143</td> <td>    0.008</td> <td>    1.845</td> <td> 0.065</td> <td>   -0.001</td> <td>    0.029</td>\n",
              "</tr>\n",
              "</table>\n",
              "<table class=\"simpletable\">\n",
              "<tr>\n",
              "  <th>Omnibus:</th>       <td>3089.990</td> <th>  Durbin-Watson:     </th> <td>   1.044</td>\n",
              "</tr>\n",
              "<tr>\n",
              "  <th>Prob(Omnibus):</th>  <td> 0.000</td>  <th>  Jarque-Bera (JB):  </th> <td>4619.225</td>\n",
              "</tr>\n",
              "<tr>\n",
              "  <th>Skew:</th>           <td> 1.193</td>  <th>  Prob(JB):          </th> <td>    0.00</td>\n",
              "</tr>\n",
              "<tr>\n",
              "  <th>Kurtosis:</th>       <td> 2.611</td>  <th>  Cond. No.          </th> <td>    153.</td>\n",
              "</tr>\n",
              "</table><br/><br/>Notes:<br/>[1] Standard Errors assume that the covariance matrix of the errors is correctly specified."
            ],
            "text/plain": [
              "<class 'statsmodels.iolib.summary.Summary'>\n",
              "\"\"\"\n",
              "                            OLS Regression Results                            \n",
              "==============================================================================\n",
              "Dep. Variable:                  union   R-squared:                       0.032\n",
              "Model:                            OLS   Adj. R-squared:                  0.032\n",
              "Method:                 Least Squares   F-statistic:                     158.7\n",
              "Date:                Mon, 10 Oct 2022   Prob (F-statistic):          7.33e-134\n",
              "Time:                        18:26:52   Log-Likelihood:                -10332.\n",
              "No. Observations:               18966   AIC:                         2.067e+04\n",
              "Df Residuals:                   18961   BIC:                         2.071e+04\n",
              "Df Model:                           4                                         \n",
              "Covariance Type:            nonrobust                                         \n",
              "====================================================================================\n",
              "                       coef    std err          t      P>|t|      [0.025      0.975]\n",
              "------------------------------------------------------------------------------------\n",
              "Intercept            0.0696      0.012      5.758      0.000       0.046       0.093\n",
              "C(collgrad)[T.1]     0.0547      0.008      7.123      0.000       0.040       0.070\n",
              "hours                0.0025      0.000      7.667      0.000       0.002       0.003\n",
              "tenure               0.0153      0.001     20.577      0.000       0.014       0.017\n",
              "nev_mar              0.0143      0.008      1.845      0.065      -0.001       0.029\n",
              "==============================================================================\n",
              "Omnibus:                     3089.990   Durbin-Watson:                   1.044\n",
              "Prob(Omnibus):                  0.000   Jarque-Bera (JB):             4619.225\n",
              "Skew:                           1.193   Prob(JB):                         0.00\n",
              "Kurtosis:                       2.611   Cond. No.                         153.\n",
              "==============================================================================\n",
              "\n",
              "Notes:\n",
              "[1] Standard Errors assume that the covariance matrix of the errors is correctly specified.\n",
              "\"\"\""
            ]
          },
          "execution_count": 28,
          "metadata": {},
          "output_type": "execute_result"
        }
      ],
      "source": [
        "##add these controls to the regression\n",
        "res = smf.ols(\"union ~ hours + C(collgrad) + tenure + nev_mar\", data=data).fit()\n",
        "res.summary()"
      ]
    },
    {
      "cell_type": "markdown",
      "metadata": {
        "id": "V_7IG24gOXsI"
      },
      "source": [
        "#### How do these change your estimates?\n",
        "\n",
        "Adding 'tenure' and 'nev_mar' decreases the weight on the previous variables. It also increases the R-squared, which means that it explains more of the proportion of variance in the dependent variable that can be explained by the independent variable."
      ]
    },
    {
      "cell_type": "markdown",
      "metadata": {
        "id": "QmBR8lLpOXsI"
      },
      "source": [
        "# Short Essay: Correlation/Causation"
      ]
    },
    {
      "cell_type": "markdown",
      "metadata": {
        "id": "YNu99OljOXsI"
      },
      "source": [
        "**Find a news article mistaking correlation for causation. Link to the article  and write a short paragraph explaining the mistake.**"
      ]
    },
    {
      "cell_type": "markdown",
      "metadata": {
        "id": "T0Ljx4GUOXsI"
      },
      "source": [
        "It's not exactly a news article but: https://www.reddit.com/r/ProgrammerHumor/comments/ersr4g/correlation_between_internet_explorer_usage_and/\n",
        "\n",
        "Based on this graph, someone can conclude that there is correlation between the internet explorer usage and the murder rates in the US. However, this does not indicate that there is a causality between them. There are other independent variables (or even confounders) not visible in this study that affect these dependent variables and produce these correlation between them. \n",
        "\n"
      ]
    },
    {
      "cell_type": "code",
      "execution_count": null,
      "metadata": {
        "id": "7FcMcT4rNSBf"
      },
      "outputs": [],
      "source": []
    }
  ],
  "metadata": {
    "colab": {
      "provenance": []
    },
    "kernelspec": {
      "display_name": "Python 3.9.12 64-bit",
      "language": "python",
      "name": "python3"
    },
    "language_info": {
      "codemirror_mode": {
        "name": "ipython",
        "version": 3
      },
      "file_extension": ".py",
      "mimetype": "text/x-python",
      "name": "python",
      "nbconvert_exporter": "python",
      "pygments_lexer": "ipython3",
      "version": "3.9.12"
    },
    "vscode": {
      "interpreter": {
        "hash": "949777d72b0d2535278d3dc13498b2535136f6dfe0678499012e853ee9abcab1"
      }
    }
  },
  "nbformat": 4,
  "nbformat_minor": 0
}
