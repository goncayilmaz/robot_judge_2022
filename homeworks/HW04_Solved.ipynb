{
  "cells": [
    {
      "cell_type": "markdown",
      "metadata": {
        "id": "BjZ99zMLjYFH"
      },
      "source": [
        "# HW04: RDD and Diff-in-Diff (due 26th October)\n",
        "\n",
        "**You will have to solve only one of the two parts (either the RDD or the DiD) to get full credit for this homework.**\n",
        "\n",
        "In this homework you will investigate the causal effect in two different settings, applying different **identification strategies**, You will also reflect and investigate the identification assumptions that allow for a causal interpretation. "
      ],
      "id": "BjZ99zMLjYFH"
    },
    {
      "cell_type": "markdown",
      "metadata": {
        "id": "qSEsghBBjYFP"
      },
      "source": [
        "## Regression Discontinuity Design\n",
        "\n",
        "In this first part you will use data on mayors from municipalities in Brazil to invesitgate th effect of electoral accountability on corruption. The goal is to estimate the effect of being eligible for reelection (having reelection incentives) on misappropriation of resources exploiting random audits on municipalities before the elections. In Brazil there is a two mandate limit for mayors, implying that only mayors in the first mandate can be reelected. The reference paper is [Ferraz and Finan (2011)](https://www.aeaweb.org/articles?id=10.1257/aer.101.4.1274)."
      ],
      "id": "qSEsghBBjYFP"
    },
    {
      "cell_type": "code",
      "execution_count": 3,
      "metadata": {
        "colab": {
          "base_uri": "https://localhost:8080/"
        },
        "id": "ldGcxQmKjYFR",
        "outputId": "ed85ec55-3af5-4bc6-afaf-5bdcf55cc2e5"
      },
      "outputs": [
        {
          "output_type": "stream",
          "name": "stdout",
          "text": [
            "Looking in indexes: https://pypi.org/simple, https://us-python.pkg.dev/colab-wheels/public/simple/\n",
            "Collecting rdrobust\n",
            "  Downloading rdrobust-1.0.6-py3-none-any.whl (30 kB)\n",
            "Requirement already satisfied: numpy in /usr/local/lib/python3.7/dist-packages (from rdrobust) (1.21.6)\n",
            "Requirement already satisfied: pandas in /usr/local/lib/python3.7/dist-packages (from rdrobust) (1.3.5)\n",
            "Requirement already satisfied: scipy in /usr/local/lib/python3.7/dist-packages (from rdrobust) (1.7.3)\n",
            "Requirement already satisfied: plotnine in /usr/local/lib/python3.7/dist-packages (from rdrobust) (0.8.0)\n",
            "Collecting sklearn\n",
            "  Downloading sklearn-0.0.tar.gz (1.1 kB)\n",
            "Requirement already satisfied: python-dateutil>=2.7.3 in /usr/local/lib/python3.7/dist-packages (from pandas->rdrobust) (2.8.2)\n",
            "Requirement already satisfied: pytz>=2017.3 in /usr/local/lib/python3.7/dist-packages (from pandas->rdrobust) (2022.4)\n",
            "Requirement already satisfied: six>=1.5 in /usr/local/lib/python3.7/dist-packages (from python-dateutil>=2.7.3->pandas->rdrobust) (1.15.0)\n",
            "Requirement already satisfied: patsy>=0.5.1 in /usr/local/lib/python3.7/dist-packages (from plotnine->rdrobust) (0.5.3)\n",
            "Requirement already satisfied: mizani>=0.7.3 in /usr/local/lib/python3.7/dist-packages (from plotnine->rdrobust) (0.7.3)\n",
            "Requirement already satisfied: descartes>=1.1.0 in /usr/local/lib/python3.7/dist-packages (from plotnine->rdrobust) (1.1.0)\n",
            "Requirement already satisfied: matplotlib>=3.1.1 in /usr/local/lib/python3.7/dist-packages (from plotnine->rdrobust) (3.2.2)\n",
            "Requirement already satisfied: statsmodels>=0.12.1 in /usr/local/lib/python3.7/dist-packages (from plotnine->rdrobust) (0.12.2)\n",
            "Requirement already satisfied: kiwisolver>=1.0.1 in /usr/local/lib/python3.7/dist-packages (from matplotlib>=3.1.1->plotnine->rdrobust) (1.4.4)\n",
            "Requirement already satisfied: cycler>=0.10 in /usr/local/lib/python3.7/dist-packages (from matplotlib>=3.1.1->plotnine->rdrobust) (0.11.0)\n",
            "Requirement already satisfied: pyparsing!=2.0.4,!=2.1.2,!=2.1.6,>=2.0.1 in /usr/local/lib/python3.7/dist-packages (from matplotlib>=3.1.1->plotnine->rdrobust) (3.0.9)\n",
            "Requirement already satisfied: typing-extensions in /usr/local/lib/python3.7/dist-packages (from kiwisolver>=1.0.1->matplotlib>=3.1.1->plotnine->rdrobust) (4.1.1)\n",
            "Requirement already satisfied: palettable in /usr/local/lib/python3.7/dist-packages (from mizani>=0.7.3->plotnine->rdrobust) (3.3.0)\n",
            "Requirement already satisfied: scikit-learn in /usr/local/lib/python3.7/dist-packages (from sklearn->rdrobust) (1.0.2)\n",
            "Requirement already satisfied: joblib>=0.11 in /usr/local/lib/python3.7/dist-packages (from scikit-learn->sklearn->rdrobust) (1.2.0)\n",
            "Requirement already satisfied: threadpoolctl>=2.0.0 in /usr/local/lib/python3.7/dist-packages (from scikit-learn->sklearn->rdrobust) (3.1.0)\n",
            "Building wheels for collected packages: sklearn\n",
            "  Building wheel for sklearn (setup.py) ... \u001b[?25l\u001b[?25hdone\n",
            "  Created wheel for sklearn: filename=sklearn-0.0-py2.py3-none-any.whl size=1310 sha256=132689210db2a69bc19a0788016bedaf5889aedcc12ae287676f36038e64c47e\n",
            "  Stored in directory: /root/.cache/pip/wheels/46/ef/c3/157e41f5ee1372d1be90b09f74f82b10e391eaacca8f22d33e\n",
            "Successfully built sklearn\n",
            "Installing collected packages: sklearn, rdrobust\n",
            "Successfully installed rdrobust-1.0.6 sklearn-0.0\n"
          ]
        }
      ],
      "source": [
        "!pip install rdrobust"
      ],
      "id": "ldGcxQmKjYFR"
    },
    {
      "cell_type": "code",
      "execution_count": 4,
      "metadata": {
        "id": "yFf3WFC0jYFT"
      },
      "outputs": [],
      "source": [
        "from rdrobust import rdrobust, rdbwselect, rdplot\n",
        "import pandas as pd \n",
        "import warnings\n",
        "warnings.filterwarnings('ignore', category=FutureWarning)\n",
        "warnings.filterwarnings('ignore', category=DeprecationWarning)\n",
        "warnings.filterwarnings = lambda *a, **kw: None\n"
      ],
      "id": "yFf3WFC0jYFT"
    },
    {
      "cell_type": "code",
      "execution_count": 6,
      "metadata": {
        "colab": {
          "base_uri": "https://localhost:8080/"
        },
        "id": "NmAGjH_TjYFU",
        "outputId": "7f11f503-845d-4ad6-8c08-ae45c219f5dc"
      },
      "outputs": [
        {
          "output_type": "stream",
          "name": "stderr",
          "text": [
            "/usr/local/lib/python3.7/dist-packages/pandas/io/stata.py:1457: UnicodeWarning: \n",
            "One or more strings in the dta file could not be decoded using utf-8, and\n",
            "so the fallback encoding of latin-1 is being used.  This can happen when a file\n",
            "has been incorrectly encoded by Stata or some other software. You should verify\n",
            "the string values returned are correct.\n"
          ]
        }
      ],
      "source": [
        "df = pd.read_stata('data/HW04_data_rdd.dta')"
      ],
      "id": "NmAGjH_TjYFU"
    },
    {
      "cell_type": "code",
      "execution_count": 7,
      "metadata": {
        "colab": {
          "base_uri": "https://localhost:8080/"
        },
        "id": "dt7aQ7QKjYFU",
        "outputId": "c45d2740-3f93-4ba9-ee7c-edd39d0e3bcc"
      },
      "outputs": [
        {
          "output_type": "execute_result",
          "data": {
            "text/plain": [
              "{'uf': 'state',\n",
              " 'nsorteio': 'Número do sorteio',\n",
              " 'totrecursos': 'Total de recurso fiscalizado no municipio',\n",
              " 'tot_os': 'Total de OS fiscalizadas no municipio',\n",
              " 'pop': 'População no ano de 2000',\n",
              " 'purb': 'Proporção da população urbana no ano de 2000',\n",
              " 'p_secundario': 'Proporção da população com 18 anos ou mais com secundario completo',\n",
              " 'cod_ibge6': 'cod_ibge6',\n",
              " 'pib_capita_02': 'PIB per capita deflacionado em reais de 2001',\n",
              " 'op_01_04': 'Dummy se o munic teve orçamento participativo no periodo',\n",
              " 'reeleito': 'Dummy de reeleição',\n",
              " 'ENEP2000': '2000 ENEP',\n",
              " 'ENLP2000': '2000 ENLP',\n",
              " 'pref_idade_tse': 'Idade do prefeito',\n",
              " 'comarca': 'Sede de Comarca',\n",
              " 'reeleito_2004': 'Dummy dos candidatos que se reelegeram na eleição de 2004',\n",
              " 'p_cad_pref': 'Proporção de vereadores eleitos do mesmo partido do prefeito',\n",
              " 'rec_transf_correntes': '(mean) rec_transf_correntes',\n",
              " 'gini_ipea': '',\n",
              " 'fiscalizacoes': 'Total ordens de serviço dada pela planilha CGU',\n",
              " 'valor_fiscalizado': 'Total ordens de serviço dada pela planilha CGU',\n",
              " 'incumbent': '(sum) incumbent',\n",
              " 'vereador9600': '',\n",
              " 'pmismanagement': '',\n",
              " 'elected1': '',\n",
              " 'first': '',\n",
              " 'lpib02': '',\n",
              " 'lpop': '',\n",
              " 'pref_masc': '',\n",
              " 'pref_escola': '',\n",
              " 'media2': '',\n",
              " 'vereador_eleit': '',\n",
              " 'mun_novo': '',\n",
              " 'exp_prefeito': '',\n",
              " 'samepartygov98': '',\n",
              " 'lrec_trans': '',\n",
              " 'lfunc_ativ': '',\n",
              " 'lrec_fisc': '',\n",
              " 'ncorrupt': '',\n",
              " 'valor_corrupt': '',\n",
              " 'pcorrupt': '',\n",
              " 'dcorrupt': '',\n",
              " 'esample2': '',\n",
              " 'wm': 'vote margin',\n",
              " 'winning_margin': 'running variable',\n",
              " 'party': 'party affiliation'}"
            ]
          },
          "metadata": {},
          "execution_count": 7
        }
      ],
      "source": [
        "df_labels = pd.read_stata('data/HW04_data_rdd.dta', iterator=True).variable_labels()\n",
        "df_labels"
      ],
      "id": "dt7aQ7QKjYFU"
    },
    {
      "cell_type": "code",
      "execution_count": 8,
      "metadata": {
        "scrolled": true,
        "colab": {
          "base_uri": "https://localhost:8080/",
          "height": 299
        },
        "id": "iI6hhgWQjYFV",
        "outputId": "a66fa627-7af3-4c71-bf06-dd2f069339ff"
      },
      "outputs": [
        {
          "output_type": "execute_result",
          "data": {
            "text/plain": [
              "   uf  nsorteio  totrecursos  tot_os    pop      purb  p_secundario  \\\n",
              "0  RO         5   6913597.38    47.0  18207  0.815401      0.248250   \n",
              "1  RO         7   7135210.78    62.0  10459  0.198203      0.110925   \n",
              "2  RO         2  26821074.06   140.0  40884  0.649178      0.254702   \n",
              "3  RO         4  14710780.70    89.0  47382  0.726457      0.267212   \n",
              "4  RO         3   4181534.83     NaN  23874  0.271257      0.134546   \n",
              "\n",
              "   cod_ibge6  pib_capita_02  op_01_04  ...  lfunc_ativ  lrec_fisc  ncorrupt  \\\n",
              "0   566128.0    3548.000977         0  ...    6.167517  15.749001       3.0   \n",
              "1   566130.0    4203.421875         0  ...    5.641907  15.780552       0.0   \n",
              "2   566138.0    3904.267334         0  ...    6.872128  17.104698       1.0   \n",
              "3   566151.0    4081.257812         0  ...    6.979145  16.504091       0.0   \n",
              "4   566155.0    2192.473633         1  ...    6.118097  15.246189       0.0   \n",
              "\n",
              "   valor_corrupt  pcorrupt  dcorrupt  esample2        wm  winning_margin  \\\n",
              "0     672785.125  0.097313       1.0       1.0  0.030935       -0.030935   \n",
              "1          0.000  0.000000       0.0       1.0  0.172863        0.172863   \n",
              "2          0.000  0.000000       1.0       1.0  0.310956        0.310956   \n",
              "3          0.000  0.000000       0.0       1.0  0.391912        0.391912   \n",
              "4          0.000  0.000000       0.0       1.0  0.186155        0.186155   \n",
              "\n",
              "   party  \n",
              "0     16  \n",
              "1      3  \n",
              "2     18  \n",
              "3     18  \n",
              "4     14  \n",
              "\n",
              "[5 rows x 46 columns]"
            ],
            "text/html": [
              "\n",
              "  <div id=\"df-db6be2c5-deb4-4cdc-b18b-927201195785\">\n",
              "    <div class=\"colab-df-container\">\n",
              "      <div>\n",
              "<style scoped>\n",
              "    .dataframe tbody tr th:only-of-type {\n",
              "        vertical-align: middle;\n",
              "    }\n",
              "\n",
              "    .dataframe tbody tr th {\n",
              "        vertical-align: top;\n",
              "    }\n",
              "\n",
              "    .dataframe thead th {\n",
              "        text-align: right;\n",
              "    }\n",
              "</style>\n",
              "<table border=\"1\" class=\"dataframe\">\n",
              "  <thead>\n",
              "    <tr style=\"text-align: right;\">\n",
              "      <th></th>\n",
              "      <th>uf</th>\n",
              "      <th>nsorteio</th>\n",
              "      <th>totrecursos</th>\n",
              "      <th>tot_os</th>\n",
              "      <th>pop</th>\n",
              "      <th>purb</th>\n",
              "      <th>p_secundario</th>\n",
              "      <th>cod_ibge6</th>\n",
              "      <th>pib_capita_02</th>\n",
              "      <th>op_01_04</th>\n",
              "      <th>...</th>\n",
              "      <th>lfunc_ativ</th>\n",
              "      <th>lrec_fisc</th>\n",
              "      <th>ncorrupt</th>\n",
              "      <th>valor_corrupt</th>\n",
              "      <th>pcorrupt</th>\n",
              "      <th>dcorrupt</th>\n",
              "      <th>esample2</th>\n",
              "      <th>wm</th>\n",
              "      <th>winning_margin</th>\n",
              "      <th>party</th>\n",
              "    </tr>\n",
              "  </thead>\n",
              "  <tbody>\n",
              "    <tr>\n",
              "      <th>0</th>\n",
              "      <td>RO</td>\n",
              "      <td>5</td>\n",
              "      <td>6913597.38</td>\n",
              "      <td>47.0</td>\n",
              "      <td>18207</td>\n",
              "      <td>0.815401</td>\n",
              "      <td>0.248250</td>\n",
              "      <td>566128.0</td>\n",
              "      <td>3548.000977</td>\n",
              "      <td>0</td>\n",
              "      <td>...</td>\n",
              "      <td>6.167517</td>\n",
              "      <td>15.749001</td>\n",
              "      <td>3.0</td>\n",
              "      <td>672785.125</td>\n",
              "      <td>0.097313</td>\n",
              "      <td>1.0</td>\n",
              "      <td>1.0</td>\n",
              "      <td>0.030935</td>\n",
              "      <td>-0.030935</td>\n",
              "      <td>16</td>\n",
              "    </tr>\n",
              "    <tr>\n",
              "      <th>1</th>\n",
              "      <td>RO</td>\n",
              "      <td>7</td>\n",
              "      <td>7135210.78</td>\n",
              "      <td>62.0</td>\n",
              "      <td>10459</td>\n",
              "      <td>0.198203</td>\n",
              "      <td>0.110925</td>\n",
              "      <td>566130.0</td>\n",
              "      <td>4203.421875</td>\n",
              "      <td>0</td>\n",
              "      <td>...</td>\n",
              "      <td>5.641907</td>\n",
              "      <td>15.780552</td>\n",
              "      <td>0.0</td>\n",
              "      <td>0.000</td>\n",
              "      <td>0.000000</td>\n",
              "      <td>0.0</td>\n",
              "      <td>1.0</td>\n",
              "      <td>0.172863</td>\n",
              "      <td>0.172863</td>\n",
              "      <td>3</td>\n",
              "    </tr>\n",
              "    <tr>\n",
              "      <th>2</th>\n",
              "      <td>RO</td>\n",
              "      <td>2</td>\n",
              "      <td>26821074.06</td>\n",
              "      <td>140.0</td>\n",
              "      <td>40884</td>\n",
              "      <td>0.649178</td>\n",
              "      <td>0.254702</td>\n",
              "      <td>566138.0</td>\n",
              "      <td>3904.267334</td>\n",
              "      <td>0</td>\n",
              "      <td>...</td>\n",
              "      <td>6.872128</td>\n",
              "      <td>17.104698</td>\n",
              "      <td>1.0</td>\n",
              "      <td>0.000</td>\n",
              "      <td>0.000000</td>\n",
              "      <td>1.0</td>\n",
              "      <td>1.0</td>\n",
              "      <td>0.310956</td>\n",
              "      <td>0.310956</td>\n",
              "      <td>18</td>\n",
              "    </tr>\n",
              "    <tr>\n",
              "      <th>3</th>\n",
              "      <td>RO</td>\n",
              "      <td>4</td>\n",
              "      <td>14710780.70</td>\n",
              "      <td>89.0</td>\n",
              "      <td>47382</td>\n",
              "      <td>0.726457</td>\n",
              "      <td>0.267212</td>\n",
              "      <td>566151.0</td>\n",
              "      <td>4081.257812</td>\n",
              "      <td>0</td>\n",
              "      <td>...</td>\n",
              "      <td>6.979145</td>\n",
              "      <td>16.504091</td>\n",
              "      <td>0.0</td>\n",
              "      <td>0.000</td>\n",
              "      <td>0.000000</td>\n",
              "      <td>0.0</td>\n",
              "      <td>1.0</td>\n",
              "      <td>0.391912</td>\n",
              "      <td>0.391912</td>\n",
              "      <td>18</td>\n",
              "    </tr>\n",
              "    <tr>\n",
              "      <th>4</th>\n",
              "      <td>RO</td>\n",
              "      <td>3</td>\n",
              "      <td>4181534.83</td>\n",
              "      <td>NaN</td>\n",
              "      <td>23874</td>\n",
              "      <td>0.271257</td>\n",
              "      <td>0.134546</td>\n",
              "      <td>566155.0</td>\n",
              "      <td>2192.473633</td>\n",
              "      <td>1</td>\n",
              "      <td>...</td>\n",
              "      <td>6.118097</td>\n",
              "      <td>15.246189</td>\n",
              "      <td>0.0</td>\n",
              "      <td>0.000</td>\n",
              "      <td>0.000000</td>\n",
              "      <td>0.0</td>\n",
              "      <td>1.0</td>\n",
              "      <td>0.186155</td>\n",
              "      <td>0.186155</td>\n",
              "      <td>14</td>\n",
              "    </tr>\n",
              "  </tbody>\n",
              "</table>\n",
              "<p>5 rows × 46 columns</p>\n",
              "</div>\n",
              "      <button class=\"colab-df-convert\" onclick=\"convertToInteractive('df-db6be2c5-deb4-4cdc-b18b-927201195785')\"\n",
              "              title=\"Convert this dataframe to an interactive table.\"\n",
              "              style=\"display:none;\">\n",
              "        \n",
              "  <svg xmlns=\"http://www.w3.org/2000/svg\" height=\"24px\"viewBox=\"0 0 24 24\"\n",
              "       width=\"24px\">\n",
              "    <path d=\"M0 0h24v24H0V0z\" fill=\"none\"/>\n",
              "    <path d=\"M18.56 5.44l.94 2.06.94-2.06 2.06-.94-2.06-.94-.94-2.06-.94 2.06-2.06.94zm-11 1L8.5 8.5l.94-2.06 2.06-.94-2.06-.94L8.5 2.5l-.94 2.06-2.06.94zm10 10l.94 2.06.94-2.06 2.06-.94-2.06-.94-.94-2.06-.94 2.06-2.06.94z\"/><path d=\"M17.41 7.96l-1.37-1.37c-.4-.4-.92-.59-1.43-.59-.52 0-1.04.2-1.43.59L10.3 9.45l-7.72 7.72c-.78.78-.78 2.05 0 2.83L4 21.41c.39.39.9.59 1.41.59.51 0 1.02-.2 1.41-.59l7.78-7.78 2.81-2.81c.8-.78.8-2.07 0-2.86zM5.41 20L4 18.59l7.72-7.72 1.47 1.35L5.41 20z\"/>\n",
              "  </svg>\n",
              "      </button>\n",
              "      \n",
              "  <style>\n",
              "    .colab-df-container {\n",
              "      display:flex;\n",
              "      flex-wrap:wrap;\n",
              "      gap: 12px;\n",
              "    }\n",
              "\n",
              "    .colab-df-convert {\n",
              "      background-color: #E8F0FE;\n",
              "      border: none;\n",
              "      border-radius: 50%;\n",
              "      cursor: pointer;\n",
              "      display: none;\n",
              "      fill: #1967D2;\n",
              "      height: 32px;\n",
              "      padding: 0 0 0 0;\n",
              "      width: 32px;\n",
              "    }\n",
              "\n",
              "    .colab-df-convert:hover {\n",
              "      background-color: #E2EBFA;\n",
              "      box-shadow: 0px 1px 2px rgba(60, 64, 67, 0.3), 0px 1px 3px 1px rgba(60, 64, 67, 0.15);\n",
              "      fill: #174EA6;\n",
              "    }\n",
              "\n",
              "    [theme=dark] .colab-df-convert {\n",
              "      background-color: #3B4455;\n",
              "      fill: #D2E3FC;\n",
              "    }\n",
              "\n",
              "    [theme=dark] .colab-df-convert:hover {\n",
              "      background-color: #434B5C;\n",
              "      box-shadow: 0px 1px 3px 1px rgba(0, 0, 0, 0.15);\n",
              "      filter: drop-shadow(0px 1px 2px rgba(0, 0, 0, 0.3));\n",
              "      fill: #FFFFFF;\n",
              "    }\n",
              "  </style>\n",
              "\n",
              "      <script>\n",
              "        const buttonEl =\n",
              "          document.querySelector('#df-db6be2c5-deb4-4cdc-b18b-927201195785 button.colab-df-convert');\n",
              "        buttonEl.style.display =\n",
              "          google.colab.kernel.accessAllowed ? 'block' : 'none';\n",
              "\n",
              "        async function convertToInteractive(key) {\n",
              "          const element = document.querySelector('#df-db6be2c5-deb4-4cdc-b18b-927201195785');\n",
              "          const dataTable =\n",
              "            await google.colab.kernel.invokeFunction('convertToInteractive',\n",
              "                                                     [key], {});\n",
              "          if (!dataTable) return;\n",
              "\n",
              "          const docLinkHtml = 'Like what you see? Visit the ' +\n",
              "            '<a target=\"_blank\" href=https://colab.research.google.com/notebooks/data_table.ipynb>data table notebook</a>'\n",
              "            + ' to learn more about interactive tables.';\n",
              "          element.innerHTML = '';\n",
              "          dataTable['output_type'] = 'display_data';\n",
              "          await google.colab.output.renderOutput(dataTable, element);\n",
              "          const docLink = document.createElement('div');\n",
              "          docLink.innerHTML = docLinkHtml;\n",
              "          element.appendChild(docLink);\n",
              "        }\n",
              "      </script>\n",
              "    </div>\n",
              "  </div>\n",
              "  "
            ]
          },
          "metadata": {},
          "execution_count": 8
        }
      ],
      "source": [
        "df = df[df['esample2']==1]\n",
        "df.head()"
      ],
      "id": "iI6hhgWQjYFV"
    },
    {
      "cell_type": "markdown",
      "metadata": {
        "id": "2VPheC3njYFW"
      },
      "source": [
        "The main outcome of interest is *pcorrupt*, namely, the share of audited resources found that involve corruption (a measure of misappropriation). The explanatory variable is *first*, a dummy variable indicating whether the mayor is in his first mandate. The regression of interest is the following: \n",
        "\n",
        "<center>$pcorrupt_i = \\beta_0 + \\beta_1 first_i + \\varepsilon_i$</center>"
      ],
      "id": "2VPheC3njYFW"
    },
    {
      "cell_type": "code",
      "execution_count": 17,
      "metadata": {
        "colab": {
          "base_uri": "https://localhost:8080/"
        },
        "id": "3sKiKnyejYFX",
        "outputId": "499acbff-6ae4-4a3b-d4f7-093132a6ccff"
      },
      "outputs": [
        {
          "output_type": "stream",
          "name": "stdout",
          "text": [
            "                            OLS Regression Results                            \n",
            "==============================================================================\n",
            "Dep. Variable:               pcorrupt   R-squared:                       0.008\n",
            "Model:                            OLS   Adj. R-squared:                  0.006\n",
            "Method:                 Least Squares   F-statistic:                     4.017\n",
            "Date:                Mon, 24 Oct 2022   Prob (F-statistic):             0.0456\n",
            "Time:                        08:59:22   Log-Likelihood:                 415.01\n",
            "No. Observations:                 476   AIC:                            -826.0\n",
            "Df Residuals:                     474   BIC:                            -817.7\n",
            "Df Model:                           1                                         \n",
            "Covariance Type:            nonrobust                                         \n",
            "==============================================================================\n",
            "                 coef    std err          t      P>|t|      [0.025      0.975]\n",
            "------------------------------------------------------------------------------\n",
            "Intercept      0.0737      0.007     10.428      0.000       0.060       0.088\n",
            "first         -0.0188      0.009     -2.004      0.046      -0.037      -0.000\n",
            "==============================================================================\n",
            "Omnibus:                      318.592   Durbin-Watson:                   1.866\n",
            "Prob(Omnibus):                  0.000   Jarque-Bera (JB):             3161.573\n",
            "Skew:                           2.874   Prob(JB):                         0.00\n",
            "Kurtosis:                      14.242   Cond. No.                         2.81\n",
            "==============================================================================\n",
            "\n",
            "Notes:\n",
            "[1] Standard Errors assume that the covariance matrix of the errors is correctly specified.\n"
          ]
        }
      ],
      "source": [
        "## run the regression above using robust standard errors\n",
        "# NOTE: I could not use first as a variable\n",
        "import statsmodels.formula.api as smf \n",
        "from statsmodels.iolib.summary2 import summary_col\n",
        "import numpy as np\n",
        "\n",
        "ols1 = smf.ols('pcorrupt ~ first', df).fit()\n",
        "print(ols1.summary())"
      ],
      "id": "3sKiKnyejYFX"
    },
    {
      "cell_type": "markdown",
      "metadata": {
        "id": "TjX8RikgjYFY"
      },
      "source": [
        "**What could be some sources of bias, namely, variables that act as confounder?**"
      ],
      "id": "TjX8RikgjYFY"
    },
    {
      "cell_type": "code",
      "execution_count": 33,
      "metadata": {
        "colab": {
          "base_uri": "https://localhost:8080/"
        },
        "id": "dQQzzGq2jYFY",
        "outputId": "5d3266f5-6eec-4455-d9d6-d40197ac2b24"
      },
      "outputs": [
        {
          "output_type": "stream",
          "name": "stdout",
          "text": [
            "                            OLS Regression Results                            \n",
            "==============================================================================\n",
            "Dep. Variable:               pcorrupt   R-squared:                       0.071\n",
            "Model:                            OLS   Adj. R-squared:                  0.032\n",
            "Method:                 Least Squares   F-statistic:                     1.823\n",
            "Date:                Mon, 24 Oct 2022   Prob (F-statistic):             0.0184\n",
            "Time:                        09:28:07   Log-Likelihood:                 430.43\n",
            "No. Observations:                 476   AIC:                            -820.9\n",
            "Df Residuals:                     456   BIC:                            -737.5\n",
            "Df Model:                          19                                         \n",
            "Covariance Type:            nonrobust                                         \n",
            "=================================================================================\n",
            "                    coef    std err          t      P>|t|      [0.025      0.975]\n",
            "---------------------------------------------------------------------------------\n",
            "Intercept         0.0628      0.023      2.763      0.006       0.018       0.108\n",
            "party[T.10]       0.0085      0.034      0.252      0.801      -0.058       0.075\n",
            "party[T.11]       0.0221      0.022      1.004      0.316      -0.021       0.065\n",
            "party[T.12]       0.0785      0.045      1.736      0.083      -0.010       0.167\n",
            "party[T.13]       0.0075      0.061      0.123      0.902      -0.113       0.128\n",
            "party[T.14]      -0.0057      0.034     -0.169      0.866      -0.072       0.061\n",
            "party[T.15]       0.3074      0.102      3.006      0.003       0.106       0.508\n",
            "party[T.16]       0.0333      0.028      1.183      0.237      -0.022       0.088\n",
            "party[T.17]       0.0463      0.102      0.453      0.651      -0.154       0.247\n",
            "party[T.18]       0.0418      0.022      1.877      0.061      -0.002       0.086\n",
            "party[T.2]        0.0659      0.029      2.254      0.025       0.008       0.123\n",
            "party[T.3]        0.0278      0.022      1.284      0.200      -0.015       0.070\n",
            "party[T.4]        0.0407      0.024      1.700      0.090      -0.006       0.088\n",
            "party[T.5]        0.0356      0.035      1.025      0.306      -0.033       0.104\n",
            "party[T.6]        0.0480      0.102      0.471      0.638      -0.152       0.248\n",
            "party[T.7]        0.2294      0.102      2.249      0.025       0.029       0.430\n",
            "party[T.8]        0.0779      0.033      2.362      0.019       0.013       0.143\n",
            "party[T.9]        0.0611      0.054      1.137      0.256      -0.045       0.167\n",
            "first            -0.0222      0.010     -2.318      0.021      -0.041      -0.003\n",
            "fiscalizacoes    -0.0005      0.000     -2.041      0.042      -0.001   -1.74e-05\n",
            "==============================================================================\n",
            "Omnibus:                      335.899   Durbin-Watson:                   2.037\n",
            "Prob(Omnibus):                  0.000   Jarque-Bera (JB):             4171.126\n",
            "Skew:                           2.987   Prob(JB):                         0.00\n",
            "Kurtosis:                      16.214   Cond. No.                     1.17e+03\n",
            "==============================================================================\n",
            "\n",
            "Notes:\n",
            "[1] Standard Errors assume that the covariance matrix of the errors is correctly specified.\n",
            "[2] The condition number is large, 1.17e+03. This might indicate that there are\n",
            "strong multicollinearity or other numerical problems.\n"
          ]
        }
      ],
      "source": [
        "## run the regression above adding the variables that may act as a confounder\n",
        "ols2 = smf.ols('pcorrupt ~ first + party + fiscalizacoes', df).fit()\n",
        "print(ols2.summary())"
      ],
      "id": "dQQzzGq2jYFY"
    },
    {
      "cell_type": "code",
      "execution_count": 36,
      "metadata": {
        "colab": {
          "base_uri": "https://localhost:8080/",
          "height": 281
        },
        "id": "p39P9ObQjYFZ",
        "outputId": "40ce6a02-1493-4900-b115-d9c475b5c8a5"
      },
      "outputs": [
        {
          "output_type": "display_data",
          "data": {
            "text/plain": [
              "<Figure size 432x288 with 1 Axes>"
            ],
            "image/png": "[encoded data removed]"
          },
          "metadata": {
            "needs_background": "light"
          }
        }
      ],
      "source": [
        "## display the results \n",
        "import seaborn as sns\n",
        "import matplotlib.pyplot as plt\n",
        "\n",
        "plt.plot(df['first'], ols1.predict(df[['first', 'party', 'fiscalizacoes']]))\n",
        "plt.scatter(df['first'], df.pcorrupt)\n",
        "plt.title('With the Presence of Jewish Institutions in the Block')\n",
        "plt.show()"
      ],
      "id": "p39P9ObQjYFZ"
    },
    {
      "cell_type": "code",
      "source": [
        "plt.plot(df['party'], ols2.predict(df[['first', 'party', 'fiscalizacoes']]), color='red')\n",
        "plt.scatter(df['party'], df.pcorrupt)\n",
        "plt.title('With the Presence of Jewish Institutions in the Block')\n",
        "plt.show()"
      ],
      "metadata": {
        "colab": {
          "base_uri": "https://localhost:8080/",
          "height": 281
        },
        "id": "qJKhCc-TUu01",
        "outputId": "91426b87-1937-46f1-d34e-ad2276ca2069"
      },
      "id": "qJKhCc-TUu01",
      "execution_count": 39,
      "outputs": [
        {
          "output_type": "display_data",
          "data": {
            "text/plain": [
              "<Figure size 432x288 with 1 Axes>"
            ],
            "image/png": "[encoded data removed]"
          },
          "metadata": {
            "needs_background": "light"
          }
        }
      ]
    },
    {
      "cell_type": "markdown",
      "metadata": {
        "id": "cBxYUUDujYFZ"
      },
      "source": [
        "**In your opinion, are there any additional sources of bias that threatens the causal interpretation of the results?**\n",
        "\n",
        "Clearly, the current results are not perfect. We couldnt find strong confounders that are linearly correlated to pcorrupt. However, adding polynomial terms might help us achieve better results and stronger correlation. Otherwise, we can investigate other variables and see how they affect the variable pcorrupt."
      ],
      "id": "cBxYUUDujYFZ"
    },
    {
      "cell_type": "markdown",
      "metadata": {
        "id": "ZZolS6I3jYFZ"
      },
      "source": [
        "To make sure that this is not the case we will use a regression discontinuity design where the running variable is the margin by which the incumbent won or lost in the previous election. Namely, we compare municipalities where incumbents won or lost by a narrow margin. This comparison provides quasi-random assignment of first-term and second-term mayors across these competitive elections."
      ],
      "id": "ZZolS6I3jYFZ"
    },
    {
      "cell_type": "code",
      "execution_count": 74,
      "metadata": {
        "scrolled": true,
        "colab": {
          "base_uri": "https://localhost:8080/",
          "height": 855
        },
        "id": "lHnT1HvBjYFa",
        "outputId": "5dbb9c2f-4910-4ded-a35a-97b73f1bc9c0"
      },
      "outputs": [
        {
          "output_type": "display_data",
          "data": {
            "text/plain": [
              "<Figure size 640x480 with 1 Axes>"
            ],
            "image/png": "[encoded data removed]"
          },
          "metadata": {}
        },
        {
          "output_type": "stream",
          "name": "stdout",
          "text": [
            "\n",
            "Call: rdplot\n",
            "Number of Observations:                   328\n",
            "Kernel:                               Uniform\n",
            "Polynomial Order Est. (p):                  2\n",
            "\n",
            "                                Left      Right\n",
            "------------------------------------------------\n",
            "Number of Observations           126        202\n",
            "Number of Effective Obs          126        202\n",
            "Bandwith poly. fit (h)         0.671      0.918\n",
            "Number of bins scale               1          1\n",
            "Bins Selected                     15         15\n",
            "Average Bin Length             0.048      0.061\n",
            "Median Bin Length              0.045      0.061\n",
            "IMSE-optimal bins                5.0        3.0\n",
            "Mimicking Variance bins         15.0       11.0\n",
            "\n",
            "Relative to IMSE-optimal:\n",
            "Implied scale                    3.0        5.0\n",
            "WIMSE variance weight          0.036      0.008\n",
            "WIMSE bias weight              0.964      0.992\n"
          ]
        },
        {
          "output_type": "execute_result",
          "data": {
            "text/plain": []
          },
          "metadata": {},
          "execution_count": 74
        }
      ],
      "source": [
        "## plot the RD plot using as running variable the variable winning_margin\n",
        "## use a second order polynomial and 15 bins at each side\n",
        "\n",
        "margin = df.dropna(subset=['winning_margin']).winning_margin\n",
        "corruption = df.dropna(subset=['winning_margin']).pcorrupt\n",
        "rdplot(y=corruption, x=margin, p=2, \n",
        "       masspoints='adjust', nbins=15,\n",
        "        title=\"PCorrupt and Winning Margin\", \n",
        "         y_label=\"Probability of Corruption\",\n",
        "         x_label=\" \")"
      ],
      "id": "lHnT1HvBjYFa"
    },
    {
      "cell_type": "code",
      "execution_count": 111,
      "metadata": {
        "colab": {
          "base_uri": "https://localhost:8080/"
        },
        "id": "wOGs1uT3jYFa",
        "outputId": "bae363c0-f011-4947-c6fd-ca67334dcfaf"
      },
      "outputs": [
        {
          "output_type": "stream",
          "name": "stdout",
          "text": [
            "Call: rdrobust\n",
            "Number of Observations:                   328\n",
            "Polynomial Order Est. (p):                  4\n",
            "Polynomial Order Bias (q):                  5\n",
            "Kernel:                            Triangular\n",
            "Bandwidth Selection:                    mserd\n",
            "Var-Cov Estimator:                         NN\n",
            "\n",
            "                                Left      Right\n",
            "------------------------------------------------\n",
            "Number of Observations           126        202\n",
            "Number of Unique Obs.            126        201\n",
            "Number of Effective Obs.          94        124\n",
            "Bandwidth Estimation           0.205      0.205\n",
            "Bandwidth Bias                 0.274      0.274\n",
            "rho (h/b)                      0.747      0.747\n",
            "\n",
            "Method             Coef.     S.E.   t-stat    P>|t|       95% CI      \n",
            "-------------------------------------------------------------------------\n",
            "Conventional        0.03    0.041     0.72   4.717e-01     [-0.051, 0.11]\n",
            "Robust                 -        -    0.904   3.661e-01    [-0.045, 0.121]\n",
            "\n"
          ]
        }
      ],
      "source": [
        "## run the RD regression using the same dependent and explanatory variable as before\n",
        "## include 4th degree polynomial and the covariates that you included above\n",
        "covs = pd.concat([df.dropna(subset=['winning_margin'])[['winning_margin']]], axis=1)\n",
        "print(rdrobust(y=corruption, x=covs, p=4))"
      ],
      "id": "wOGs1uT3jYFa"
    },
    {
      "cell_type": "markdown",
      "metadata": {
        "id": "MVp8J350jYFb"
      },
      "source": [
        "**Interpret the coefficient**\n",
        "\n",
        "The coefficient is very small, indicating that there could not be found a strong correlation between the variable winning_margin and the outcome pcorrupt."
      ],
      "id": "MVp8J350jYFb"
    },
    {
      "cell_type": "markdown",
      "metadata": {
        "id": "tt6FvdkpjYFb"
      },
      "source": [
        "## Difference-in-Differences"
      ],
      "id": "tt6FvdkpjYFb"
    },
    {
      "cell_type": "markdown",
      "metadata": {
        "id": "SijCefDXjYFb"
      },
      "source": [
        "In this part you will use data from Argentina to investigate the causal effect of police on crime. Following the paper by [Di Tella and Schargrodsky (2004)](https://www.aeaweb.org/articles?id=10.1257/000282804322970733), you will exploit the follow-up of a terrorist attack tto the Jewish center in Buenos Aires in July 1994, after which all Jewish institution received police protection. This event induced a geographical allocation of police forces orthogonal to a crime regression allowing to isolate the causal effect of having more police in a neighborhood on a proxy for crime (car thefts), through a difference-in-differences analysis. "
      ],
      "id": "SijCefDXjYFb"
    },
    {
      "cell_type": "code",
      "execution_count": 112,
      "metadata": {
        "scrolled": false,
        "colab": {
          "base_uri": "https://localhost:8080/"
        },
        "id": "p9wXbciCjYFb",
        "outputId": "c7d47fb4-6446-4527-8ba1-72d226e0cad4"
      },
      "outputs": [
        {
          "output_type": "stream",
          "name": "stderr",
          "text": [
            "/usr/local/lib/python3.7/dist-packages/pandas/io/stata.py:1457: UnicodeWarning: \n",
            "One or more strings in the dta file could not be decoded using utf-8, and\n",
            "so the fallback encoding of latin-1 is being used.  This can happen when a file\n",
            "has been incorrectly encoded by Stata or some other software. You should verify\n",
            "the string values returned are correct.\n"
          ]
        },
        {
          "output_type": "execute_result",
          "data": {
            "text/plain": [
              "{'observ': 'block id',\n",
              " 'barrio': 'neighborhood',\n",
              " 'calle': 'street',\n",
              " 'altura': 'street numbering',\n",
              " 'institu1': 'dummy Jewish institution in the block',\n",
              " 'institu3': 'dummy Jewish institution one block away',\n",
              " 'distanci': 'block distance to closest institution',\n",
              " 'edpub': 'dummy public building/embassy',\n",
              " 'estserv': 'dummy gas station',\n",
              " 'banco': 'dummy bank',\n",
              " 'totrob': 'car theft',\n",
              " 'mes': 'month',\n",
              " 'inst3_1': '',\n",
              " 'month5': '',\n",
              " 'post': '',\n",
              " 'inst1p': '',\n",
              " 'inst3_1p': ''}"
            ]
          },
          "metadata": {},
          "execution_count": 112
        }
      ],
      "source": [
        "df = pd.read_stata('data/HW04_data_DiD.dta')\n",
        "df_labels = pd.read_stata('data/HW04_data_DiD.dta', iterator=True).variable_labels()\n",
        "df_labels"
      ],
      "id": "p9wXbciCjYFb"
    },
    {
      "cell_type": "code",
      "execution_count": 113,
      "metadata": {
        "colab": {
          "base_uri": "https://localhost:8080/",
          "height": 270
        },
        "id": "6zGB3H9DjYFb",
        "outputId": "806356a6-bc9f-4c90-e074-6d5cd12494f6"
      },
      "outputs": [
        {
          "output_type": "execute_result",
          "data": {
            "text/plain": [
              "   observ barrio      calle altura  institu1  institu3  distanci  edpub  \\\n",
              "0   870.0   Once    Cordoba  a2300       0.0       1.0       1.0    1.0   \n",
              "1   851.0   Once    Tucuman  a2400       0.0       0.0       2.0    0.0   \n",
              "2   843.0   Once    Lavalle  a2300       1.0       1.0       0.0    0.0   \n",
              "3   796.0   Once    Pasteur   a500       0.0       1.0       1.0    0.0   \n",
              "4   790.0   Once  Azcuenaga   a700       1.0       1.0       0.0    0.0   \n",
              "\n",
              "   estserv  banco  totrob  mes  inst3_1  month5  post  inst1p  inst3_1p  \n",
              "0      0.0    0.0     0.0  4.0      1.0     0.0   0.0     0.0       0.0  \n",
              "1      0.0    0.0     0.0  4.0      0.0     0.0   0.0     0.0       0.0  \n",
              "2      0.0    1.0     0.0  4.0      0.0     0.0   0.0     0.0       0.0  \n",
              "3      0.0    0.0     0.0  4.0      1.0     0.0   0.0     0.0       0.0  \n",
              "4      0.0    0.0     0.0  4.0      0.0     0.0   0.0     0.0       0.0  "
            ],
            "text/html": [
              "\n",
              "  <div id=\"df-73c6790d-c94a-4a01-bb95-7ec1fbae16f3\">\n",
              "    <div class=\"colab-df-container\">\n",
              "      <div>\n",
              "<style scoped>\n",
              "    .dataframe tbody tr th:only-of-type {\n",
              "        vertical-align: middle;\n",
              "    }\n",
              "\n",
              "    .dataframe tbody tr th {\n",
              "        vertical-align: top;\n",
              "    }\n",
              "\n",
              "    .dataframe thead th {\n",
              "        text-align: right;\n",
              "    }\n",
              "</style>\n",
              "<table border=\"1\" class=\"dataframe\">\n",
              "  <thead>\n",
              "    <tr style=\"text-align: right;\">\n",
              "      <th></th>\n",
              "      <th>observ</th>\n",
              "      <th>barrio</th>\n",
              "      <th>calle</th>\n",
              "      <th>altura</th>\n",
              "      <th>institu1</th>\n",
              "      <th>institu3</th>\n",
              "      <th>distanci</th>\n",
              "      <th>edpub</th>\n",
              "      <th>estserv</th>\n",
              "      <th>banco</th>\n",
              "      <th>totrob</th>\n",
              "      <th>mes</th>\n",
              "      <th>inst3_1</th>\n",
              "      <th>month5</th>\n",
              "      <th>post</th>\n",
              "      <th>inst1p</th>\n",
              "      <th>inst3_1p</th>\n",
              "    </tr>\n",
              "  </thead>\n",
              "  <tbody>\n",
              "    <tr>\n",
              "      <th>0</th>\n",
              "      <td>870.0</td>\n",
              "      <td>Once</td>\n",
              "      <td>Cordoba</td>\n",
              "      <td>a2300</td>\n",
              "      <td>0.0</td>\n",
              "      <td>1.0</td>\n",
              "      <td>1.0</td>\n",
              "      <td>1.0</td>\n",
              "      <td>0.0</td>\n",
              "      <td>0.0</td>\n",
              "      <td>0.0</td>\n",
              "      <td>4.0</td>\n",
              "      <td>1.0</td>\n",
              "      <td>0.0</td>\n",
              "      <td>0.0</td>\n",
              "      <td>0.0</td>\n",
              "      <td>0.0</td>\n",
              "    </tr>\n",
              "    <tr>\n",
              "      <th>1</th>\n",
              "      <td>851.0</td>\n",
              "      <td>Once</td>\n",
              "      <td>Tucuman</td>\n",
              "      <td>a2400</td>\n",
              "      <td>0.0</td>\n",
              "      <td>0.0</td>\n",
              "      <td>2.0</td>\n",
              "      <td>0.0</td>\n",
              "      <td>0.0</td>\n",
              "      <td>0.0</td>\n",
              "      <td>0.0</td>\n",
              "      <td>4.0</td>\n",
              "      <td>0.0</td>\n",
              "      <td>0.0</td>\n",
              "      <td>0.0</td>\n",
              "      <td>0.0</td>\n",
              "      <td>0.0</td>\n",
              "    </tr>\n",
              "    <tr>\n",
              "      <th>2</th>\n",
              "      <td>843.0</td>\n",
              "      <td>Once</td>\n",
              "      <td>Lavalle</td>\n",
              "      <td>a2300</td>\n",
              "      <td>1.0</td>\n",
              "      <td>1.0</td>\n",
              "      <td>0.0</td>\n",
              "      <td>0.0</td>\n",
              "      <td>0.0</td>\n",
              "      <td>1.0</td>\n",
              "      <td>0.0</td>\n",
              "      <td>4.0</td>\n",
              "      <td>0.0</td>\n",
              "      <td>0.0</td>\n",
              "      <td>0.0</td>\n",
              "      <td>0.0</td>\n",
              "      <td>0.0</td>\n",
              "    </tr>\n",
              "    <tr>\n",
              "      <th>3</th>\n",
              "      <td>796.0</td>\n",
              "      <td>Once</td>\n",
              "      <td>Pasteur</td>\n",
              "      <td>a500</td>\n",
              "      <td>0.0</td>\n",
              "      <td>1.0</td>\n",
              "      <td>1.0</td>\n",
              "      <td>0.0</td>\n",
              "      <td>0.0</td>\n",
              "      <td>0.0</td>\n",
              "      <td>0.0</td>\n",
              "      <td>4.0</td>\n",
              "      <td>1.0</td>\n",
              "      <td>0.0</td>\n",
              "      <td>0.0</td>\n",
              "      <td>0.0</td>\n",
              "      <td>0.0</td>\n",
              "    </tr>\n",
              "    <tr>\n",
              "      <th>4</th>\n",
              "      <td>790.0</td>\n",
              "      <td>Once</td>\n",
              "      <td>Azcuenaga</td>\n",
              "      <td>a700</td>\n",
              "      <td>1.0</td>\n",
              "      <td>1.0</td>\n",
              "      <td>0.0</td>\n",
              "      <td>0.0</td>\n",
              "      <td>0.0</td>\n",
              "      <td>0.0</td>\n",
              "      <td>0.0</td>\n",
              "      <td>4.0</td>\n",
              "      <td>0.0</td>\n",
              "      <td>0.0</td>\n",
              "      <td>0.0</td>\n",
              "      <td>0.0</td>\n",
              "      <td>0.0</td>\n",
              "    </tr>\n",
              "  </tbody>\n",
              "</table>\n",
              "</div>\n",
              "      <button class=\"colab-df-convert\" onclick=\"convertToInteractive('df-73c6790d-c94a-4a01-bb95-7ec1fbae16f3')\"\n",
              "              title=\"Convert this dataframe to an interactive table.\"\n",
              "              style=\"display:none;\">\n",
              "        \n",
              "  <svg xmlns=\"http://www.w3.org/2000/svg\" height=\"24px\"viewBox=\"0 0 24 24\"\n",
              "       width=\"24px\">\n",
              "    <path d=\"M0 0h24v24H0V0z\" fill=\"none\"/>\n",
              "    <path d=\"M18.56 5.44l.94 2.06.94-2.06 2.06-.94-2.06-.94-.94-2.06-.94 2.06-2.06.94zm-11 1L8.5 8.5l.94-2.06 2.06-.94-2.06-.94L8.5 2.5l-.94 2.06-2.06.94zm10 10l.94 2.06.94-2.06 2.06-.94-2.06-.94-.94-2.06-.94 2.06-2.06.94z\"/><path d=\"M17.41 7.96l-1.37-1.37c-.4-.4-.92-.59-1.43-.59-.52 0-1.04.2-1.43.59L10.3 9.45l-7.72 7.72c-.78.78-.78 2.05 0 2.83L4 21.41c.39.39.9.59 1.41.59.51 0 1.02-.2 1.41-.59l7.78-7.78 2.81-2.81c.8-.78.8-2.07 0-2.86zM5.41 20L4 18.59l7.72-7.72 1.47 1.35L5.41 20z\"/>\n",
              "  </svg>\n",
              "      </button>\n",
              "      \n",
              "  <style>\n",
              "    .colab-df-container {\n",
              "      display:flex;\n",
              "      flex-wrap:wrap;\n",
              "      gap: 12px;\n",
              "    }\n",
              "\n",
              "    .colab-df-convert {\n",
              "      background-color: #E8F0FE;\n",
              "      border: none;\n",
              "      border-radius: 50%;\n",
              "      cursor: pointer;\n",
              "      display: none;\n",
              "      fill: #1967D2;\n",
              "      height: 32px;\n",
              "      padding: 0 0 0 0;\n",
              "      width: 32px;\n",
              "    }\n",
              "\n",
              "    .colab-df-convert:hover {\n",
              "      background-color: #E2EBFA;\n",
              "      box-shadow: 0px 1px 2px rgba(60, 64, 67, 0.3), 0px 1px 3px 1px rgba(60, 64, 67, 0.15);\n",
              "      fill: #174EA6;\n",
              "    }\n",
              "\n",
              "    [theme=dark] .colab-df-convert {\n",
              "      background-color: #3B4455;\n",
              "      fill: #D2E3FC;\n",
              "    }\n",
              "\n",
              "    [theme=dark] .colab-df-convert:hover {\n",
              "      background-color: #434B5C;\n",
              "      box-shadow: 0px 1px 3px 1px rgba(0, 0, 0, 0.15);\n",
              "      filter: drop-shadow(0px 1px 2px rgba(0, 0, 0, 0.3));\n",
              "      fill: #FFFFFF;\n",
              "    }\n",
              "  </style>\n",
              "\n",
              "      <script>\n",
              "        const buttonEl =\n",
              "          document.querySelector('#df-73c6790d-c94a-4a01-bb95-7ec1fbae16f3 button.colab-df-convert');\n",
              "        buttonEl.style.display =\n",
              "          google.colab.kernel.accessAllowed ? 'block' : 'none';\n",
              "\n",
              "        async function convertToInteractive(key) {\n",
              "          const element = document.querySelector('#df-73c6790d-c94a-4a01-bb95-7ec1fbae16f3');\n",
              "          const dataTable =\n",
              "            await google.colab.kernel.invokeFunction('convertToInteractive',\n",
              "                                                     [key], {});\n",
              "          if (!dataTable) return;\n",
              "\n",
              "          const docLinkHtml = 'Like what you see? Visit the ' +\n",
              "            '<a target=\"_blank\" href=https://colab.research.google.com/notebooks/data_table.ipynb>data table notebook</a>'\n",
              "            + ' to learn more about interactive tables.';\n",
              "          element.innerHTML = '';\n",
              "          dataTable['output_type'] = 'display_data';\n",
              "          await google.colab.output.renderOutput(dataTable, element);\n",
              "          const docLink = document.createElement('div');\n",
              "          docLink.innerHTML = docLinkHtml;\n",
              "          element.appendChild(docLink);\n",
              "        }\n",
              "      </script>\n",
              "    </div>\n",
              "  </div>\n",
              "  "
            ]
          },
          "metadata": {},
          "execution_count": 113
        }
      ],
      "source": [
        "df.head()"
      ],
      "id": "6zGB3H9DjYFb"
    },
    {
      "cell_type": "markdown",
      "metadata": {
        "id": "lIBY2wKdjYFc"
      },
      "source": [
        "The main outcome of interest is *totrob*, the total number of car thefts (proxy for criminal activity). The main explanatory variable is a dummy variable indicating whether the there is a Jewish institution in the neighborhood **and** the observation is after July (*inst1p*). The main regression is the following: \n",
        "\n",
        "<center>$totrob_i = \\beta_0 + \\beta_1 inst1p_i + \\varepsilon_i$</center>"
      ],
      "id": "lIBY2wKdjYFc"
    },
    {
      "cell_type": "code",
      "execution_count": 120,
      "metadata": {
        "colab": {
          "base_uri": "https://localhost:8080/"
        },
        "id": "NZJHmOsXjYFc",
        "outputId": "c983a020-934e-41cc-b5a1-49b4538199fe"
      },
      "outputs": [
        {
          "output_type": "stream",
          "name": "stdout",
          "text": [
            "                            OLS Regression Results                            \n",
            "==============================================================================\n",
            "Dep. Variable:                 totrob   R-squared:                       0.001\n",
            "Model:                            OLS   Adj. R-squared:                  0.001\n",
            "Method:                 Least Squares   F-statistic:                     5.440\n",
            "Date:                Sun, 23 Oct 2022   Prob (F-statistic):            0.00436\n",
            "Time:                        21:43:19   Log-Likelihood:                 4.5604\n",
            "No. Observations:                7884   AIC:                            -3.121\n",
            "Df Residuals:                    7881   BIC:                             17.80\n",
            "Df Model:                           2                                         \n",
            "Covariance Type:            nonrobust                                         \n",
            "==============================================================================\n",
            "                 coef    std err          t      P>|t|      [0.025      0.975]\n",
            "------------------------------------------------------------------------------\n",
            "Intercept      0.0944      0.003     33.923      0.000       0.089       0.100\n",
            "inst1p        -0.0544      0.027     -2.039      0.041      -0.107      -0.002\n",
            "institu1      -0.0049      0.020     -0.244      0.807      -0.044       0.034\n",
            "==============================================================================\n",
            "Omnibus:                     5778.832   Durbin-Watson:                   1.891\n",
            "Prob(Omnibus):                  0.000   Jarque-Bera (JB):            81452.280\n",
            "Skew:                           3.518   Prob(JB):                         0.00\n",
            "Kurtosis:                      17.087   Cond. No.                         11.5\n",
            "==============================================================================\n",
            "\n",
            "Notes:\n",
            "[1] Standard Errors assume that the covariance matrix of the errors is correctly specified.\n"
          ]
        }
      ],
      "source": [
        "## Run the regression above with robust standard errors\n",
        "import statsmodels.formula.api as smf\n",
        "\n",
        "ols1 = smf.ols('totrob ~ inst1p + institu1', data=df).fit()\n",
        "print(ols1.summary())"
      ],
      "id": "NZJHmOsXjYFc"
    },
    {
      "cell_type": "markdown",
      "metadata": {
        "id": "4N_qBWXJjYFc"
      },
      "source": [
        "**Why this estimate CANNOT be interpreted as causal?**\n",
        "\n",
        "Because there is no significant correlation is found"
      ],
      "id": "4N_qBWXJjYFc"
    },
    {
      "cell_type": "code",
      "execution_count": 136,
      "metadata": {
        "colab": {
          "base_uri": "https://localhost:8080/",
          "height": 281
        },
        "id": "43A3lVLmjYFc",
        "outputId": "8bb4f82d-cbd9-4405-b1c7-fdaa3c6f62a9"
      },
      "outputs": [
        {
          "output_type": "display_data",
          "data": {
            "text/plain": [
              "<Figure size 432x288 with 1 Axes>"
            ],
            "image/png": "[encoded data removed]"
          },
          "metadata": {
            "needs_background": "light"
          }
        }
      ],
      "source": [
        "## Plot the time series of car thefts separately for blocks with and without a jewish institutions\n",
        "## Add a vertical line indicating the terrorist attack \n",
        "import seaborn as sns\n",
        "import matplotlib.pyplot as plt\n",
        "\n",
        "df_yes = df[df['institu1']==1]\n",
        "plt.plot(df_yes.inst1p, ols1.predict(df_yes[['inst1p', 'institu1']]))\n",
        "plt.scatter(df_yes.inst1p, df_yes.totrob)\n",
        "plt.title('With the Presence of Jewish Institutions in the Block')\n",
        "plt.show()"
      ],
      "id": "43A3lVLmjYFc"
    },
    {
      "cell_type": "code",
      "source": [
        "df_no = df[df['institu1']==0]\n",
        "plt.plot(df_no.inst1p, ols1.predict(df_no[['inst1p', 'institu1']]))\n",
        "plt.scatter(df_no.inst1p, df_no.totrob)\n",
        "plt.title('Without the Presence of Jewish Institutions in the Block')\n",
        "plt.show()"
      ],
      "metadata": {
        "colab": {
          "base_uri": "https://localhost:8080/",
          "height": 281
        },
        "id": "IkkQEG2b0QjE",
        "outputId": "414202b4-b0e2-47d9-9c03-c251034224d6"
      },
      "id": "IkkQEG2b0QjE",
      "execution_count": 135,
      "outputs": [
        {
          "output_type": "display_data",
          "data": {
            "text/plain": [
              "<Figure size 432x288 with 1 Axes>"
            ],
            "image/png": "[encoded data removed]"
          },
          "metadata": {
            "needs_background": "light"
          }
        }
      ]
    },
    {
      "cell_type": "markdown",
      "metadata": {
        "id": "EbcplJB3jYFd"
      },
      "source": [
        "**Does the parallel trend assumption hold?**"
      ],
      "id": "EbcplJB3jYFd"
    },
    {
      "cell_type": "code",
      "source": [
        "!pip install linearmodels"
      ],
      "metadata": {
        "colab": {
          "base_uri": "https://localhost:8080/"
        },
        "id": "z1xY_aVF1IIm",
        "outputId": "ec26dec2-ca65-4cab-d5e8-34cff5078551"
      },
      "id": "z1xY_aVF1IIm",
      "execution_count": 138,
      "outputs": [
        {
          "output_type": "stream",
          "name": "stdout",
          "text": [
            "Looking in indexes: https://pypi.org/simple, https://us-python.pkg.dev/colab-wheels/public/simple/\n",
            "Collecting linearmodels\n",
            "  Downloading linearmodels-4.25-cp37-cp37m-manylinux_2_17_x86_64.manylinux2014_x86_64.whl (1.5 MB)\n",
            "\u001b[K     |████████████████████████████████| 1.5 MB 5.5 MB/s \n",
            "\u001b[?25hRequirement already satisfied: patsy in /usr/local/lib/python3.7/dist-packages (from linearmodels) (0.5.3)\n",
            "Collecting property-cached>=1.6.3\n",
            "  Downloading property_cached-1.6.4-py2.py3-none-any.whl (7.8 kB)\n",
            "Collecting formulaic\n",
            "  Downloading formulaic-0.5.2-py3-none-any.whl (77 kB)\n",
            "\u001b[K     |████████████████████████████████| 77 kB 2.4 MB/s \n",
            "\u001b[?25hRequirement already satisfied: Cython>=0.29.21 in /usr/local/lib/python3.7/dist-packages (from linearmodels) (0.29.32)\n",
            "Requirement already satisfied: pandas>=0.24 in /usr/local/lib/python3.7/dist-packages (from linearmodels) (1.3.5)\n",
            "Requirement already satisfied: scipy>=1.2 in /usr/local/lib/python3.7/dist-packages (from linearmodels) (1.7.3)\n",
            "Collecting pyhdfe>=0.1\n",
            "  Downloading pyhdfe-0.1.0-py3-none-any.whl (18 kB)\n",
            "Requirement already satisfied: numpy>=1.16 in /usr/local/lib/python3.7/dist-packages (from linearmodels) (1.21.6)\n",
            "Collecting mypy-extensions>=0.4\n",
            "  Downloading mypy_extensions-0.4.3-py2.py3-none-any.whl (4.5 kB)\n",
            "Requirement already satisfied: statsmodels>=0.11 in /usr/local/lib/python3.7/dist-packages (from linearmodels) (0.12.2)\n",
            "Requirement already satisfied: python-dateutil>=2.7.3 in /usr/local/lib/python3.7/dist-packages (from pandas>=0.24->linearmodels) (2.8.2)\n",
            "Requirement already satisfied: pytz>=2017.3 in /usr/local/lib/python3.7/dist-packages (from pandas>=0.24->linearmodels) (2022.4)\n",
            "Requirement already satisfied: six>=1.5 in /usr/local/lib/python3.7/dist-packages (from python-dateutil>=2.7.3->pandas>=0.24->linearmodels) (1.15.0)\n",
            "Collecting typing-extensions>=4.2.0\n",
            "  Downloading typing_extensions-4.4.0-py3-none-any.whl (26 kB)\n",
            "Requirement already satisfied: astor>=0.8 in /usr/local/lib/python3.7/dist-packages (from formulaic->linearmodels) (0.8.1)\n",
            "Requirement already satisfied: wrapt>=1.0 in /usr/local/lib/python3.7/dist-packages (from formulaic->linearmodels) (1.14.1)\n",
            "Collecting graphlib-backport>=1.0.0\n",
            "  Downloading graphlib_backport-1.0.3-py3-none-any.whl (5.1 kB)\n",
            "Requirement already satisfied: cached-property>=1.3.0 in /usr/local/lib/python3.7/dist-packages (from formulaic->linearmodels) (1.5.2)\n",
            "Collecting interface-meta>=1.2.0\n",
            "  Downloading interface_meta-1.3.0-py3-none-any.whl (14 kB)\n",
            "Installing collected packages: typing-extensions, interface-meta, graphlib-backport, pyhdfe, property-cached, mypy-extensions, formulaic, linearmodels\n",
            "  Attempting uninstall: typing-extensions\n",
            "    Found existing installation: typing-extensions 4.1.1\n",
            "    Uninstalling typing-extensions-4.1.1:\n",
            "      Successfully uninstalled typing-extensions-4.1.1\n",
            "\u001b[31mERROR: pip's dependency resolver does not currently take into account all the packages that are installed. This behaviour is the source of the following dependency conflicts.\n",
            "thinc 8.1.4 requires typing-extensions<4.2.0,>=3.7.4.1; python_version < \"3.8\", but you have typing-extensions 4.4.0 which is incompatible.\n",
            "spacy 3.4.1 requires typing-extensions<4.2.0,>=3.7.4; python_version < \"3.8\", but you have typing-extensions 4.4.0 which is incompatible.\n",
            "confection 0.0.3 requires typing-extensions<4.2.0,>=3.7.4.1; python_version < \"3.8\", but you have typing-extensions 4.4.0 which is incompatible.\u001b[0m\n",
            "Successfully installed formulaic-0.5.2 graphlib-backport-1.0.3 interface-meta-1.3.0 linearmodels-4.25 mypy-extensions-0.4.3 property-cached-1.6.4 pyhdfe-0.1.0 typing-extensions-4.4.0\n"
          ]
        }
      ]
    },
    {
      "cell_type": "code",
      "execution_count": null,
      "metadata": {
        "id": "I88tHJREjYFd"
      },
      "outputs": [],
      "source": [
        "##Run the regression above including month and block fixed effects\n",
        "from linearmodels import PanelOLS\n",
        "df_did = df.set_index(['inst1p', 'institu1'])\n",
        "did_deficit = PanelOLS(df_did.index, entity_effects=True, time_effects=True).fit(cov_type = 'clustered', cluster_entity=True)\n",
        "did_deficit"
      ],
      "id": "I88tHJREjYFd"
    },
    {
      "cell_type": "code",
      "execution_count": null,
      "metadata": {
        "id": "soDO-X-UjYFd"
      },
      "outputs": [],
      "source": [
        "##show the results from both regressions"
      ],
      "id": "soDO-X-UjYFd"
    },
    {
      "cell_type": "markdown",
      "metadata": {
        "id": "mepJgx_rjYFd"
      },
      "source": [
        "**Compare and interpret the results**"
      ],
      "id": "mepJgx_rjYFd"
    }
  ],
  "metadata": {
    "kernelspec": {
      "display_name": "Python 3",
      "language": "python",
      "name": "python3"
    },
    "language_info": {
      "codemirror_mode": {
        "name": "ipython",
        "version": 3
      },
      "file_extension": ".py",
      "mimetype": "text/x-python",
      "name": "python",
      "nbconvert_exporter": "python",
      "pygments_lexer": "ipython3",
      "version": "3.8.10"
    },
    "colab": {
      "provenance": []
    }
  },
  "nbformat": 4,
  "nbformat_minor": 5
}